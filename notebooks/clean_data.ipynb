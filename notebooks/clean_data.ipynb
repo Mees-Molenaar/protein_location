{
 "cells": [
  {
   "cell_type": "markdown",
   "metadata": {},
   "source": [
    "# Clean Protein Data"
   ]
  },
  {
   "cell_type": "code",
   "execution_count": 25,
   "metadata": {},
   "outputs": [],
   "source": [
    "import pandas as pd\n",
    "from pathlib import Path\n",
    "import re\n",
    "from datetime import date"
   ]
  },
  {
   "cell_type": "code",
   "execution_count": 2,
   "metadata": {},
   "outputs": [],
   "source": [
    "%reload_ext autoreload\n",
    "%autoreload 2\n",
    "%matplotlib inline"
   ]
  },
  {
   "cell_type": "markdown",
   "metadata": {},
   "source": [
    "Open the data in a dataframe"
   ]
  },
  {
   "cell_type": "code",
   "execution_count": 3,
   "metadata": {},
   "outputs": [
    {
     "data": {
      "text/html": [
       "<div>\n",
       "<style scoped>\n",
       "    .dataframe tbody tr th:only-of-type {\n",
       "        vertical-align: middle;\n",
       "    }\n",
       "\n",
       "    .dataframe tbody tr th {\n",
       "        vertical-align: top;\n",
       "    }\n",
       "\n",
       "    .dataframe thead th {\n",
       "        text-align: right;\n",
       "    }\n",
       "</style>\n",
       "<table border=\"1\" class=\"dataframe\">\n",
       "  <thead>\n",
       "    <tr style=\"text-align: right;\">\n",
       "      <th></th>\n",
       "      <th>Unnamed: 0</th>\n",
       "      <th>Entry</th>\n",
       "      <th>Entry name</th>\n",
       "      <th>Protein names</th>\n",
       "      <th>Gene names</th>\n",
       "      <th>Sequence</th>\n",
       "      <th>Subcellular location [CC]</th>\n",
       "    </tr>\n",
       "  </thead>\n",
       "  <tbody>\n",
       "    <tr>\n",
       "      <th>0</th>\n",
       "      <td>0</td>\n",
       "      <td>O95825</td>\n",
       "      <td>QORL1_HUMAN</td>\n",
       "      <td>Quinone oxidoreductase-like protein 1 (EC 1.-....</td>\n",
       "      <td>CRYZL1 4P11</td>\n",
       "      <td>MKGLYFQQSSTDEEITFVFQEKEDLPVTEDNFVKLQVKACALSQIN...</td>\n",
       "      <td>NaN</td>\n",
       "    </tr>\n",
       "    <tr>\n",
       "      <th>1</th>\n",
       "      <td>1</td>\n",
       "      <td>Q9Y2J0</td>\n",
       "      <td>RP3A_HUMAN</td>\n",
       "      <td>Rabphilin-3A (Exophilin-1)</td>\n",
       "      <td>RPH3A KIAA0985</td>\n",
       "      <td>MTDTVFSNSSNRWMYPSDRPLQSNDKEQLQAGWSVHPGGQPDRQRK...</td>\n",
       "      <td>SUBCELLULAR LOCATION: Cytoplasmic vesicle, sec...</td>\n",
       "    </tr>\n",
       "    <tr>\n",
       "      <th>2</th>\n",
       "      <td>2</td>\n",
       "      <td>Q13905</td>\n",
       "      <td>RPGF1_HUMAN</td>\n",
       "      <td>Rap guanine nucleotide exchange factor 1 (CRK ...</td>\n",
       "      <td>RAPGEF1 GRF2</td>\n",
       "      <td>MDTDSQRSHLSSFTMKLMDKFHSPKIKRTPSKKGKPAEVSVKIPEK...</td>\n",
       "      <td>SUBCELLULAR LOCATION: Early endosome {ECO:0000...</td>\n",
       "    </tr>\n",
       "    <tr>\n",
       "      <th>3</th>\n",
       "      <td>3</td>\n",
       "      <td>Q5TD94</td>\n",
       "      <td>RSH4A_HUMAN</td>\n",
       "      <td>Radial spoke head protein 4 homolog A (Radial ...</td>\n",
       "      <td>RSPH4A RSHL3</td>\n",
       "      <td>MEDSTSPKQEKENQEELGETRRPWEGKTAASPQYSEPESSEPLEAK...</td>\n",
       "      <td>SUBCELLULAR LOCATION: Cytoplasm, cytoskeleton,...</td>\n",
       "    </tr>\n",
       "    <tr>\n",
       "      <th>4</th>\n",
       "      <td>4</td>\n",
       "      <td>Q9HA92</td>\n",
       "      <td>RSAD1_HUMAN</td>\n",
       "      <td>Radical S-adenosyl methionine domain-containin...</td>\n",
       "      <td>RSAD1</td>\n",
       "      <td>MALPGARARGWAAAARAAQRRRRVENAGGSPSPEPAGRRAALYVHW...</td>\n",
       "      <td>SUBCELLULAR LOCATION: Mitochondrion {ECO:00003...</td>\n",
       "    </tr>\n",
       "  </tbody>\n",
       "</table>\n",
       "</div>"
      ],
      "text/plain": [
       "   Unnamed: 0   Entry   Entry name  \\\n",
       "0           0  O95825  QORL1_HUMAN   \n",
       "1           1  Q9Y2J0   RP3A_HUMAN   \n",
       "2           2  Q13905  RPGF1_HUMAN   \n",
       "3           3  Q5TD94  RSH4A_HUMAN   \n",
       "4           4  Q9HA92  RSAD1_HUMAN   \n",
       "\n",
       "                                       Protein names      Gene names  \\\n",
       "0  Quinone oxidoreductase-like protein 1 (EC 1.-....     CRYZL1 4P11   \n",
       "1                         Rabphilin-3A (Exophilin-1)  RPH3A KIAA0985   \n",
       "2  Rap guanine nucleotide exchange factor 1 (CRK ...    RAPGEF1 GRF2   \n",
       "3  Radial spoke head protein 4 homolog A (Radial ...    RSPH4A RSHL3   \n",
       "4  Radical S-adenosyl methionine domain-containin...           RSAD1   \n",
       "\n",
       "                                            Sequence  \\\n",
       "0  MKGLYFQQSSTDEEITFVFQEKEDLPVTEDNFVKLQVKACALSQIN...   \n",
       "1  MTDTVFSNSSNRWMYPSDRPLQSNDKEQLQAGWSVHPGGQPDRQRK...   \n",
       "2  MDTDSQRSHLSSFTMKLMDKFHSPKIKRTPSKKGKPAEVSVKIPEK...   \n",
       "3  MEDSTSPKQEKENQEELGETRRPWEGKTAASPQYSEPESSEPLEAK...   \n",
       "4  MALPGARARGWAAAARAAQRRRRVENAGGSPSPEPAGRRAALYVHW...   \n",
       "\n",
       "                           Subcellular location [CC]  \n",
       "0                                                NaN  \n",
       "1  SUBCELLULAR LOCATION: Cytoplasmic vesicle, sec...  \n",
       "2  SUBCELLULAR LOCATION: Early endosome {ECO:0000...  \n",
       "3  SUBCELLULAR LOCATION: Cytoplasm, cytoskeleton,...  \n",
       "4  SUBCELLULAR LOCATION: Mitochondrion {ECO:00003...  "
      ]
     },
     "execution_count": 3,
     "metadata": {},
     "output_type": "execute_result"
    }
   ],
   "source": [
    "file_path = Path('/home/mees/Desktop/Machine_Learning/subcellular_location/data/raw/protein_data_2021-02-07')\n",
    "df = pd.read_csv(file_path, sep=';')\n",
    "df.head(5)"
   ]
  },
  {
   "cell_type": "markdown",
   "metadata": {},
   "source": [
    "Delete the columns we don't need.\n",
    "I.e: Unnamed, Entry, Entryy name, Protein names, Gene Names"
   ]
  },
  {
   "cell_type": "code",
   "execution_count": 4,
   "metadata": {},
   "outputs": [
    {
     "data": {
      "text/html": [
       "<div>\n",
       "<style scoped>\n",
       "    .dataframe tbody tr th:only-of-type {\n",
       "        vertical-align: middle;\n",
       "    }\n",
       "\n",
       "    .dataframe tbody tr th {\n",
       "        vertical-align: top;\n",
       "    }\n",
       "\n",
       "    .dataframe thead th {\n",
       "        text-align: right;\n",
       "    }\n",
       "</style>\n",
       "<table border=\"1\" class=\"dataframe\">\n",
       "  <thead>\n",
       "    <tr style=\"text-align: right;\">\n",
       "      <th></th>\n",
       "      <th>Sequence</th>\n",
       "      <th>Subcellular location [CC]</th>\n",
       "    </tr>\n",
       "  </thead>\n",
       "  <tbody>\n",
       "    <tr>\n",
       "      <th>0</th>\n",
       "      <td>MKGLYFQQSSTDEEITFVFQEKEDLPVTEDNFVKLQVKACALSQIN...</td>\n",
       "      <td>NaN</td>\n",
       "    </tr>\n",
       "    <tr>\n",
       "      <th>1</th>\n",
       "      <td>MTDTVFSNSSNRWMYPSDRPLQSNDKEQLQAGWSVHPGGQPDRQRK...</td>\n",
       "      <td>SUBCELLULAR LOCATION: Cytoplasmic vesicle, sec...</td>\n",
       "    </tr>\n",
       "    <tr>\n",
       "      <th>2</th>\n",
       "      <td>MDTDSQRSHLSSFTMKLMDKFHSPKIKRTPSKKGKPAEVSVKIPEK...</td>\n",
       "      <td>SUBCELLULAR LOCATION: Early endosome {ECO:0000...</td>\n",
       "    </tr>\n",
       "    <tr>\n",
       "      <th>3</th>\n",
       "      <td>MEDSTSPKQEKENQEELGETRRPWEGKTAASPQYSEPESSEPLEAK...</td>\n",
       "      <td>SUBCELLULAR LOCATION: Cytoplasm, cytoskeleton,...</td>\n",
       "    </tr>\n",
       "    <tr>\n",
       "      <th>4</th>\n",
       "      <td>MALPGARARGWAAAARAAQRRRRVENAGGSPSPEPAGRRAALYVHW...</td>\n",
       "      <td>SUBCELLULAR LOCATION: Mitochondrion {ECO:00003...</td>\n",
       "    </tr>\n",
       "  </tbody>\n",
       "</table>\n",
       "</div>"
      ],
      "text/plain": [
       "                                            Sequence  \\\n",
       "0  MKGLYFQQSSTDEEITFVFQEKEDLPVTEDNFVKLQVKACALSQIN...   \n",
       "1  MTDTVFSNSSNRWMYPSDRPLQSNDKEQLQAGWSVHPGGQPDRQRK...   \n",
       "2  MDTDSQRSHLSSFTMKLMDKFHSPKIKRTPSKKGKPAEVSVKIPEK...   \n",
       "3  MEDSTSPKQEKENQEELGETRRPWEGKTAASPQYSEPESSEPLEAK...   \n",
       "4  MALPGARARGWAAAARAAQRRRRVENAGGSPSPEPAGRRAALYVHW...   \n",
       "\n",
       "                           Subcellular location [CC]  \n",
       "0                                                NaN  \n",
       "1  SUBCELLULAR LOCATION: Cytoplasmic vesicle, sec...  \n",
       "2  SUBCELLULAR LOCATION: Early endosome {ECO:0000...  \n",
       "3  SUBCELLULAR LOCATION: Cytoplasm, cytoskeleton,...  \n",
       "4  SUBCELLULAR LOCATION: Mitochondrion {ECO:00003...  "
      ]
     },
     "execution_count": 4,
     "metadata": {},
     "output_type": "execute_result"
    }
   ],
   "source": [
    "df = df.drop(columns=['Unnamed: 0', 'Entry', 'Entry name', 'Protein names', 'Gene names'], axis=1)\n",
    "df.head(5)"
   ]
  },
  {
   "cell_type": "markdown",
   "metadata": {},
   "source": [
    "Delete Entries with NaN values in Subcellular location [CC]"
   ]
  },
  {
   "cell_type": "code",
   "execution_count": 5,
   "metadata": {},
   "outputs": [
    {
     "name": "stdout",
     "output_type": "stream",
     "text": [
      "Dataframe size before deleting NaN values: 20394.\n",
      "Dataframe size after deleting NaN values: 16750.\n"
     ]
    }
   ],
   "source": [
    "print(f'Dataframe size before deleting NaN values: {len(df)}.')\n",
    "df = df.dropna()\n",
    "print(f'Dataframe size after deleting NaN values: {len(df)}.')"
   ]
  },
  {
   "cell_type": "markdown",
   "metadata": {},
   "source": [
    "The subcellular location column is not nicely formated at this moment. It starts with: 'SUBCELLULAR LOCATION' and some entries have multiple subcellular locations.\n",
    "\n",
    "In this project, it is chosen to count the number of times a location is mentioned in a frequency table. After the frequency table is made. We use this table to determine which location stays, which will be the highest amount in the frequency table."
   ]
  },
  {
   "cell_type": "code",
   "execution_count": 6,
   "metadata": {},
   "outputs": [
    {
     "data": {
      "text/plain": [
       "'SUBCELLULAR LOCATION: Mitochondrion {ECO:0000305}.'"
      ]
     },
     "execution_count": 6,
     "metadata": {},
     "output_type": "execute_result"
    }
   ],
   "source": [
    "df['Subcellular location [CC]'][4]"
   ]
  },
  {
   "cell_type": "markdown",
   "metadata": {},
   "source": [
    "We delete:\n",
    "* 'SUBCELLULAR LOCATION:'\n",
    "* Parts between {}. For this we use regular expression"
   ]
  },
  {
   "cell_type": "code",
   "execution_count": 7,
   "metadata": {},
   "outputs": [],
   "source": [
    "regex = re.compile(r'''\n",
    "(\\{.*\\}) # Remove everything in between brackets.\n",
    "''', re.VERBOSE)"
   ]
  },
  {
   "cell_type": "code",
   "execution_count": 8,
   "metadata": {},
   "outputs": [
    {
     "data": {
      "text/html": [
       "<div>\n",
       "<style scoped>\n",
       "    .dataframe tbody tr th:only-of-type {\n",
       "        vertical-align: middle;\n",
       "    }\n",
       "\n",
       "    .dataframe tbody tr th {\n",
       "        vertical-align: top;\n",
       "    }\n",
       "\n",
       "    .dataframe thead th {\n",
       "        text-align: right;\n",
       "    }\n",
       "</style>\n",
       "<table border=\"1\" class=\"dataframe\">\n",
       "  <thead>\n",
       "    <tr style=\"text-align: right;\">\n",
       "      <th></th>\n",
       "      <th>Sequence</th>\n",
       "      <th>Subcellular location [CC]</th>\n",
       "    </tr>\n",
       "  </thead>\n",
       "  <tbody>\n",
       "    <tr>\n",
       "      <th>1</th>\n",
       "      <td>MTDTVFSNSSNRWMYPSDRPLQSNDKEQLQAGWSVHPGGQPDRQRK...</td>\n",
       "      <td>Cytoplasmic vesicle, secretory vesicle, synapt...</td>\n",
       "    </tr>\n",
       "    <tr>\n",
       "      <th>2</th>\n",
       "      <td>MDTDSQRSHLSSFTMKLMDKFHSPKIKRTPSKKGKPAEVSVKIPEK...</td>\n",
       "      <td>Early endosome .</td>\n",
       "    </tr>\n",
       "    <tr>\n",
       "      <th>3</th>\n",
       "      <td>MEDSTSPKQEKENQEELGETRRPWEGKTAASPQYSEPESSEPLEAK...</td>\n",
       "      <td>Cytoplasm, cytoskeleton, cilium axoneme .</td>\n",
       "    </tr>\n",
       "    <tr>\n",
       "      <th>4</th>\n",
       "      <td>MALPGARARGWAAAARAAQRRRRVENAGGSPSPEPAGRRAALYVHW...</td>\n",
       "      <td>Mitochondrion .</td>\n",
       "    </tr>\n",
       "    <tr>\n",
       "      <th>6</th>\n",
       "      <td>MALLVDRVRGHWRIAAGLLFNLLVSICIVFLNKWIYVYHGFPNMSL...</td>\n",
       "      <td>Membrane .</td>\n",
       "    </tr>\n",
       "  </tbody>\n",
       "</table>\n",
       "</div>"
      ],
      "text/plain": [
       "                                            Sequence  \\\n",
       "1  MTDTVFSNSSNRWMYPSDRPLQSNDKEQLQAGWSVHPGGQPDRQRK...   \n",
       "2  MDTDSQRSHLSSFTMKLMDKFHSPKIKRTPSKKGKPAEVSVKIPEK...   \n",
       "3  MEDSTSPKQEKENQEELGETRRPWEGKTAASPQYSEPESSEPLEAK...   \n",
       "4  MALPGARARGWAAAARAAQRRRRVENAGGSPSPEPAGRRAALYVHW...   \n",
       "6  MALLVDRVRGHWRIAAGLLFNLLVSICIVFLNKWIYVYHGFPNMSL...   \n",
       "\n",
       "                           Subcellular location [CC]  \n",
       "1  Cytoplasmic vesicle, secretory vesicle, synapt...  \n",
       "2                                   Early endosome .  \n",
       "3          Cytoplasm, cytoskeleton, cilium axoneme .  \n",
       "4                                    Mitochondrion .  \n",
       "6                                         Membrane .  "
      ]
     },
     "execution_count": 8,
     "metadata": {},
     "output_type": "execute_result"
    }
   ],
   "source": [
    "# Replace the first part of the string with nothing\n",
    "df['Subcellular location [CC]'] = df['Subcellular location [CC]'].str.replace('SUBCELLULAR LOCATION: ', '')\n",
    "\n",
    "# Remove everything in between brackets ('{', '}')\n",
    "df['Subcellular location [CC]'] = df['Subcellular location [CC]'].str.replace(regex, '')\n",
    "\n",
    "df.head()"
   ]
  },
  {
   "cell_type": "markdown",
   "metadata": {},
   "source": [
    "Add all the possabilities in subcellular location CC in a list to make the frequency table. I see that some are separated by a comma (,) others by a semicolon (;) and others by a dot (.). So we should separate on everything.\n",
    "\n",
    "Therefore, we will also use a regex"
   ]
  },
  {
   "cell_type": "code",
   "execution_count": 9,
   "metadata": {},
   "outputs": [
    {
     "data": {
      "text/plain": [
       "'Cytoplasm, cytoskeleton, cilium axoneme .'"
      ]
     },
     "execution_count": 9,
     "metadata": {},
     "output_type": "execute_result"
    }
   ],
   "source": [
    "df['Subcellular location [CC]'][3]"
   ]
  },
  {
   "cell_type": "code",
   "execution_count": 10,
   "metadata": {},
   "outputs": [],
   "source": [
    "regex = r'([\\w|\\s]*)'"
   ]
  },
  {
   "cell_type": "code",
   "execution_count": 11,
   "metadata": {},
   "outputs": [],
   "source": [
    "# Set up a list to add the locations to\n",
    "all_protein_locations = []\n",
    "\n",
    "# Iterate over the dataframe entries\n",
    "for index, row in df.iterrows():\n",
    "    protein_locations = row['Subcellular location [CC]']\n",
    "    \n",
    "    # Use regex to find all locations which are stored in groups\n",
    "    for match in re.finditer(regex, protein_locations):\n",
    "        \n",
    "        # Don't add to list if the group is empty\n",
    "        if match.group(0).strip():\n",
    "            all_protein_locations.append(match.group(0).strip())"
   ]
  },
  {
   "cell_type": "code",
   "execution_count": 12,
   "metadata": {},
   "outputs": [],
   "source": [
    "def frequency_table(protein_location_list):\n",
    "    # Create a frequency table from a list\n",
    "    frequency = {}\n",
    "    \n",
    "    for location in protein_location_list:\n",
    "        frequency.setdefault(location, 0)\n",
    "        frequency[location] += 1\n",
    "        \n",
    "    return frequency"
   ]
  },
  {
   "cell_type": "code",
   "execution_count": 13,
   "metadata": {},
   "outputs": [],
   "source": [
    "freq_table = frequency_table(all_protein_locations)"
   ]
  },
  {
   "cell_type": "markdown",
   "metadata": {},
   "source": [
    "Now, for each entry we are going to adjust the subcellular location field to the value that is the highest in the frequency table."
   ]
  },
  {
   "cell_type": "code",
   "execution_count": 14,
   "metadata": {},
   "outputs": [],
   "source": [
    "regex = r'([\\w|\\s]*)'"
   ]
  },
  {
   "cell_type": "code",
   "execution_count": 15,
   "metadata": {},
   "outputs": [],
   "source": [
    "# Iterate over the dataframe\n",
    "for index, row in df.iterrows():\n",
    "    most_occurencies = 0\n",
    "    final_location = ''\n",
    "    protein_locations = row['Subcellular location [CC]']\n",
    " \n",
    "    # Use regex to find all locations which are stored in groups\n",
    "    for match in re.finditer(regex, protein_locations):\n",
    "        location = match.group(0).strip()\n",
    "        \n",
    "        # Don't search for the location if the match is empty\n",
    "        if location:\n",
    "        \n",
    "            occurencies = freq_table[location]\n",
    "\n",
    "            if occurencies > most_occurencies:\n",
    "                most_occurencies = occurencies\n",
    "                final_location = location\n",
    "\n",
    "    df.loc[index,'Subcellular location [CC]'] = final_location"
   ]
  },
  {
   "cell_type": "code",
   "execution_count": 16,
   "metadata": {},
   "outputs": [
    {
     "data": {
      "text/html": [
       "<div>\n",
       "<style scoped>\n",
       "    .dataframe tbody tr th:only-of-type {\n",
       "        vertical-align: middle;\n",
       "    }\n",
       "\n",
       "    .dataframe tbody tr th {\n",
       "        vertical-align: top;\n",
       "    }\n",
       "\n",
       "    .dataframe thead th {\n",
       "        text-align: right;\n",
       "    }\n",
       "</style>\n",
       "<table border=\"1\" class=\"dataframe\">\n",
       "  <thead>\n",
       "    <tr style=\"text-align: right;\">\n",
       "      <th></th>\n",
       "      <th>Sequence</th>\n",
       "      <th>Subcellular location [CC]</th>\n",
       "    </tr>\n",
       "  </thead>\n",
       "  <tbody>\n",
       "    <tr>\n",
       "      <th>1</th>\n",
       "      <td>MTDTVFSNSSNRWMYPSDRPLQSNDKEQLQAGWSVHPGGQPDRQRK...</td>\n",
       "      <td>Cytoplasmic vesicle</td>\n",
       "    </tr>\n",
       "    <tr>\n",
       "      <th>2</th>\n",
       "      <td>MDTDSQRSHLSSFTMKLMDKFHSPKIKRTPSKKGKPAEVSVKIPEK...</td>\n",
       "      <td>Early endosome</td>\n",
       "    </tr>\n",
       "    <tr>\n",
       "      <th>3</th>\n",
       "      <td>MEDSTSPKQEKENQEELGETRRPWEGKTAASPQYSEPESSEPLEAK...</td>\n",
       "      <td>Cytoplasm</td>\n",
       "    </tr>\n",
       "    <tr>\n",
       "      <th>4</th>\n",
       "      <td>MALPGARARGWAAAARAAQRRRRVENAGGSPSPEPAGRRAALYVHW...</td>\n",
       "      <td>Mitochondrion</td>\n",
       "    </tr>\n",
       "    <tr>\n",
       "      <th>6</th>\n",
       "      <td>MALLVDRVRGHWRIAAGLLFNLLVSICIVFLNKWIYVYHGFPNMSL...</td>\n",
       "      <td>Membrane</td>\n",
       "    </tr>\n",
       "  </tbody>\n",
       "</table>\n",
       "</div>"
      ],
      "text/plain": [
       "                                            Sequence Subcellular location [CC]\n",
       "1  MTDTVFSNSSNRWMYPSDRPLQSNDKEQLQAGWSVHPGGQPDRQRK...       Cytoplasmic vesicle\n",
       "2  MDTDSQRSHLSSFTMKLMDKFHSPKIKRTPSKKGKPAEVSVKIPEK...            Early endosome\n",
       "3  MEDSTSPKQEKENQEELGETRRPWEGKTAASPQYSEPESSEPLEAK...                 Cytoplasm\n",
       "4  MALPGARARGWAAAARAAQRRRRVENAGGSPSPEPAGRRAALYVHW...             Mitochondrion\n",
       "6  MALLVDRVRGHWRIAAGLLFNLLVSICIVFLNKWIYVYHGFPNMSL...                  Membrane"
      ]
     },
     "execution_count": 16,
     "metadata": {},
     "output_type": "execute_result"
    }
   ],
   "source": [
    "df.head()"
   ]
  },
  {
   "cell_type": "code",
   "execution_count": 17,
   "metadata": {},
   "outputs": [],
   "source": [
    "def df_freq_table(data):\n",
    "    freq = {}\n",
    "    \n",
    "    for index, row in data.iterrows():\n",
    "        location = row['Subcellular location [CC]']\n",
    "        freq.setdefault(location, 0)\n",
    "        freq[location] += 1\n",
    "    \n",
    "    return freq"
   ]
  },
  {
   "cell_type": "code",
   "execution_count": 20,
   "metadata": {},
   "outputs": [],
   "source": [
    "freq_table = df_freq_table(df)"
   ]
  },
  {
   "cell_type": "code",
   "execution_count": 24,
   "metadata": {},
   "outputs": [],
   "source": [
    "total = 0\n",
    "for key, value in freq_table.items():\n",
    "    total += value\n",
    "    \n",
    "assert total == len(df)"
   ]
  },
  {
   "cell_type": "code",
   "execution_count": null,
   "metadata": {},
   "outputs": [],
   "source": []
  }
 ],
 "metadata": {
  "kernelspec": {
   "display_name": "Python 3",
   "language": "python",
   "name": "python3"
  },
  "language_info": {
   "codemirror_mode": {
    "name": "ipython",
    "version": 3
   },
   "file_extension": ".py",
   "mimetype": "text/x-python",
   "name": "python",
   "nbconvert_exporter": "python",
   "pygments_lexer": "ipython3",
   "version": "3.6.9"
  }
 },
 "nbformat": 4,
 "nbformat_minor": 2
}
