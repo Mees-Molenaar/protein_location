{
 "cells": [
  {
   "cell_type": "markdown",
   "metadata": {
    "id": "S11CAvUpf85P"
   },
   "source": [
    "# Pytorch Amin Acid Language Model"
   ]
  },
  {
   "cell_type": "code",
   "execution_count": 1,
   "metadata": {
    "executionInfo": {
     "elapsed": 5901,
     "status": "ok",
     "timestamp": 1618809546238,
     "user": {
      "displayName": "Mees Molenaar",
      "photoUrl": "https://lh3.googleusercontent.com/a-/AOh14GgarFNqCn57JCj8FlX5fjTQ7xWPGveKHLnQQxqvoA=s64",
      "userId": "09138133359710811571"
     },
     "user_tz": -120
    },
    "id": "3EzLqPjqf6n_"
   },
   "outputs": [],
   "source": [
    "import torch\n",
    "import torch.nn as nn\n",
    "import pandas as pd\n",
    "import numpy as np\n",
    "from pathlib import Path\n",
    "import time\n",
    "import pickle\n",
    "from IPython.display import HTML, display"
   ]
  },
  {
   "cell_type": "code",
   "execution_count": 2,
   "metadata": {
    "executionInfo": {
     "elapsed": 5883,
     "status": "ok",
     "timestamp": 1618809546241,
     "user": {
      "displayName": "Mees Molenaar",
      "photoUrl": "https://lh3.googleusercontent.com/a-/AOh14GgarFNqCn57JCj8FlX5fjTQ7xWPGveKHLnQQxqvoA=s64",
      "userId": "09138133359710811571"
     },
     "user_tz": -120
    },
    "id": "8IqrdfcCgPhm"
   },
   "outputs": [],
   "source": [
    "if torch.cuda.is_available():  \n",
    "  dev = \"cuda:0\" \n",
    "else:  \n",
    "  dev = \"cpu\" "
   ]
  },
  {
   "cell_type": "code",
   "execution_count": 3,
   "metadata": {
    "colab": {
     "base_uri": "https://localhost:8080/",
     "height": 35
    },
    "executionInfo": {
     "elapsed": 5299,
     "status": "ok",
     "timestamp": 1618809546248,
     "user": {
      "displayName": "Mees Molenaar",
      "photoUrl": "https://lh3.googleusercontent.com/a-/AOh14GgarFNqCn57JCj8FlX5fjTQ7xWPGveKHLnQQxqvoA=s64",
      "userId": "09138133359710811571"
     },
     "user_tz": -120
    },
    "id": "HQArlylGRmTL",
    "outputId": "31c87863-d8f2-4c45-821c-82baafae45bb"
   },
   "outputs": [
    {
     "data": {
      "application/vnd.google.colaboratory.intrinsic+json": {
       "type": "string"
      },
      "text/plain": [
       "'cuda:0'"
      ]
     },
     "execution_count": 3,
     "metadata": {
      "tags": []
     },
     "output_type": "execute_result"
    }
   ],
   "source": [
    "dev"
   ]
  },
  {
   "cell_type": "code",
   "execution_count": 4,
   "metadata": {
    "colab": {
     "base_uri": "https://localhost:8080/"
    },
    "executionInfo": {
     "elapsed": 5285,
     "status": "ok",
     "timestamp": 1618809546250,
     "user": {
      "displayName": "Mees Molenaar",
      "photoUrl": "https://lh3.googleusercontent.com/a-/AOh14GgarFNqCn57JCj8FlX5fjTQ7xWPGveKHLnQQxqvoA=s64",
      "userId": "09138133359710811571"
     },
     "user_tz": -120
    },
    "id": "tG_svVhvhRH0",
    "outputId": "5e170e8f-eea3-492b-d8ec-f0706d713974"
   },
   "outputs": [
    {
     "data": {
      "text/plain": [
       "<torch._C.Generator at 0x7effcbacb8f0>"
      ]
     },
     "execution_count": 4,
     "metadata": {
      "tags": []
     },
     "output_type": "execute_result"
    }
   ],
   "source": [
    "torch.manual_seed(42)"
   ]
  },
  {
   "cell_type": "markdown",
   "metadata": {
    "id": "0V7XsFdhpFrI"
   },
   "source": [
    "Add nice css for my table"
   ]
  },
  {
   "cell_type": "code",
   "execution_count": 5,
   "metadata": {
    "colab": {
     "base_uri": "https://localhost:8080/",
     "height": 17
    },
    "executionInfo": {
     "elapsed": 5262,
     "status": "ok",
     "timestamp": 1618809546251,
     "user": {
      "displayName": "Mees Molenaar",
      "photoUrl": "https://lh3.googleusercontent.com/a-/AOh14GgarFNqCn57JCj8FlX5fjTQ7xWPGveKHLnQQxqvoA=s64",
      "userId": "09138133359710811571"
     },
     "user_tz": -120
    },
    "id": "efGtVWAHpFG-",
    "outputId": "db16cd1c-cb5e-4ed7-c24f-cd1e25fc2c38"
   },
   "outputs": [
    {
     "data": {
      "text/html": [
       "\n",
       "<style>\n",
       "table, th, td {\n",
       "  border: 1px solid black;\n",
       "}\n",
       "</style>\n"
      ],
      "text/plain": [
       "<IPython.core.display.HTML object>"
      ]
     },
     "execution_count": 5,
     "metadata": {
      "tags": []
     },
     "output_type": "execute_result"
    }
   ],
   "source": [
    "HTML(\"\"\"\n",
    "<style>\n",
    "table, th, td {\n",
    "  border: 1px solid black;\n",
    "}\n",
    "</style>\n",
    "\"\"\")"
   ]
  },
  {
   "cell_type": "markdown",
   "metadata": {
    "id": "AzMtjrTjjFG1"
   },
   "source": [
    "## Load the data"
   ]
  },
  {
   "cell_type": "code",
   "execution_count": 6,
   "metadata": {
    "colab": {
     "base_uri": "https://localhost:8080/"
    },
    "executionInfo": {
     "elapsed": 50397,
     "status": "ok",
     "timestamp": 1618809592457,
     "user": {
      "displayName": "Mees Molenaar",
      "photoUrl": "https://lh3.googleusercontent.com/a-/AOh14GgarFNqCn57JCj8FlX5fjTQ7xWPGveKHLnQQxqvoA=s64",
      "userId": "09138133359710811571"
     },
     "user_tz": -120
    },
    "id": "y64UdmtKMxeK",
    "outputId": "7ad34791-7c0c-4945-8c2d-7f66346273db"
   },
   "outputs": [
    {
     "name": "stdout",
     "output_type": "stream",
     "text": [
      "Mounted at content/\n"
     ]
    }
   ],
   "source": [
    "from google.colab import drive\n",
    "from pathlib import Path\n",
    "\n",
    "\n",
    "drive.mount('content/', force_remount=True)\n",
    "base = Path('/content/content/My Drive/')"
   ]
  },
  {
   "cell_type": "code",
   "execution_count": 15,
   "metadata": {
    "colab": {
     "base_uri": "https://localhost:8080/",
     "height": 195
    },
    "executionInfo": {
     "elapsed": 3126,
     "status": "ok",
     "timestamp": 1618809691170,
     "user": {
      "displayName": "Mees Molenaar",
      "photoUrl": "https://lh3.googleusercontent.com/a-/AOh14GgarFNqCn57JCj8FlX5fjTQ7xWPGveKHLnQQxqvoA=s64",
      "userId": "09138133359710811571"
     },
     "user_tz": -120
    },
    "id": "Rhajs1ZZjH-D",
    "outputId": "f83baf48-8f81-4a8a-e8b0-a5d73f6b4f12"
   },
   "outputs": [
    {
     "data": {
      "text/html": [
       "<div>\n",
       "<style scoped>\n",
       "    .dataframe tbody tr th:only-of-type {\n",
       "        vertical-align: middle;\n",
       "    }\n",
       "\n",
       "    .dataframe tbody tr th {\n",
       "        vertical-align: top;\n",
       "    }\n",
       "\n",
       "    .dataframe thead th {\n",
       "        text-align: right;\n",
       "    }\n",
       "</style>\n",
       "<table border=\"1\" class=\"dataframe\">\n",
       "  <thead>\n",
       "    <tr style=\"text-align: right;\">\n",
       "      <th></th>\n",
       "      <th>Entry</th>\n",
       "      <th>Entry name</th>\n",
       "      <th>Sequence</th>\n",
       "    </tr>\n",
       "  </thead>\n",
       "  <tbody>\n",
       "    <tr>\n",
       "      <th>0</th>\n",
       "      <td>P68307</td>\n",
       "      <td>NU3M_BALMU</td>\n",
       "      <td>MNLLLTLLTNTTLALLLVFIAFWLPQLNVYAEKTSPYECGFDPMGS...</td>\n",
       "    </tr>\n",
       "    <tr>\n",
       "      <th>1</th>\n",
       "      <td>P0CY61</td>\n",
       "      <td>O162_CONBU</td>\n",
       "      <td>MKLTCVLIIAVLFLTAITADDSRDKQVYRAVGLIDKMRRIRASEGC...</td>\n",
       "    </tr>\n",
       "    <tr>\n",
       "      <th>2</th>\n",
       "      <td>Q0VIL3</td>\n",
       "      <td>OTOMP_DANRE</td>\n",
       "      <td>MDLPGGHLAVVLFLFVLVSMSTENNIIRWCTVSDAEDQKCLDLAGN...</td>\n",
       "    </tr>\n",
       "    <tr>\n",
       "      <th>3</th>\n",
       "      <td>A1W9I4</td>\n",
       "      <td>NUSB_ACISJ</td>\n",
       "      <td>MTDSTHPTPSARPPRQPRTGTTGTGARKAGSKSGRSRAREFALQAL...</td>\n",
       "    </tr>\n",
       "    <tr>\n",
       "      <th>4</th>\n",
       "      <td>Q8DBX0</td>\n",
       "      <td>OMPU_VIBVU</td>\n",
       "      <td>MKKTLIALSVSAAAVATGVNAAELYNQDGTSLDMGGRAEARLSMKD...</td>\n",
       "    </tr>\n",
       "  </tbody>\n",
       "</table>\n",
       "</div>"
      ],
      "text/plain": [
       "    Entry   Entry name                                           Sequence\n",
       "0  P68307   NU3M_BALMU  MNLLLTLLTNTTLALLLVFIAFWLPQLNVYAEKTSPYECGFDPMGS...\n",
       "1  P0CY61   O162_CONBU  MKLTCVLIIAVLFLTAITADDSRDKQVYRAVGLIDKMRRIRASEGC...\n",
       "2  Q0VIL3  OTOMP_DANRE  MDLPGGHLAVVLFLFVLVSMSTENNIIRWCTVSDAEDQKCLDLAGN...\n",
       "3  A1W9I4   NUSB_ACISJ  MTDSTHPTPSARPPRQPRTGTTGTGARKAGSKSGRSRAREFALQAL...\n",
       "4  Q8DBX0   OMPU_VIBVU  MKKTLIALSVSAAAVATGVNAAELYNQDGTSLDMGGRAEARLSMKD..."
      ]
     },
     "execution_count": 15,
     "metadata": {
      "tags": []
     },
     "output_type": "execute_result"
    }
   ],
   "source": [
    "data_file = Path('/content/content/MyDrive/subcellular-location/v2/LM_data_2021-03-11.csv')\n",
    "df = pd.read_csv(data_file, sep=';')\n",
    "df.head()"
   ]
  },
  {
   "cell_type": "code",
   "execution_count": 16,
   "metadata": {
    "colab": {
     "base_uri": "https://localhost:8080/",
     "height": 195
    },
    "executionInfo": {
     "elapsed": 2566,
     "status": "ok",
     "timestamp": 1618809691175,
     "user": {
      "displayName": "Mees Molenaar",
      "photoUrl": "https://lh3.googleusercontent.com/a-/AOh14GgarFNqCn57JCj8FlX5fjTQ7xWPGveKHLnQQxqvoA=s64",
      "userId": "09138133359710811571"
     },
     "user_tz": -120
    },
    "id": "tBUVBC9foiCs",
    "outputId": "3d9f0e55-4e37-424f-bc32-3fa5c0ed11cd"
   },
   "outputs": [
    {
     "data": {
      "text/html": [
       "<div>\n",
       "<style scoped>\n",
       "    .dataframe tbody tr th:only-of-type {\n",
       "        vertical-align: middle;\n",
       "    }\n",
       "\n",
       "    .dataframe tbody tr th {\n",
       "        vertical-align: top;\n",
       "    }\n",
       "\n",
       "    .dataframe thead th {\n",
       "        text-align: right;\n",
       "    }\n",
       "</style>\n",
       "<table border=\"1\" class=\"dataframe\">\n",
       "  <thead>\n",
       "    <tr style=\"text-align: right;\">\n",
       "      <th></th>\n",
       "      <th>Sequence</th>\n",
       "    </tr>\n",
       "  </thead>\n",
       "  <tbody>\n",
       "    <tr>\n",
       "      <th>0</th>\n",
       "      <td>MNLLLTLLTNTTLALLLVFIAFWLPQLNVYAEKTSPYECGFDPMGS...</td>\n",
       "    </tr>\n",
       "    <tr>\n",
       "      <th>1</th>\n",
       "      <td>MKLTCVLIIAVLFLTAITADDSRDKQVYRAVGLIDKMRRIRASEGC...</td>\n",
       "    </tr>\n",
       "    <tr>\n",
       "      <th>2</th>\n",
       "      <td>MDLPGGHLAVVLFLFVLVSMSTENNIIRWCTVSDAEDQKCLDLAGN...</td>\n",
       "    </tr>\n",
       "    <tr>\n",
       "      <th>3</th>\n",
       "      <td>MTDSTHPTPSARPPRQPRTGTTGTGARKAGSKSGRSRAREFALQAL...</td>\n",
       "    </tr>\n",
       "    <tr>\n",
       "      <th>4</th>\n",
       "      <td>MKKTLIALSVSAAAVATGVNAAELYNQDGTSLDMGGRAEARLSMKD...</td>\n",
       "    </tr>\n",
       "  </tbody>\n",
       "</table>\n",
       "</div>"
      ],
      "text/plain": [
       "                                            Sequence\n",
       "0  MNLLLTLLTNTTLALLLVFIAFWLPQLNVYAEKTSPYECGFDPMGS...\n",
       "1  MKLTCVLIIAVLFLTAITADDSRDKQVYRAVGLIDKMRRIRASEGC...\n",
       "2  MDLPGGHLAVVLFLFVLVSMSTENNIIRWCTVSDAEDQKCLDLAGN...\n",
       "3  MTDSTHPTPSARPPRQPRTGTTGTGARKAGSKSGRSRAREFALQAL...\n",
       "4  MKKTLIALSVSAAAVATGVNAAELYNQDGTSLDMGGRAEARLSMKD..."
      ]
     },
     "execution_count": 16,
     "metadata": {
      "tags": []
     },
     "output_type": "execute_result"
    }
   ],
   "source": [
    "df.drop(['Entry', 'Entry name'], axis = 1, inplace=True)\n",
    "df.head()"
   ]
  },
  {
   "cell_type": "markdown",
   "metadata": {
    "id": "ny7DQRNqg3CE"
   },
   "source": [
    "## Tokenize the data"
   ]
  },
  {
   "cell_type": "code",
   "execution_count": 17,
   "metadata": {
    "executionInfo": {
     "elapsed": 1039,
     "status": "ok",
     "timestamp": 1618809691177,
     "user": {
      "displayName": "Mees Molenaar",
      "photoUrl": "https://lh3.googleusercontent.com/a-/AOh14GgarFNqCn57JCj8FlX5fjTQ7xWPGveKHLnQQxqvoA=s64",
      "userId": "09138133359710811571"
     },
     "user_tz": -120
    },
    "id": "gQGGZRg_hJsn"
   },
   "outputs": [],
   "source": [
    "# Set-up numpy generator for random numbers\n",
    "random_number_generator = np.random.default_rng(seed=42)\n",
    "KMER_SIZE = 3"
   ]
  },
  {
   "cell_type": "code",
   "execution_count": 18,
   "metadata": {
    "executionInfo": {
     "elapsed": 418,
     "status": "ok",
     "timestamp": 1618809691179,
     "user": {
      "displayName": "Mees Molenaar",
      "photoUrl": "https://lh3.googleusercontent.com/a-/AOh14GgarFNqCn57JCj8FlX5fjTQ7xWPGveKHLnQQxqvoA=s64",
      "userId": "09138133359710811571"
     },
     "user_tz": -120
    },
    "id": "TgddkaKhhP8D"
   },
   "outputs": [],
   "source": [
    "# Tokenize the protein sequence (or any sequence) in kmers.\n",
    "def tokenize(protein_seqs, kmer_sz):\n",
    "    kmers = set()\n",
    "    # Loop over protein sequences\n",
    "    for protein_seq in protein_seqs:\n",
    "        # Loop over the whole sequence\n",
    "        for i in range(len(protein_seq) - (kmer_sz - 1)):\n",
    "            # Add kmers to the set, thus only unique kmers will remain\n",
    "            kmers.add(protein_seq[i: i + kmer_sz])\n",
    "            \n",
    "    # Map kmers for one hot-encoding\n",
    "    kmer_to_id = dict()\n",
    "    id_to_kmer = dict()\n",
    "    \n",
    "    for ind, kmer in enumerate(kmers):\n",
    "        kmer_to_id[kmer] = ind\n",
    "        id_to_kmer[ind] = kmer\n",
    "        \n",
    "    vocab_sz = len(kmers)\n",
    "    \n",
    "    assert vocab_sz == len(kmer_to_id.keys())\n",
    "    \n",
    "    # Tokenize the protein sequence to integers\n",
    "    tokenized = []\n",
    "    for protein_seq in protein_seqs:\n",
    "        sequence = []\n",
    "        for i in  range(len(protein_seq) - (kmer_sz -1)):\n",
    "            # Convert kmer to integer\n",
    "            kmer = protein_seq[i: i + kmer_sz]\n",
    "            sequence.append(kmer_to_id[kmer])\n",
    "            \n",
    "        tokenized.append(sequence)\n",
    "            \n",
    "    \n",
    "    return tokenized, vocab_sz, kmer_to_id, id_to_kmer"
   ]
  },
  {
   "cell_type": "code",
   "execution_count": 19,
   "metadata": {
    "executionInfo": {
     "elapsed": 28341,
     "status": "ok",
     "timestamp": 1618809720133,
     "user": {
      "displayName": "Mees Molenaar",
      "photoUrl": "https://lh3.googleusercontent.com/a-/AOh14GgarFNqCn57JCj8FlX5fjTQ7xWPGveKHLnQQxqvoA=s64",
      "userId": "09138133359710811571"
     },
     "user_tz": -120
    },
    "id": "v6RSsp1yhoZk"
   },
   "outputs": [],
   "source": [
    "# Tokenize the protein sequence\n",
    "tokenized_seqs, vocab_sz, kmer_to_id, id_to_kmer = tokenize(df['Sequence'], KMER_SIZE)"
   ]
  },
  {
   "cell_type": "code",
   "execution_count": 20,
   "metadata": {
    "colab": {
     "base_uri": "https://localhost:8080/"
    },
    "executionInfo": {
     "elapsed": 27549,
     "status": "ok",
     "timestamp": 1618809720139,
     "user": {
      "displayName": "Mees Molenaar",
      "photoUrl": "https://lh3.googleusercontent.com/a-/AOh14GgarFNqCn57JCj8FlX5fjTQ7xWPGveKHLnQQxqvoA=s64",
      "userId": "09138133359710811571"
     },
     "user_tz": -120
    },
    "id": "oDknJFgyhsGe",
    "outputId": "36000a87-5361-4ea4-dc5d-32ca376b26cf"
   },
   "outputs": [
    {
     "data": {
      "text/plain": [
       "9317"
      ]
     },
     "execution_count": 20,
     "metadata": {
      "tags": []
     },
     "output_type": "execute_result"
    }
   ],
   "source": [
    "vocab_sz"
   ]
  },
  {
   "cell_type": "code",
   "execution_count": 21,
   "metadata": {
    "colab": {
     "base_uri": "https://localhost:8080/"
    },
    "executionInfo": {
     "elapsed": 25402,
     "status": "ok",
     "timestamp": 1618809720140,
     "user": {
      "displayName": "Mees Molenaar",
      "photoUrl": "https://lh3.googleusercontent.com/a-/AOh14GgarFNqCn57JCj8FlX5fjTQ7xWPGveKHLnQQxqvoA=s64",
      "userId": "09138133359710811571"
     },
     "user_tz": -120
    },
    "id": "T0FGm4cBhtvA",
    "outputId": "7bd3d4b0-a036-402b-92e1-1d88250b72b9"
   },
   "outputs": [
    {
     "data": {
      "text/plain": [
       "[1807, 4997, 1236, 1271, 292, 4018, 1271, 652, 9129, 7560]"
      ]
     },
     "execution_count": 21,
     "metadata": {
      "tags": []
     },
     "output_type": "execute_result"
    }
   ],
   "source": [
    "tokenized_seqs[0][:10]"
   ]
  },
  {
   "cell_type": "code",
   "execution_count": 22,
   "metadata": {
    "executionInfo": {
     "elapsed": 31121,
     "status": "ok",
     "timestamp": 1618809726924,
     "user": {
      "displayName": "Mees Molenaar",
      "photoUrl": "https://lh3.googleusercontent.com/a-/AOh14GgarFNqCn57JCj8FlX5fjTQ7xWPGveKHLnQQxqvoA=s64",
      "userId": "09138133359710811571"
     },
     "user_tz": -120
    },
    "id": "1UQoexMBhweb"
   },
   "outputs": [],
   "source": [
    "data = []\n",
    "for seq in tokenized_seqs:\n",
    "    for kmer in seq:\n",
    "        data.append(kmer)"
   ]
  },
  {
   "cell_type": "markdown",
   "metadata": {
    "id": "8bFDTL1rh0so"
   },
   "source": [
    "## Dataset"
   ]
  },
  {
   "cell_type": "code",
   "execution_count": 8,
   "metadata": {
    "executionInfo": {
     "elapsed": 1028,
     "status": "ok",
     "timestamp": 1618809605228,
     "user": {
      "displayName": "Mees Molenaar",
      "photoUrl": "https://lh3.googleusercontent.com/a-/AOh14GgarFNqCn57JCj8FlX5fjTQ7xWPGveKHLnQQxqvoA=s64",
      "userId": "09138133359710811571"
     },
     "user_tz": -120
    },
    "id": "KThomvMoh3YI"
   },
   "outputs": [],
   "source": [
    "class AminoLMDataset(torch.utils.data.Dataset):\n",
    "    def __init__(self, data, seq_len):\n",
    "        self.data = torch.Tensor(data)\n",
    "        \n",
    "    def __len__(self):\n",
    "        return len(self.data)\n",
    "    \n",
    "    def __getitem__(self, idx):\n",
    "        if torch.is_tensor(idx):\n",
    "            idx = idx.tolist()\n",
    "            \n",
    "        xs = torch.LongTensor(data[idx: idx + seq_len])\n",
    "        targets = data[idx + 1: idx + seq_len + 1]\n",
    "\n",
    "        ys = []\n",
    "\n",
    "        for target in targets:\n",
    "          y = torch.tensor(target)\n",
    "          ys.append(y)\n",
    "\n",
    "        ys = torch.stack(ys)\n",
    "\n",
    "        ys = ys.to(dev)\n",
    "        xs = xs.to(dev) \n",
    "    \n",
    "        return xs, ys"
   ]
  },
  {
   "cell_type": "markdown",
   "metadata": {
    "id": "CvWU-tRBim7d"
   },
   "source": [
    "## Building the LM Model"
   ]
  },
  {
   "cell_type": "code",
   "execution_count": 9,
   "metadata": {
    "executionInfo": {
     "elapsed": 772,
     "status": "ok",
     "timestamp": 1618809605884,
     "user": {
      "displayName": "Mees Molenaar",
      "photoUrl": "https://lh3.googleusercontent.com/a-/AOh14GgarFNqCn57JCj8FlX5fjTQ7xWPGveKHLnQQxqvoA=s64",
      "userId": "09138133359710811571"
     },
     "user_tz": -120
    },
    "id": "ql5EKTgciqZ5"
   },
   "outputs": [],
   "source": [
    "# Hyperparameters\n",
    "emb_dim = 400 # Embeddding dimension\n",
    "hid_sz = 1150 # Hidden size\n",
    "num_layers = 3 # Number of LSTM layers stacked together\n",
    "seq_len = num_layers\n",
    "bs = 8\n",
    "\n",
    "# Dropout parameters\n",
    "\n",
    "embed_p = 0.1 # Dropout probability on the embedding\n",
    "hidden_p = 0.3 # Dropout probability on hidden-to-hidden weight matrices\n",
    "# Dropout tussen de inputs van de LSTMs moet ik er nog in bouwen\n",
    "input_p = 0.3 # Dropout probablity on the LSTM input between LSTMS\n",
    "weight_p = 0.5 # Dropout probability on LSTM-to-LSTM weight matrices"
   ]
  },
  {
   "cell_type": "code",
   "execution_count": 10,
   "metadata": {
    "executionInfo": {
     "elapsed": 1264,
     "status": "ok",
     "timestamp": 1618809608079,
     "user": {
      "displayName": "Mees Molenaar",
      "photoUrl": "https://lh3.googleusercontent.com/a-/AOh14GgarFNqCn57JCj8FlX5fjTQ7xWPGveKHLnQQxqvoA=s64",
      "userId": "09138133359710811571"
     },
     "user_tz": -120
    },
    "id": "zMwhEMnsMh8J"
   },
   "outputs": [],
   "source": [
    "class EmbeddingDropout(torch.nn.Module):\n",
    "    \"Apply dropout to an Embedding with probability emp_p\"\n",
    "\n",
    "    def __init__(self, emb_p=0):\n",
    "        super(EmbeddingDropout, self).__init__()\n",
    "        \n",
    "        self.emb_p = emb_p\n",
    "\n",
    "    def forward(self, inp):\n",
    "       \n",
    "        drop = torch.nn.Dropout(self.emb_p)\n",
    "        placeholder = torch.ones((inp.size(0), 1)).to(dev)\n",
    "        mask = drop(placeholder)      \n",
    "        out = inp * mask\n",
    "        \n",
    "        return out"
   ]
  },
  {
   "cell_type": "code",
   "execution_count": 11,
   "metadata": {
    "executionInfo": {
     "elapsed": 1271,
     "status": "ok",
     "timestamp": 1618809610568,
     "user": {
      "displayName": "Mees Molenaar",
      "photoUrl": "https://lh3.googleusercontent.com/a-/AOh14GgarFNqCn57JCj8FlX5fjTQ7xWPGveKHLnQQxqvoA=s64",
      "userId": "09138133359710811571"
     },
     "user_tz": -120
    },
    "id": "anf5XZoS6h16"
   },
   "outputs": [],
   "source": [
    "class WeightDropout(torch.nn.Module):\n",
    "  \"Apply dropout to LSTM's hidden-hidden weights\"\n",
    "    \n",
    "  def __init__(self, module, weight_p):\n",
    "    super(WeightDropout, self).__init__()\n",
    "    self.module = module\n",
    "    self.weight_p = weight_p\n",
    "\n",
    "    # Save the name of the layer weights in a list\n",
    "    num_layers = module.num_layers\n",
    "    layer_base_name = 'weight_hh_l'      \n",
    "    self.layer_weights = [layer_base_name + str(i) for i in range(num_layers)]\n",
    "\n",
    "    # Make a copy of the weights in weightname_raw\n",
    "    for weight in self.layer_weights:\n",
    "\n",
    "      w = getattr(self.module, weight)\n",
    "      del module._parameters[weight]\n",
    "      self.module.register_parameter(f'{weight}_raw', torch.nn.Parameter(w))\n",
    "\n",
    "  def _setweights(self):\n",
    "    \"Apply dropout to the raw weights\"\n",
    "    for weight in self.layer_weights:\n",
    "      raw_w = getattr(self.module, f'{weight}_raw')\n",
    "      if self.training:\n",
    "          w = torch.nn.functional.dropout(raw_w, p=self.weight_p)\n",
    "      else:\n",
    "          w = raw_w.clone()\n",
    "      setattr(self.module, weight, w)\n",
    "    \n",
    "  def forward(self, *args):\n",
    "    self._setweights()\n",
    "    return self.module(*args)"
   ]
  },
  {
   "cell_type": "code",
   "execution_count": 38,
   "metadata": {
    "executionInfo": {
     "elapsed": 502,
     "status": "ok",
     "timestamp": 1618810023680,
     "user": {
      "displayName": "Mees Molenaar",
      "photoUrl": "https://lh3.googleusercontent.com/a-/AOh14GgarFNqCn57JCj8FlX5fjTQ7xWPGveKHLnQQxqvoA=s64",
      "userId": "09138133359710811571"
     },
     "user_tz": -120
    },
    "id": "o9dLYlNPi53-"
   },
   "outputs": [],
   "source": [
    "class AWD_LSTM(torch.nn.Module):\n",
    "    def __init__(self, num_layers, vocab_sz, emb_dim, hid_sz, hidden_p, embed_p, input_p, weight_p, batch_sz = 1):\n",
    "        super(AWD_LSTM, self).__init__()\n",
    "        \n",
    "        # Embedding with droput\n",
    "        self.encoder = torch.nn.Embedding(vocab_sz, emb_dim)\n",
    "        self.emb_drop = EmbeddingDropout(emb_p=embed_p)\n",
    "\n",
    "        \n",
    "        # Dropouts on the inputs and the hidden layers\n",
    "        self.input_dp = torch.nn.Dropout(p=input_p)\n",
    "        self.hid_dp = torch.nn.Dropout(p=hidden_p)\n",
    "\n",
    "        # Create a list of lstm layers with wieghtdropout\n",
    "        self.lstms = []\n",
    "        for i in range(num_layers):\n",
    "            self.lstms.append(\n",
    "                WeightDropout(nn.LSTM(input_size=emb_dim, hidden_size=hid_sz, num_layers=1), weight_p))\n",
    "        self.lstms = nn.ModuleList(self.lstms)\n",
    "\n",
    "        # Save all variables        \n",
    "        self.num_layers = num_layers\n",
    "        self.vocab_sz = vocab_sz\n",
    "        self.emb_dim = emb_dim\n",
    "        self.hid_sz = hid_sz\n",
    "        self.hidden_p = hidden_p\n",
    "        self.embed_p = embed_p\n",
    "        self.input_p = input_p\n",
    "        self.weight_p = weight_p\n",
    "        self.batch_sz = batch_sz\n",
    "\n",
    "        # Initialize hidden layers        \n",
    "        self.reset_hidden()\n",
    "        self.last_hiddens = (self.hidden_state, self.cell_state)\n",
    "                \n",
    "    def forward(self, xs):\n",
    "        \"\"\"Forward pass AWD-LSTM\"\"\" \n",
    "        \n",
    "        bs, sl = xs.shape\n",
    "\n",
    "        ys = []\n",
    "        \n",
    "        hiddens = self.last_hiddens\n",
    "\n",
    "        hidden_states = [hiddens]\n",
    "\n",
    "        for i, lstm in enumerate(self.lstms):\n",
    "            \n",
    "          # Embed the input and add dropout to it  \n",
    "          x = xs[:, i]\n",
    "          embed = self.encoder(x)\n",
    "          embed_dp = self.emb_drop(embed)\n",
    "            \n",
    "          # Again add dropout, this feels like doing dropout on dropout, I dont know if it is worth\n",
    "          \n",
    "          input_dp = self.input_dp(embed_dp)\n",
    "\n",
    "          hiddens_dp = []\n",
    "\n",
    "          for hidden_state in hidden_states[i]:\n",
    "            hiddens_dp.append(self.hid_dp(hidden_state))\n",
    "\n",
    "          hiddens_dp = tuple(hiddens_dp)\n",
    "        \n",
    "          output, hiddens = lstm(input_dp.view(1, bs, -1), hiddens_dp) \n",
    "\n",
    "          det_hiddens = []\n",
    "\n",
    "          for hidden in hiddens:\n",
    "            det_hiddens.append(hidden.detach())\n",
    "\n",
    "          det_hiddens = tuple(det_hiddens)\n",
    "\n",
    "          hidden_states.append(det_hiddens)\n",
    "                 \n",
    "          y = output.view(bs, 1, -1)\n",
    "\n",
    "          ys.append(y)\n",
    "        \n",
    "\n",
    "        y = torch.stack(ys, dim=0)\n",
    "        \n",
    "        y = y.view(bs, sl, -1)\n",
    "        \n",
    "        self.last_hiddens = hidden_states[-1]\n",
    "        \n",
    "        return y\n",
    "    \n",
    "    def reset_hidden(self):\n",
    "        self.hidden_state = torch.zeros((1, self.batch_sz, self.hid_sz)).to(dev)\n",
    "        self.cell_state = torch.zeros((1, self.batch_sz, self.hid_sz)).to(dev)\n",
    "        self.last_hiddens = (self.hidden_state, self.cell_state)\n",
    "    \n",
    "    def freeze_to(self , n):\n",
    "        \n",
    "        params_to_freeze = n * 4 + 1 # Since each LSTM layer has 4 parameters plus 1 to also freeze the encoder\n",
    "        \n",
    "        total_params = len(list(self.parameters()))\n",
    "        \n",
    "        for i, parameter in enumerate(self.parameters()):\n",
    "            parameter.requires_grad = True\n",
    "            \n",
    "            if i < params_to_freeze:\n",
    "                parameter.requires_grad = False\n",
    "            \n",
    "            \n",
    "        for name, parameter in self.named_parameters():\n",
    "            print(name)\n",
    "            print(parameter.requires_grad)"
   ]
  },
  {
   "cell_type": "code",
   "execution_count": 39,
   "metadata": {
    "executionInfo": {
     "elapsed": 483,
     "status": "ok",
     "timestamp": 1618810028395,
     "user": {
      "displayName": "Mees Molenaar",
      "photoUrl": "https://lh3.googleusercontent.com/a-/AOh14GgarFNqCn57JCj8FlX5fjTQ7xWPGveKHLnQQxqvoA=s64",
      "userId": "09138133359710811571"
     },
     "user_tz": -120
    },
    "id": "1HIy3EUPMh8L"
   },
   "outputs": [],
   "source": [
    "class ProteinLM(torch.nn.Module):\n",
    "    def __init__(self, num_layers, vocab_sz, emb_dim, hid_sz, hidden_p, embed_p, input_p, weight_p, batch_sz = 1):\n",
    "        super(ProteinLM, self).__init__()\n",
    "        \n",
    "        self.encoder = AWD_LSTM(num_layers, vocab_sz, emb_dim, hid_sz, hidden_p, \n",
    "                                embed_p, input_p, weight_p, batch_sz=batch_sz)\n",
    "        self.decoder = torch.nn.Linear(hid_sz, vocab_sz)\n",
    "        \n",
    "    def forward(self, inp):\n",
    "        \n",
    "        encoded = self.encoder(inp)\n",
    "        \n",
    "        y = self.decoder(encoded)\n",
    "        \n",
    "        return y \n",
    "    \n",
    "    def freeze_to(self, n):\n",
    "        self.encoder.freeze_to(n)\n",
    "        \n",
    "    def reset_hidden(self):\n",
    "        self.encoder.reset_hidden()"
   ]
  },
  {
   "cell_type": "markdown",
   "metadata": {
    "id": "H6D6TH-7k8VV"
   },
   "source": [
    "## Create AWD_LSTM model"
   ]
  },
  {
   "cell_type": "code",
   "execution_count": 40,
   "metadata": {
    "colab": {
     "base_uri": "https://localhost:8080/"
    },
    "executionInfo": {
     "elapsed": 752,
     "status": "ok",
     "timestamp": 1618810030236,
     "user": {
      "displayName": "Mees Molenaar",
      "photoUrl": "https://lh3.googleusercontent.com/a-/AOh14GgarFNqCn57JCj8FlX5fjTQ7xWPGveKHLnQQxqvoA=s64",
      "userId": "09138133359710811571"
     },
     "user_tz": -120
    },
    "id": "5_KF4fBAjtyL",
    "outputId": "67c47107-3d85-4fb9-9f35-426516fee43b"
   },
   "outputs": [
    {
     "data": {
      "text/plain": [
       "ProteinLM(\n",
       "  (encoder): AWD_LSTM(\n",
       "    (encoder): Embedding(9317, 400)\n",
       "    (emb_drop): EmbeddingDropout()\n",
       "    (input_dp): Dropout(p=0.3, inplace=False)\n",
       "    (hid_dp): Dropout(p=0.3, inplace=False)\n",
       "    (lstms): ModuleList(\n",
       "      (0): WeightDropout(\n",
       "        (module): LSTM(400, 1150)\n",
       "      )\n",
       "      (1): WeightDropout(\n",
       "        (module): LSTM(400, 1150)\n",
       "      )\n",
       "      (2): WeightDropout(\n",
       "        (module): LSTM(400, 1150)\n",
       "      )\n",
       "    )\n",
       "  )\n",
       "  (decoder): Linear(in_features=1150, out_features=9317, bias=True)\n",
       ")"
      ]
     },
     "execution_count": 40,
     "metadata": {
      "tags": []
     },
     "output_type": "execute_result"
    }
   ],
   "source": [
    "model = ProteinLM(num_layers, vocab_sz, emb_dim, hid_sz, hidden_p, embed_p, input_p, weight_p, batch_sz=bs)\n",
    "model = model.to(dev)\n",
    "model"
   ]
  },
  {
   "cell_type": "markdown",
   "metadata": {
    "id": "D8hx9Yj2jwvg"
   },
   "source": [
    "## Training the model"
   ]
  },
  {
   "cell_type": "code",
   "execution_count": null,
   "metadata": {
    "id": "_H4vVpkTj5Np"
   },
   "outputs": [],
   "source": [
    "training_set = AminoLMDataset(data, seq_len)"
   ]
  },
  {
   "cell_type": "code",
   "execution_count": null,
   "metadata": {
    "id": "fnOwAHn_j8Wb"
   },
   "outputs": [],
   "source": [
    "training_loader = torch.utils.data.DataLoader(training_set, batch_size=bs, shuffle=True)"
   ]
  },
  {
   "cell_type": "code",
   "execution_count": null,
   "metadata": {
    "colab": {
     "base_uri": "https://localhost:8080/"
    },
    "executionInfo": {
     "elapsed": 753,
     "status": "ok",
     "timestamp": 1618738191698,
     "user": {
      "displayName": "Mees Molenaar",
      "photoUrl": "https://lh3.googleusercontent.com/a-/AOh14GgarFNqCn57JCj8FlX5fjTQ7xWPGveKHLnQQxqvoA=s64",
      "userId": "09138133359710811571"
     },
     "user_tz": -120
    },
    "id": "VEnPLliaj_Do",
    "outputId": "c36adf77-4a40-4637-d304-0a4e31d13e1c"
   },
   "outputs": [
    {
     "data": {
      "text/plain": [
       "7307669"
      ]
     },
     "execution_count": 72,
     "metadata": {
      "tags": []
     },
     "output_type": "execute_result"
    }
   ],
   "source": [
    "total_train_len = len(training_loader)\n",
    "total_train_len"
   ]
  },
  {
   "cell_type": "code",
   "execution_count": null,
   "metadata": {
    "id": "8rljV58FkC-Y"
   },
   "outputs": [],
   "source": [
    "# Hyperparameters\n",
    "learning_rate = 0.01\n",
    "epochs = 10"
   ]
  },
  {
   "cell_type": "code",
   "execution_count": null,
   "metadata": {
    "id": "ivU0Dva6kJW-"
   },
   "outputs": [],
   "source": [
    "# Costfunction and optimize algorithm\n",
    "criterion = torch.nn.CrossEntropyLoss()\n",
    "optimizer = torch.optim.SGD(model.parameters(), lr= learning_rate)"
   ]
  },
  {
   "cell_type": "code",
   "execution_count": null,
   "metadata": {
    "colab": {
     "base_uri": "https://localhost:8080/"
    },
    "executionInfo": {
     "elapsed": 6869,
     "status": "ok",
     "timestamp": 1618738845138,
     "user": {
      "displayName": "Mees Molenaar",
      "photoUrl": "https://lh3.googleusercontent.com/a-/AOh14GgarFNqCn57JCj8FlX5fjTQ7xWPGveKHLnQQxqvoA=s64",
      "userId": "09138133359710811571"
     },
     "user_tz": -120
    },
    "id": "LbsURPMIqr9X",
    "outputId": "678eed74-9b03-48a9-c3ad-b27dfa964038"
   },
   "outputs": [
    {
     "name": "stdout",
     "output_type": "stream",
     "text": [
      "Input shape:\n",
      "torch.Size([8, 3])\n",
      "tensor([[9177, 1821, 1754],\n",
      "        [3252, 3514,  224],\n",
      "        [5261,  219, 8915],\n",
      "        [2685, 1015, 2529],\n",
      "        [7030, 3768, 8896],\n",
      "        [3638, 3098, 3232],\n",
      "        [4479, 9233, 3546],\n",
      "        [3705, 6753, 6496]], device='cuda:0')\n",
      "tensor([[1821, 1754, 6118],\n",
      "        [3514,  224, 7205],\n",
      "        [ 219, 8915, 4586],\n",
      "        [1015, 2529, 4387],\n",
      "        [3768, 8896, 2401],\n",
      "        [3098, 3232, 1238],\n",
      "        [9233, 3546, 4743],\n",
      "        [6753, 6496, 6892]], device='cuda:0')\n",
      "torch.Size([24, 9317])\n",
      "torch.Size([24])\n",
      "tensor([1821, 1754, 6118, 3514,  224, 7205,  219, 8915, 4586, 1015, 2529, 4387,\n",
      "        3768, 8896, 2401, 3098, 3232, 1238, 9233, 3546, 4743, 6753, 6496, 6892],\n",
      "       device='cuda:0')\n",
      "tensor(9.1292, device='cuda:0', grad_fn=<NllLossBackward>)\n"
     ]
    },
    {
     "name": "stderr",
     "output_type": "stream",
     "text": [
      "/usr/local/lib/python3.7/dist-packages/torch/nn/modules/rnn.py:662: UserWarning: RNN module weights are not part of single contiguous chunk of memory. This means they need to be compacted at every call, possibly greatly increasing memory usage. To compact weights again call flatten_parameters(). (Triggered internally at  /pytorch/aten/src/ATen/native/cudnn/RNN.cpp:915.)\n",
      "  self.dropout, self.training, self.bidirectional, self.batch_first)\n"
     ]
    }
   ],
   "source": [
    "# Test for the real work\n",
    "for i, entry in enumerate(training_loader, 0):\n",
    "    xs, ys = entry[0], entry[1]\n",
    "\n",
    "    print('Input shape:')\n",
    "    print(xs.shape)\n",
    "    \n",
    "    print(xs)\n",
    "\n",
    "    outputs = model(xs)\n",
    "    \n",
    "    bs, sl = outputs.shape[:2]\n",
    "    \n",
    "    # Flatten the output\n",
    "    outputs = outputs.view(bs * sl, -1)\n",
    "    \n",
    "    print(ys)\n",
    "    \n",
    "    # Flatten the label\n",
    "    ys = ys.view(-1)\n",
    "\n",
    "    print(outputs.shape)\n",
    "    print(ys.shape)\n",
    "    \n",
    "    print(ys)\n",
    "    \n",
    "    loss = criterion(outputs, ys)\n",
    "    print(loss)\n",
    "    \n",
    "    break"
   ]
  },
  {
   "cell_type": "code",
   "execution_count": null,
   "metadata": {
    "colab": {
     "base_uri": "https://localhost:8080/",
     "height": 1000
    },
    "executionInfo": {
     "elapsed": 10848037,
     "status": "error",
     "timestamp": 1618749695198,
     "user": {
      "displayName": "Mees Molenaar",
      "photoUrl": "https://lh3.googleusercontent.com/a-/AOh14GgarFNqCn57JCj8FlX5fjTQ7xWPGveKHLnQQxqvoA=s64",
      "userId": "09138133359710811571"
     },
     "user_tz": -120
    },
    "id": "29idEGfVkMH_",
    "outputId": "f6d26cae-c287-4b99-cb1f-3ecd6f1134fb"
   },
   "outputs": [
    {
     "data": {
      "text/html": [
       "<table>\n",
       "        <thead>\n",
       "          <tr>\n",
       "          <th>Epoch</th>\n",
       "          <th>Percentage</th>\n",
       "          <th>Loss</th>\n",
       "          <th>Time</th>\n",
       "          </tr>\n",
       "        </thead>\n",
       "        <tbody>\n",
       "        "
      ],
      "text/plain": [
       "<IPython.core.display.HTML object>"
      ]
     },
     "metadata": {
      "tags": []
     },
     "output_type": "display_data"
    },
    {
     "name": "stderr",
     "output_type": "stream",
     "text": [
      "/usr/local/lib/python3.7/dist-packages/torch/nn/modules/rnn.py:662: UserWarning: RNN module weights are not part of single contiguous chunk of memory. This means they need to be compacted at every call, possibly greatly increasing memory usage. To compact weights again call flatten_parameters(). (Triggered internally at  /pytorch/aten/src/ATen/native/cudnn/RNN.cpp:915.)\n",
      "  self.dropout, self.training, self.bidirectional, self.batch_first)\n"
     ]
    },
    {
     "data": {
      "text/html": [
       "<tr>\n",
       "              <td>1</td>\n",
       "              <td>0.0</td>\n",
       "              <td>0.02</td>\n",
       "              <td>0.0</td>\n",
       "              </tr>"
      ],
      "text/plain": [
       "<IPython.core.display.HTML object>"
      ]
     },
     "metadata": {
      "tags": []
     },
     "output_type": "display_data"
    },
    {
     "data": {
      "text/html": [
       "<tr>\n",
       "              <td>1</td>\n",
       "              <td>0.14</td>\n",
       "              <td>219.1</td>\n",
       "              <td>2.0</td>\n",
       "              </tr>"
      ],
      "text/plain": [
       "<IPython.core.display.HTML object>"
      ]
     },
     "metadata": {
      "tags": []
     },
     "output_type": "display_data"
    },
    {
     "data": {
      "text/html": [
       "<tr>\n",
       "              <td>1</td>\n",
       "              <td>0.27</td>\n",
       "              <td>218.79</td>\n",
       "              <td>4.0</td>\n",
       "              </tr>"
      ],
      "text/plain": [
       "<IPython.core.display.HTML object>"
      ]
     },
     "metadata": {
      "tags": []
     },
     "output_type": "display_data"
    },
    {
     "data": {
      "text/html": [
       "<tr>\n",
       "              <td>1</td>\n",
       "              <td>0.41</td>\n",
       "              <td>218.48</td>\n",
       "              <td>6.0</td>\n",
       "              </tr>"
      ],
      "text/plain": [
       "<IPython.core.display.HTML object>"
      ]
     },
     "metadata": {
      "tags": []
     },
     "output_type": "display_data"
    },
    {
     "data": {
      "text/html": [
       "<tr>\n",
       "              <td>1</td>\n",
       "              <td>0.55</td>\n",
       "              <td>218.15</td>\n",
       "              <td>8.0</td>\n",
       "              </tr>"
      ],
      "text/plain": [
       "<IPython.core.display.HTML object>"
      ]
     },
     "metadata": {
      "tags": []
     },
     "output_type": "display_data"
    },
    {
     "data": {
      "text/html": [
       "<tr>\n",
       "              <td>1</td>\n",
       "              <td>0.68</td>\n",
       "              <td>217.79</td>\n",
       "              <td>10.0</td>\n",
       "              </tr>"
      ],
      "text/plain": [
       "<IPython.core.display.HTML object>"
      ]
     },
     "metadata": {
      "tags": []
     },
     "output_type": "display_data"
    },
    {
     "data": {
      "text/html": [
       "<tr>\n",
       "              <td>1</td>\n",
       "              <td>0.82</td>\n",
       "              <td>217.36</td>\n",
       "              <td>12.0</td>\n",
       "              </tr>"
      ],
      "text/plain": [
       "<IPython.core.display.HTML object>"
      ]
     },
     "metadata": {
      "tags": []
     },
     "output_type": "display_data"
    },
    {
     "data": {
      "text/html": [
       "<tr>\n",
       "              <td>1</td>\n",
       "              <td>0.96</td>\n",
       "              <td>216.79</td>\n",
       "              <td>14.0</td>\n",
       "              </tr>"
      ],
      "text/plain": [
       "<IPython.core.display.HTML object>"
      ]
     },
     "metadata": {
      "tags": []
     },
     "output_type": "display_data"
    },
    {
     "data": {
      "text/html": [
       "<tr>\n",
       "              <td>1</td>\n",
       "              <td>1.09</td>\n",
       "              <td>215.91</td>\n",
       "              <td>16.0</td>\n",
       "              </tr>"
      ],
      "text/plain": [
       "<IPython.core.display.HTML object>"
      ]
     },
     "metadata": {
      "tags": []
     },
     "output_type": "display_data"
    },
    {
     "data": {
      "text/html": [
       "<tr>\n",
       "              <td>1</td>\n",
       "              <td>1.23</td>\n",
       "              <td>214.16</td>\n",
       "              <td>18.0</td>\n",
       "              </tr>"
      ],
      "text/plain": [
       "<IPython.core.display.HTML object>"
      ]
     },
     "metadata": {
      "tags": []
     },
     "output_type": "display_data"
    },
    {
     "data": {
      "text/html": [
       "<tr>\n",
       "              <td>1</td>\n",
       "              <td>1.37</td>\n",
       "              <td>211.0</td>\n",
       "              <td>20.0</td>\n",
       "              </tr>"
      ],
      "text/plain": [
       "<IPython.core.display.HTML object>"
      ]
     },
     "metadata": {
      "tags": []
     },
     "output_type": "display_data"
    },
    {
     "data": {
      "text/html": [
       "<tr>\n",
       "              <td>1</td>\n",
       "              <td>1.51</td>\n",
       "              <td>209.15</td>\n",
       "              <td>22.0</td>\n",
       "              </tr>"
      ],
      "text/plain": [
       "<IPython.core.display.HTML object>"
      ]
     },
     "metadata": {
      "tags": []
     },
     "output_type": "display_data"
    },
    {
     "data": {
      "text/html": [
       "<tr>\n",
       "              <td>1</td>\n",
       "              <td>1.64</td>\n",
       "              <td>208.44</td>\n",
       "              <td>24.0</td>\n",
       "              </tr>"
      ],
      "text/plain": [
       "<IPython.core.display.HTML object>"
      ]
     },
     "metadata": {
      "tags": []
     },
     "output_type": "display_data"
    },
    {
     "data": {
      "text/html": [
       "<tr>\n",
       "              <td>1</td>\n",
       "              <td>1.78</td>\n",
       "              <td>208.23</td>\n",
       "              <td>26.0</td>\n",
       "              </tr>"
      ],
      "text/plain": [
       "<IPython.core.display.HTML object>"
      ]
     },
     "metadata": {
      "tags": []
     },
     "output_type": "display_data"
    },
    {
     "data": {
      "text/html": [
       "<tr>\n",
       "              <td>1</td>\n",
       "              <td>1.92</td>\n",
       "              <td>208.09</td>\n",
       "              <td>27.0</td>\n",
       "              </tr>"
      ],
      "text/plain": [
       "<IPython.core.display.HTML object>"
      ]
     },
     "metadata": {
      "tags": []
     },
     "output_type": "display_data"
    },
    {
     "data": {
      "text/html": [
       "<tr>\n",
       "              <td>1</td>\n",
       "              <td>2.05</td>\n",
       "              <td>207.98</td>\n",
       "              <td>29.0</td>\n",
       "              </tr>"
      ],
      "text/plain": [
       "<IPython.core.display.HTML object>"
      ]
     },
     "metadata": {
      "tags": []
     },
     "output_type": "display_data"
    },
    {
     "data": {
      "text/html": [
       "<tr>\n",
       "              <td>1</td>\n",
       "              <td>2.19</td>\n",
       "              <td>207.89</td>\n",
       "              <td>31.0</td>\n",
       "              </tr>"
      ],
      "text/plain": [
       "<IPython.core.display.HTML object>"
      ]
     },
     "metadata": {
      "tags": []
     },
     "output_type": "display_data"
    },
    {
     "data": {
      "text/html": [
       "<tr>\n",
       "              <td>1</td>\n",
       "              <td>2.33</td>\n",
       "              <td>207.82</td>\n",
       "              <td>33.0</td>\n",
       "              </tr>"
      ],
      "text/plain": [
       "<IPython.core.display.HTML object>"
      ]
     },
     "metadata": {
      "tags": []
     },
     "output_type": "display_data"
    },
    {
     "data": {
      "text/html": [
       "<tr>\n",
       "              <td>1</td>\n",
       "              <td>2.46</td>\n",
       "              <td>207.88</td>\n",
       "              <td>35.0</td>\n",
       "              </tr>"
      ],
      "text/plain": [
       "<IPython.core.display.HTML object>"
      ]
     },
     "metadata": {
      "tags": []
     },
     "output_type": "display_data"
    },
    {
     "data": {
      "text/html": [
       "<tr>\n",
       "              <td>1</td>\n",
       "              <td>2.6</td>\n",
       "              <td>207.78</td>\n",
       "              <td>37.0</td>\n",
       "              </tr>"
      ],
      "text/plain": [
       "<IPython.core.display.HTML object>"
      ]
     },
     "metadata": {
      "tags": []
     },
     "output_type": "display_data"
    },
    {
     "data": {
      "text/html": [
       "<tr>\n",
       "              <td>1</td>\n",
       "              <td>2.74</td>\n",
       "              <td>207.72</td>\n",
       "              <td>39.0</td>\n",
       "              </tr>"
      ],
      "text/plain": [
       "<IPython.core.display.HTML object>"
      ]
     },
     "metadata": {
      "tags": []
     },
     "output_type": "display_data"
    },
    {
     "data": {
      "text/html": [
       "<tr>\n",
       "              <td>1</td>\n",
       "              <td>2.87</td>\n",
       "              <td>207.71</td>\n",
       "              <td>41.0</td>\n",
       "              </tr>"
      ],
      "text/plain": [
       "<IPython.core.display.HTML object>"
      ]
     },
     "metadata": {
      "tags": []
     },
     "output_type": "display_data"
    },
    {
     "data": {
      "text/html": [
       "<tr>\n",
       "              <td>1</td>\n",
       "              <td>3.01</td>\n",
       "              <td>207.65</td>\n",
       "              <td>43.0</td>\n",
       "              </tr>"
      ],
      "text/plain": [
       "<IPython.core.display.HTML object>"
      ]
     },
     "metadata": {
      "tags": []
     },
     "output_type": "display_data"
    },
    {
     "data": {
      "text/html": [
       "<tr>\n",
       "              <td>1</td>\n",
       "              <td>3.15</td>\n",
       "              <td>207.66</td>\n",
       "              <td>45.0</td>\n",
       "              </tr>"
      ],
      "text/plain": [
       "<IPython.core.display.HTML object>"
      ]
     },
     "metadata": {
      "tags": []
     },
     "output_type": "display_data"
    },
    {
     "data": {
      "text/html": [
       "<tr>\n",
       "              <td>1</td>\n",
       "              <td>3.28</td>\n",
       "              <td>207.63</td>\n",
       "              <td>47.0</td>\n",
       "              </tr>"
      ],
      "text/plain": [
       "<IPython.core.display.HTML object>"
      ]
     },
     "metadata": {
      "tags": []
     },
     "output_type": "display_data"
    },
    {
     "data": {
      "text/html": [
       "<tr>\n",
       "              <td>1</td>\n",
       "              <td>3.42</td>\n",
       "              <td>207.74</td>\n",
       "              <td>49.0</td>\n",
       "              </tr>"
      ],
      "text/plain": [
       "<IPython.core.display.HTML object>"
      ]
     },
     "metadata": {
      "tags": []
     },
     "output_type": "display_data"
    },
    {
     "data": {
      "text/html": [
       "<tr>\n",
       "              <td>1</td>\n",
       "              <td>3.56</td>\n",
       "              <td>207.51</td>\n",
       "              <td>51.0</td>\n",
       "              </tr>"
      ],
      "text/plain": [
       "<IPython.core.display.HTML object>"
      ]
     },
     "metadata": {
      "tags": []
     },
     "output_type": "display_data"
    },
    {
     "data": {
      "text/html": [
       "<tr>\n",
       "              <td>1</td>\n",
       "              <td>3.69</td>\n",
       "              <td>207.46</td>\n",
       "              <td>53.0</td>\n",
       "              </tr>"
      ],
      "text/plain": [
       "<IPython.core.display.HTML object>"
      ]
     },
     "metadata": {
      "tags": []
     },
     "output_type": "display_data"
    },
    {
     "data": {
      "text/html": [
       "<tr>\n",
       "              <td>1</td>\n",
       "              <td>3.83</td>\n",
       "              <td>207.48</td>\n",
       "              <td>55.0</td>\n",
       "              </tr>"
      ],
      "text/plain": [
       "<IPython.core.display.HTML object>"
      ]
     },
     "metadata": {
      "tags": []
     },
     "output_type": "display_data"
    },
    {
     "data": {
      "text/html": [
       "<tr>\n",
       "              <td>1</td>\n",
       "              <td>3.97</td>\n",
       "              <td>207.45</td>\n",
       "              <td>57.0</td>\n",
       "              </tr>"
      ],
      "text/plain": [
       "<IPython.core.display.HTML object>"
      ]
     },
     "metadata": {
      "tags": []
     },
     "output_type": "display_data"
    },
    {
     "data": {
      "text/html": [
       "<tr>\n",
       "              <td>1</td>\n",
       "              <td>4.11</td>\n",
       "              <td>207.54</td>\n",
       "              <td>59.0</td>\n",
       "              </tr>"
      ],
      "text/plain": [
       "<IPython.core.display.HTML object>"
      ]
     },
     "metadata": {
      "tags": []
     },
     "output_type": "display_data"
    },
    {
     "data": {
      "text/html": [
       "<tr>\n",
       "              <td>1</td>\n",
       "              <td>4.24</td>\n",
       "              <td>207.46</td>\n",
       "              <td>61.0</td>\n",
       "              </tr>"
      ],
      "text/plain": [
       "<IPython.core.display.HTML object>"
      ]
     },
     "metadata": {
      "tags": []
     },
     "output_type": "display_data"
    },
    {
     "data": {
      "text/html": [
       "<tr>\n",
       "              <td>1</td>\n",
       "              <td>4.38</td>\n",
       "              <td>207.4</td>\n",
       "              <td>63.0</td>\n",
       "              </tr>"
      ],
      "text/plain": [
       "<IPython.core.display.HTML object>"
      ]
     },
     "metadata": {
      "tags": []
     },
     "output_type": "display_data"
    },
    {
     "data": {
      "text/html": [
       "<tr>\n",
       "              <td>1</td>\n",
       "              <td>4.52</td>\n",
       "              <td>207.26</td>\n",
       "              <td>65.0</td>\n",
       "              </tr>"
      ],
      "text/plain": [
       "<IPython.core.display.HTML object>"
      ]
     },
     "metadata": {
      "tags": []
     },
     "output_type": "display_data"
    },
    {
     "data": {
      "text/html": [
       "<tr>\n",
       "              <td>1</td>\n",
       "              <td>4.65</td>\n",
       "              <td>207.34</td>\n",
       "              <td>67.0</td>\n",
       "              </tr>"
      ],
      "text/plain": [
       "<IPython.core.display.HTML object>"
      ]
     },
     "metadata": {
      "tags": []
     },
     "output_type": "display_data"
    },
    {
     "data": {
      "text/html": [
       "<tr>\n",
       "              <td>1</td>\n",
       "              <td>4.79</td>\n",
       "              <td>207.3</td>\n",
       "              <td>69.0</td>\n",
       "              </tr>"
      ],
      "text/plain": [
       "<IPython.core.display.HTML object>"
      ]
     },
     "metadata": {
      "tags": []
     },
     "output_type": "display_data"
    },
    {
     "data": {
      "text/html": [
       "<tr>\n",
       "              <td>1</td>\n",
       "              <td>4.93</td>\n",
       "              <td>207.19</td>\n",
       "              <td>71.0</td>\n",
       "              </tr>"
      ],
      "text/plain": [
       "<IPython.core.display.HTML object>"
      ]
     },
     "metadata": {
      "tags": []
     },
     "output_type": "display_data"
    },
    {
     "data": {
      "text/html": [
       "<tr>\n",
       "              <td>1</td>\n",
       "              <td>5.06</td>\n",
       "              <td>207.13</td>\n",
       "              <td>73.0</td>\n",
       "              </tr>"
      ],
      "text/plain": [
       "<IPython.core.display.HTML object>"
      ]
     },
     "metadata": {
      "tags": []
     },
     "output_type": "display_data"
    },
    {
     "data": {
      "text/html": [
       "<tr>\n",
       "              <td>1</td>\n",
       "              <td>5.2</td>\n",
       "              <td>207.18</td>\n",
       "              <td>74.0</td>\n",
       "              </tr>"
      ],
      "text/plain": [
       "<IPython.core.display.HTML object>"
      ]
     },
     "metadata": {
      "tags": []
     },
     "output_type": "display_data"
    },
    {
     "data": {
      "text/html": [
       "<tr>\n",
       "              <td>1</td>\n",
       "              <td>5.34</td>\n",
       "              <td>207.12</td>\n",
       "              <td>76.0</td>\n",
       "              </tr>"
      ],
      "text/plain": [
       "<IPython.core.display.HTML object>"
      ]
     },
     "metadata": {
      "tags": []
     },
     "output_type": "display_data"
    },
    {
     "data": {
      "text/html": [
       "<tr>\n",
       "              <td>1</td>\n",
       "              <td>5.47</td>\n",
       "              <td>207.04</td>\n",
       "              <td>78.0</td>\n",
       "              </tr>"
      ],
      "text/plain": [
       "<IPython.core.display.HTML object>"
      ]
     },
     "metadata": {
      "tags": []
     },
     "output_type": "display_data"
    },
    {
     "data": {
      "text/html": [
       "<tr>\n",
       "              <td>1</td>\n",
       "              <td>5.61</td>\n",
       "              <td>206.97</td>\n",
       "              <td>80.0</td>\n",
       "              </tr>"
      ],
      "text/plain": [
       "<IPython.core.display.HTML object>"
      ]
     },
     "metadata": {
      "tags": []
     },
     "output_type": "display_data"
    },
    {
     "data": {
      "text/html": [
       "<tr>\n",
       "              <td>1</td>\n",
       "              <td>5.75</td>\n",
       "              <td>206.89</td>\n",
       "              <td>82.0</td>\n",
       "              </tr>"
      ],
      "text/plain": [
       "<IPython.core.display.HTML object>"
      ]
     },
     "metadata": {
      "tags": []
     },
     "output_type": "display_data"
    },
    {
     "data": {
      "text/html": [
       "<tr>\n",
       "              <td>1</td>\n",
       "              <td>5.88</td>\n",
       "              <td>206.9</td>\n",
       "              <td>84.0</td>\n",
       "              </tr>"
      ],
      "text/plain": [
       "<IPython.core.display.HTML object>"
      ]
     },
     "metadata": {
      "tags": []
     },
     "output_type": "display_data"
    },
    {
     "data": {
      "text/html": [
       "<tr>\n",
       "              <td>1</td>\n",
       "              <td>6.02</td>\n",
       "              <td>206.87</td>\n",
       "              <td>86.0</td>\n",
       "              </tr>"
      ],
      "text/plain": [
       "<IPython.core.display.HTML object>"
      ]
     },
     "metadata": {
      "tags": []
     },
     "output_type": "display_data"
    },
    {
     "data": {
      "text/html": [
       "<tr>\n",
       "              <td>1</td>\n",
       "              <td>6.16</td>\n",
       "              <td>206.72</td>\n",
       "              <td>88.0</td>\n",
       "              </tr>"
      ],
      "text/plain": [
       "<IPython.core.display.HTML object>"
      ]
     },
     "metadata": {
      "tags": []
     },
     "output_type": "display_data"
    },
    {
     "data": {
      "text/html": [
       "<tr>\n",
       "              <td>1</td>\n",
       "              <td>6.29</td>\n",
       "              <td>206.8</td>\n",
       "              <td>90.0</td>\n",
       "              </tr>"
      ],
      "text/plain": [
       "<IPython.core.display.HTML object>"
      ]
     },
     "metadata": {
      "tags": []
     },
     "output_type": "display_data"
    },
    {
     "data": {
      "text/html": [
       "<tr>\n",
       "              <td>1</td>\n",
       "              <td>6.43</td>\n",
       "              <td>206.58</td>\n",
       "              <td>92.0</td>\n",
       "              </tr>"
      ],
      "text/plain": [
       "<IPython.core.display.HTML object>"
      ]
     },
     "metadata": {
      "tags": []
     },
     "output_type": "display_data"
    },
    {
     "data": {
      "text/html": [
       "<tr>\n",
       "              <td>1</td>\n",
       "              <td>6.57</td>\n",
       "              <td>206.59</td>\n",
       "              <td>94.0</td>\n",
       "              </tr>"
      ],
      "text/plain": [
       "<IPython.core.display.HTML object>"
      ]
     },
     "metadata": {
      "tags": []
     },
     "output_type": "display_data"
    },
    {
     "data": {
      "text/html": [
       "<tr>\n",
       "              <td>1</td>\n",
       "              <td>6.71</td>\n",
       "              <td>206.45</td>\n",
       "              <td>96.0</td>\n",
       "              </tr>"
      ],
      "text/plain": [
       "<IPython.core.display.HTML object>"
      ]
     },
     "metadata": {
      "tags": []
     },
     "output_type": "display_data"
    },
    {
     "data": {
      "text/html": [
       "<tr>\n",
       "              <td>1</td>\n",
       "              <td>6.84</td>\n",
       "              <td>206.51</td>\n",
       "              <td>98.0</td>\n",
       "              </tr>"
      ],
      "text/plain": [
       "<IPython.core.display.HTML object>"
      ]
     },
     "metadata": {
      "tags": []
     },
     "output_type": "display_data"
    },
    {
     "data": {
      "text/html": [
       "<tr>\n",
       "              <td>1</td>\n",
       "              <td>6.98</td>\n",
       "              <td>206.4</td>\n",
       "              <td>100.0</td>\n",
       "              </tr>"
      ],
      "text/plain": [
       "<IPython.core.display.HTML object>"
      ]
     },
     "metadata": {
      "tags": []
     },
     "output_type": "display_data"
    },
    {
     "data": {
      "text/html": [
       "<tr>\n",
       "              <td>1</td>\n",
       "              <td>7.12</td>\n",
       "              <td>206.37</td>\n",
       "              <td>102.0</td>\n",
       "              </tr>"
      ],
      "text/plain": [
       "<IPython.core.display.HTML object>"
      ]
     },
     "metadata": {
      "tags": []
     },
     "output_type": "display_data"
    },
    {
     "data": {
      "text/html": [
       "<tr>\n",
       "              <td>1</td>\n",
       "              <td>7.25</td>\n",
       "              <td>206.35</td>\n",
       "              <td>104.0</td>\n",
       "              </tr>"
      ],
      "text/plain": [
       "<IPython.core.display.HTML object>"
      ]
     },
     "metadata": {
      "tags": []
     },
     "output_type": "display_data"
    },
    {
     "data": {
      "text/html": [
       "<tr>\n",
       "              <td>1</td>\n",
       "              <td>7.39</td>\n",
       "              <td>206.27</td>\n",
       "              <td>106.0</td>\n",
       "              </tr>"
      ],
      "text/plain": [
       "<IPython.core.display.HTML object>"
      ]
     },
     "metadata": {
      "tags": []
     },
     "output_type": "display_data"
    },
    {
     "data": {
      "text/html": [
       "<tr>\n",
       "              <td>1</td>\n",
       "              <td>7.53</td>\n",
       "              <td>206.2</td>\n",
       "              <td>108.0</td>\n",
       "              </tr>"
      ],
      "text/plain": [
       "<IPython.core.display.HTML object>"
      ]
     },
     "metadata": {
      "tags": []
     },
     "output_type": "display_data"
    },
    {
     "data": {
      "text/html": [
       "<tr>\n",
       "              <td>1</td>\n",
       "              <td>7.66</td>\n",
       "              <td>206.11</td>\n",
       "              <td>110.0</td>\n",
       "              </tr>"
      ],
      "text/plain": [
       "<IPython.core.display.HTML object>"
      ]
     },
     "metadata": {
      "tags": []
     },
     "output_type": "display_data"
    },
    {
     "data": {
      "text/html": [
       "<tr>\n",
       "              <td>1</td>\n",
       "              <td>7.8</td>\n",
       "              <td>206.03</td>\n",
       "              <td>112.0</td>\n",
       "              </tr>"
      ],
      "text/plain": [
       "<IPython.core.display.HTML object>"
      ]
     },
     "metadata": {
      "tags": []
     },
     "output_type": "display_data"
    },
    {
     "data": {
      "text/html": [
       "<tr>\n",
       "              <td>1</td>\n",
       "              <td>7.94</td>\n",
       "              <td>206.02</td>\n",
       "              <td>114.0</td>\n",
       "              </tr>"
      ],
      "text/plain": [
       "<IPython.core.display.HTML object>"
      ]
     },
     "metadata": {
      "tags": []
     },
     "output_type": "display_data"
    },
    {
     "data": {
      "text/html": [
       "<tr>\n",
       "              <td>1</td>\n",
       "              <td>8.07</td>\n",
       "              <td>205.99</td>\n",
       "              <td>116.0</td>\n",
       "              </tr>"
      ],
      "text/plain": [
       "<IPython.core.display.HTML object>"
      ]
     },
     "metadata": {
      "tags": []
     },
     "output_type": "display_data"
    },
    {
     "data": {
      "text/html": [
       "<tr>\n",
       "              <td>1</td>\n",
       "              <td>8.21</td>\n",
       "              <td>205.97</td>\n",
       "              <td>118.0</td>\n",
       "              </tr>"
      ],
      "text/plain": [
       "<IPython.core.display.HTML object>"
      ]
     },
     "metadata": {
      "tags": []
     },
     "output_type": "display_data"
    },
    {
     "data": {
      "text/html": [
       "<tr>\n",
       "              <td>1</td>\n",
       "              <td>8.35</td>\n",
       "              <td>205.76</td>\n",
       "              <td>120.0</td>\n",
       "              </tr>"
      ],
      "text/plain": [
       "<IPython.core.display.HTML object>"
      ]
     },
     "metadata": {
      "tags": []
     },
     "output_type": "display_data"
    },
    {
     "data": {
      "text/html": [
       "<tr>\n",
       "              <td>1</td>\n",
       "              <td>8.48</td>\n",
       "              <td>205.73</td>\n",
       "              <td>121.0</td>\n",
       "              </tr>"
      ],
      "text/plain": [
       "<IPython.core.display.HTML object>"
      ]
     },
     "metadata": {
      "tags": []
     },
     "output_type": "display_data"
    },
    {
     "data": {
      "text/html": [
       "<tr>\n",
       "              <td>1</td>\n",
       "              <td>8.62</td>\n",
       "              <td>205.72</td>\n",
       "              <td>123.0</td>\n",
       "              </tr>"
      ],
      "text/plain": [
       "<IPython.core.display.HTML object>"
      ]
     },
     "metadata": {
      "tags": []
     },
     "output_type": "display_data"
    },
    {
     "data": {
      "text/html": [
       "<tr>\n",
       "              <td>1</td>\n",
       "              <td>8.76</td>\n",
       "              <td>205.7</td>\n",
       "              <td>125.0</td>\n",
       "              </tr>"
      ],
      "text/plain": [
       "<IPython.core.display.HTML object>"
      ]
     },
     "metadata": {
      "tags": []
     },
     "output_type": "display_data"
    },
    {
     "data": {
      "text/html": [
       "<tr>\n",
       "              <td>1</td>\n",
       "              <td>8.89</td>\n",
       "              <td>205.72</td>\n",
       "              <td>127.0</td>\n",
       "              </tr>"
      ],
      "text/plain": [
       "<IPython.core.display.HTML object>"
      ]
     },
     "metadata": {
      "tags": []
     },
     "output_type": "display_data"
    },
    {
     "data": {
      "text/html": [
       "<tr>\n",
       "              <td>1</td>\n",
       "              <td>9.03</td>\n",
       "              <td>205.66</td>\n",
       "              <td>129.0</td>\n",
       "              </tr>"
      ],
      "text/plain": [
       "<IPython.core.display.HTML object>"
      ]
     },
     "metadata": {
      "tags": []
     },
     "output_type": "display_data"
    },
    {
     "data": {
      "text/html": [
       "<tr>\n",
       "              <td>1</td>\n",
       "              <td>9.17</td>\n",
       "              <td>205.51</td>\n",
       "              <td>131.0</td>\n",
       "              </tr>"
      ],
      "text/plain": [
       "<IPython.core.display.HTML object>"
      ]
     },
     "metadata": {
      "tags": []
     },
     "output_type": "display_data"
    },
    {
     "data": {
      "text/html": [
       "<tr>\n",
       "              <td>1</td>\n",
       "              <td>9.31</td>\n",
       "              <td>205.46</td>\n",
       "              <td>133.0</td>\n",
       "              </tr>"
      ],
      "text/plain": [
       "<IPython.core.display.HTML object>"
      ]
     },
     "metadata": {
      "tags": []
     },
     "output_type": "display_data"
    },
    {
     "data": {
      "text/html": [
       "<tr>\n",
       "              <td>1</td>\n",
       "              <td>9.44</td>\n",
       "              <td>205.4</td>\n",
       "              <td>135.0</td>\n",
       "              </tr>"
      ],
      "text/plain": [
       "<IPython.core.display.HTML object>"
      ]
     },
     "metadata": {
      "tags": []
     },
     "output_type": "display_data"
    },
    {
     "data": {
      "text/html": [
       "<tr>\n",
       "              <td>1</td>\n",
       "              <td>9.58</td>\n",
       "              <td>205.27</td>\n",
       "              <td>137.0</td>\n",
       "              </tr>"
      ],
      "text/plain": [
       "<IPython.core.display.HTML object>"
      ]
     },
     "metadata": {
      "tags": []
     },
     "output_type": "display_data"
    },
    {
     "data": {
      "text/html": [
       "<tr>\n",
       "              <td>1</td>\n",
       "              <td>9.72</td>\n",
       "              <td>205.29</td>\n",
       "              <td>139.0</td>\n",
       "              </tr>"
      ],
      "text/plain": [
       "<IPython.core.display.HTML object>"
      ]
     },
     "metadata": {
      "tags": []
     },
     "output_type": "display_data"
    },
    {
     "data": {
      "text/html": [
       "<tr>\n",
       "              <td>1</td>\n",
       "              <td>9.85</td>\n",
       "              <td>205.19</td>\n",
       "              <td>141.0</td>\n",
       "              </tr>"
      ],
      "text/plain": [
       "<IPython.core.display.HTML object>"
      ]
     },
     "metadata": {
      "tags": []
     },
     "output_type": "display_data"
    },
    {
     "data": {
      "text/html": [
       "<tr>\n",
       "              <td>1</td>\n",
       "              <td>9.99</td>\n",
       "              <td>205.32</td>\n",
       "              <td>143.0</td>\n",
       "              </tr>"
      ],
      "text/plain": [
       "<IPython.core.display.HTML object>"
      ]
     },
     "metadata": {
      "tags": []
     },
     "output_type": "display_data"
    },
    {
     "data": {
      "text/html": [
       "<tr>\n",
       "              <td>1</td>\n",
       "              <td>10.13</td>\n",
       "              <td>205.28</td>\n",
       "              <td>145.0</td>\n",
       "              </tr>"
      ],
      "text/plain": [
       "<IPython.core.display.HTML object>"
      ]
     },
     "metadata": {
      "tags": []
     },
     "output_type": "display_data"
    },
    {
     "data": {
      "text/html": [
       "<tr>\n",
       "              <td>1</td>\n",
       "              <td>10.26</td>\n",
       "              <td>205.06</td>\n",
       "              <td>147.0</td>\n",
       "              </tr>"
      ],
      "text/plain": [
       "<IPython.core.display.HTML object>"
      ]
     },
     "metadata": {
      "tags": []
     },
     "output_type": "display_data"
    },
    {
     "data": {
      "text/html": [
       "<tr>\n",
       "              <td>1</td>\n",
       "              <td>10.4</td>\n",
       "              <td>205.06</td>\n",
       "              <td>149.0</td>\n",
       "              </tr>"
      ],
      "text/plain": [
       "<IPython.core.display.HTML object>"
      ]
     },
     "metadata": {
      "tags": []
     },
     "output_type": "display_data"
    },
    {
     "data": {
      "text/html": [
       "<tr>\n",
       "              <td>1</td>\n",
       "              <td>10.54</td>\n",
       "              <td>205.19</td>\n",
       "              <td>151.0</td>\n",
       "              </tr>"
      ],
      "text/plain": [
       "<IPython.core.display.HTML object>"
      ]
     },
     "metadata": {
      "tags": []
     },
     "output_type": "display_data"
    },
    {
     "data": {
      "text/html": [
       "<tr>\n",
       "              <td>1</td>\n",
       "              <td>10.67</td>\n",
       "              <td>204.95</td>\n",
       "              <td>153.0</td>\n",
       "              </tr>"
      ],
      "text/plain": [
       "<IPython.core.display.HTML object>"
      ]
     },
     "metadata": {
      "tags": []
     },
     "output_type": "display_data"
    },
    {
     "data": {
      "text/html": [
       "<tr>\n",
       "              <td>1</td>\n",
       "              <td>10.81</td>\n",
       "              <td>205.04</td>\n",
       "              <td>155.0</td>\n",
       "              </tr>"
      ],
      "text/plain": [
       "<IPython.core.display.HTML object>"
      ]
     },
     "metadata": {
      "tags": []
     },
     "output_type": "display_data"
    },
    {
     "data": {
      "text/html": [
       "<tr>\n",
       "              <td>1</td>\n",
       "              <td>10.95</td>\n",
       "              <td>204.88</td>\n",
       "              <td>157.0</td>\n",
       "              </tr>"
      ],
      "text/plain": [
       "<IPython.core.display.HTML object>"
      ]
     },
     "metadata": {
      "tags": []
     },
     "output_type": "display_data"
    },
    {
     "data": {
      "text/html": [
       "<tr>\n",
       "              <td>1</td>\n",
       "              <td>11.08</td>\n",
       "              <td>204.86</td>\n",
       "              <td>159.0</td>\n",
       "              </tr>"
      ],
      "text/plain": [
       "<IPython.core.display.HTML object>"
      ]
     },
     "metadata": {
      "tags": []
     },
     "output_type": "display_data"
    },
    {
     "data": {
      "text/html": [
       "<tr>\n",
       "              <td>1</td>\n",
       "              <td>11.22</td>\n",
       "              <td>204.82</td>\n",
       "              <td>161.0</td>\n",
       "              </tr>"
      ],
      "text/plain": [
       "<IPython.core.display.HTML object>"
      ]
     },
     "metadata": {
      "tags": []
     },
     "output_type": "display_data"
    },
    {
     "data": {
      "text/html": [
       "<tr>\n",
       "              <td>1</td>\n",
       "              <td>11.36</td>\n",
       "              <td>204.96</td>\n",
       "              <td>163.0</td>\n",
       "              </tr>"
      ],
      "text/plain": [
       "<IPython.core.display.HTML object>"
      ]
     },
     "metadata": {
      "tags": []
     },
     "output_type": "display_data"
    },
    {
     "data": {
      "text/html": [
       "<tr>\n",
       "              <td>1</td>\n",
       "              <td>11.49</td>\n",
       "              <td>204.8</td>\n",
       "              <td>165.0</td>\n",
       "              </tr>"
      ],
      "text/plain": [
       "<IPython.core.display.HTML object>"
      ]
     },
     "metadata": {
      "tags": []
     },
     "output_type": "display_data"
    },
    {
     "data": {
      "text/html": [
       "<tr>\n",
       "              <td>1</td>\n",
       "              <td>11.63</td>\n",
       "              <td>204.72</td>\n",
       "              <td>166.0</td>\n",
       "              </tr>"
      ],
      "text/plain": [
       "<IPython.core.display.HTML object>"
      ]
     },
     "metadata": {
      "tags": []
     },
     "output_type": "display_data"
    },
    {
     "data": {
      "text/html": [
       "<tr>\n",
       "              <td>1</td>\n",
       "              <td>11.77</td>\n",
       "              <td>204.71</td>\n",
       "              <td>168.0</td>\n",
       "              </tr>"
      ],
      "text/plain": [
       "<IPython.core.display.HTML object>"
      ]
     },
     "metadata": {
      "tags": []
     },
     "output_type": "display_data"
    },
    {
     "data": {
      "text/html": [
       "<tr>\n",
       "              <td>1</td>\n",
       "              <td>11.91</td>\n",
       "              <td>204.67</td>\n",
       "              <td>170.0</td>\n",
       "              </tr>"
      ],
      "text/plain": [
       "<IPython.core.display.HTML object>"
      ]
     },
     "metadata": {
      "tags": []
     },
     "output_type": "display_data"
    },
    {
     "data": {
      "text/html": [
       "<tr>\n",
       "              <td>1</td>\n",
       "              <td>12.04</td>\n",
       "              <td>204.69</td>\n",
       "              <td>172.0</td>\n",
       "              </tr>"
      ],
      "text/plain": [
       "<IPython.core.display.HTML object>"
      ]
     },
     "metadata": {
      "tags": []
     },
     "output_type": "display_data"
    },
    {
     "data": {
      "text/html": [
       "<tr>\n",
       "              <td>1</td>\n",
       "              <td>12.18</td>\n",
       "              <td>204.66</td>\n",
       "              <td>174.0</td>\n",
       "              </tr>"
      ],
      "text/plain": [
       "<IPython.core.display.HTML object>"
      ]
     },
     "metadata": {
      "tags": []
     },
     "output_type": "display_data"
    },
    {
     "data": {
      "text/html": [
       "<tr>\n",
       "              <td>1</td>\n",
       "              <td>12.32</td>\n",
       "              <td>204.62</td>\n",
       "              <td>176.0</td>\n",
       "              </tr>"
      ],
      "text/plain": [
       "<IPython.core.display.HTML object>"
      ]
     },
     "metadata": {
      "tags": []
     },
     "output_type": "display_data"
    },
    {
     "data": {
      "text/html": [
       "<tr>\n",
       "              <td>1</td>\n",
       "              <td>12.45</td>\n",
       "              <td>204.6</td>\n",
       "              <td>178.0</td>\n",
       "              </tr>"
      ],
      "text/plain": [
       "<IPython.core.display.HTML object>"
      ]
     },
     "metadata": {
      "tags": []
     },
     "output_type": "display_data"
    },
    {
     "data": {
      "text/html": [
       "<tr>\n",
       "              <td>1</td>\n",
       "              <td>12.59</td>\n",
       "              <td>204.55</td>\n",
       "              <td>180.0</td>\n",
       "              </tr>"
      ],
      "text/plain": [
       "<IPython.core.display.HTML object>"
      ]
     },
     "metadata": {
      "tags": []
     },
     "output_type": "display_data"
    },
    {
     "ename": "KeyboardInterrupt",
     "evalue": "ignored",
     "output_type": "error",
     "traceback": [
      "\u001b[0;31m---------------------------------------------------------------------------\u001b[0m",
      "\u001b[0;31mKeyboardInterrupt\u001b[0m                         Traceback (most recent call last)",
      "\u001b[0;32m<ipython-input-80-1b20290e13f6>\u001b[0m in \u001b[0;36m<module>\u001b[0;34m()\u001b[0m\n\u001b[1;32m     44\u001b[0m         \u001b[0mloss\u001b[0m \u001b[0;34m=\u001b[0m \u001b[0mcriterion\u001b[0m\u001b[0;34m(\u001b[0m\u001b[0moutputs\u001b[0m\u001b[0;34m,\u001b[0m \u001b[0mys\u001b[0m\u001b[0;34m)\u001b[0m\u001b[0;34m\u001b[0m\u001b[0;34m\u001b[0m\u001b[0m\n\u001b[1;32m     45\u001b[0m \u001b[0;34m\u001b[0m\u001b[0m\n\u001b[0;32m---> 46\u001b[0;31m         \u001b[0mloss\u001b[0m\u001b[0;34m.\u001b[0m\u001b[0mbackward\u001b[0m\u001b[0;34m(\u001b[0m\u001b[0;34m)\u001b[0m\u001b[0;34m\u001b[0m\u001b[0;34m\u001b[0m\u001b[0m\n\u001b[0m\u001b[1;32m     47\u001b[0m         \u001b[0moptimizer\u001b[0m\u001b[0;34m.\u001b[0m\u001b[0mstep\u001b[0m\u001b[0;34m(\u001b[0m\u001b[0;34m)\u001b[0m\u001b[0;34m\u001b[0m\u001b[0;34m\u001b[0m\u001b[0m\n\u001b[1;32m     48\u001b[0m \u001b[0;34m\u001b[0m\u001b[0m\n",
      "\u001b[0;32m/usr/local/lib/python3.7/dist-packages/torch/tensor.py\u001b[0m in \u001b[0;36mbackward\u001b[0;34m(self, gradient, retain_graph, create_graph, inputs)\u001b[0m\n\u001b[1;32m    243\u001b[0m                 \u001b[0mcreate_graph\u001b[0m\u001b[0;34m=\u001b[0m\u001b[0mcreate_graph\u001b[0m\u001b[0;34m,\u001b[0m\u001b[0;34m\u001b[0m\u001b[0;34m\u001b[0m\u001b[0m\n\u001b[1;32m    244\u001b[0m                 inputs=inputs)\n\u001b[0;32m--> 245\u001b[0;31m         \u001b[0mtorch\u001b[0m\u001b[0;34m.\u001b[0m\u001b[0mautograd\u001b[0m\u001b[0;34m.\u001b[0m\u001b[0mbackward\u001b[0m\u001b[0;34m(\u001b[0m\u001b[0mself\u001b[0m\u001b[0;34m,\u001b[0m \u001b[0mgradient\u001b[0m\u001b[0;34m,\u001b[0m \u001b[0mretain_graph\u001b[0m\u001b[0;34m,\u001b[0m \u001b[0mcreate_graph\u001b[0m\u001b[0;34m,\u001b[0m \u001b[0minputs\u001b[0m\u001b[0;34m=\u001b[0m\u001b[0minputs\u001b[0m\u001b[0;34m)\u001b[0m\u001b[0;34m\u001b[0m\u001b[0;34m\u001b[0m\u001b[0m\n\u001b[0m\u001b[1;32m    246\u001b[0m \u001b[0;34m\u001b[0m\u001b[0m\n\u001b[1;32m    247\u001b[0m     \u001b[0;32mdef\u001b[0m \u001b[0mregister_hook\u001b[0m\u001b[0;34m(\u001b[0m\u001b[0mself\u001b[0m\u001b[0;34m,\u001b[0m \u001b[0mhook\u001b[0m\u001b[0;34m)\u001b[0m\u001b[0;34m:\u001b[0m\u001b[0;34m\u001b[0m\u001b[0;34m\u001b[0m\u001b[0m\n",
      "\u001b[0;32m/usr/local/lib/python3.7/dist-packages/torch/autograd/__init__.py\u001b[0m in \u001b[0;36mbackward\u001b[0;34m(tensors, grad_tensors, retain_graph, create_graph, grad_variables, inputs)\u001b[0m\n\u001b[1;32m    145\u001b[0m     Variable._execution_engine.run_backward(\n\u001b[1;32m    146\u001b[0m         \u001b[0mtensors\u001b[0m\u001b[0;34m,\u001b[0m \u001b[0mgrad_tensors_\u001b[0m\u001b[0;34m,\u001b[0m \u001b[0mretain_graph\u001b[0m\u001b[0;34m,\u001b[0m \u001b[0mcreate_graph\u001b[0m\u001b[0;34m,\u001b[0m \u001b[0minputs\u001b[0m\u001b[0;34m,\u001b[0m\u001b[0;34m\u001b[0m\u001b[0;34m\u001b[0m\u001b[0m\n\u001b[0;32m--> 147\u001b[0;31m         allow_unreachable=True, accumulate_grad=True)  # allow_unreachable flag\n\u001b[0m\u001b[1;32m    148\u001b[0m \u001b[0;34m\u001b[0m\u001b[0m\n\u001b[1;32m    149\u001b[0m \u001b[0;34m\u001b[0m\u001b[0m\n",
      "\u001b[0;31mKeyboardInterrupt\u001b[0m: "
     ]
    }
   ],
   "source": [
    "display(HTML(\n",
    "    \"\"\"<table>\n",
    "        <thead>\n",
    "          <tr>\n",
    "          <th>Epoch</th>\n",
    "          <th>Percentage</th>\n",
    "          <th>Loss</th>\n",
    "          <th>Time</th>\n",
    "          </tr>\n",
    "        </thead>\n",
    "        <tbody>\n",
    "        \"\"\"\n",
    "))\n",
    "\n",
    "for epoch in range(epochs):\n",
    "    \n",
    "    start_time = time.time()\n",
    "\n",
    "    model.reset_hidden()\n",
    "    \n",
    "    # Initialize loss at 0\n",
    "    epoch_loss = 0.0\n",
    "    \n",
    "    # Iterations (in between epoch) loss\n",
    "    iteration_loss = 0.0\n",
    "\n",
    "    for i, entry in enumerate(training_loader, 0):\n",
    "        \n",
    "        \n",
    "        model.zero_grad()\n",
    "        \n",
    "        xs, ys = entry[0], entry[1]\n",
    "        \n",
    "        outputs = model(xs)\n",
    "        \n",
    "        bs, sl = outputs.shape[:2]\n",
    "    \n",
    "        # Flatten the output\n",
    "        outputs = outputs.view(bs * sl, -1)\n",
    "\n",
    "        # Flatten the label\n",
    "        ys = ys.view(-1)\n",
    "\n",
    "        loss = criterion(outputs, ys)\n",
    "        \n",
    "        loss.backward()\n",
    "        optimizer.step()\n",
    "        \n",
    "        epoch_loss += outputs.shape[0] * loss.item()\n",
    "        iteration_loss += outputs.shape[0] * loss.item()\n",
    "        \n",
    "        if i % 1e4 == 0:\n",
    "\n",
    "            round_time = time.time()\n",
    "            duration = round(((round_time - start_time) / 60), 0) # To convert to minutes\n",
    "            \n",
    "            perc = round((i / total_train_len * 100), 2)\n",
    "\n",
    "            iteration_loss = round((iteration_loss / 1e4), 2)\n",
    "\n",
    "            display(HTML(\n",
    "            \"\"\"<tr>\n",
    "              <td>{}</td>\n",
    "              <td>{}</td>\n",
    "              <td>{}</td>\n",
    "              <td>{}</td>\n",
    "              </tr>\"\"\".format(str(epoch + 1), str(perc), str(iteration_loss), str(duration))\n",
    "            ))\n",
    "\n",
    "            iteration_loss = 0.0\n",
    "    \n",
    "    epoch_loss /= total_train_len\n",
    "    loss_history.append(epoch_loss)\n",
    "    \n",
    "    print(f'Epoch {str(epoch + 1)} Train loss: {str(epoch_loss)}.')\n",
    "\n",
    "display(HTML('</tbody></table>'))\n",
    "\n",
    "print('Finished training')"
   ]
  },
  {
   "cell_type": "markdown",
   "metadata": {
    "id": "KoxUmcl1q4ep"
   },
   "source": [
    "## Save Model for Training Later"
   ]
  },
  {
   "cell_type": "code",
   "execution_count": 35,
   "metadata": {
    "colab": {
     "base_uri": "https://localhost:8080/"
    },
    "executionInfo": {
     "elapsed": 726,
     "status": "ok",
     "timestamp": 1618809943658,
     "user": {
      "displayName": "Mees Molenaar",
      "photoUrl": "https://lh3.googleusercontent.com/a-/AOh14GgarFNqCn57JCj8FlX5fjTQ7xWPGveKHLnQQxqvoA=s64",
      "userId": "09138133359710811571"
     },
     "user_tz": -120
    },
    "id": "-6fqe1X8s7fD",
    "outputId": "6fe5bf00-e45b-4347-aa41-c35802673eec"
   },
   "outputs": [
    {
     "data": {
      "text/plain": [
       "PosixPath('/content/content/MyDrive/subcellular-location/v2/1_percent_AA_LM_v3.pt')"
      ]
     },
     "execution_count": 35,
     "metadata": {
      "tags": []
     },
     "output_type": "execute_result"
    }
   ],
   "source": [
    "filename = '1_percent_AA_LM_v3.pt'\n",
    "file_dir = Path('/content/content/MyDrive/subcellular-location/v2/' + filename)\n",
    "file_dir"
   ]
  },
  {
   "cell_type": "code",
   "execution_count": null,
   "metadata": {
    "colab": {
     "base_uri": "https://localhost:8080/"
    },
    "executionInfo": {
     "elapsed": 482,
     "status": "ok",
     "timestamp": 1618749720607,
     "user": {
      "displayName": "Mees Molenaar",
      "photoUrl": "https://lh3.googleusercontent.com/a-/AOh14GgarFNqCn57JCj8FlX5fjTQ7xWPGveKHLnQQxqvoA=s64",
      "userId": "09138133359710811571"
     },
     "user_tz": -120
    },
    "id": "YqgM8ggKAG7J",
    "outputId": "59e38583-f518-4094-89c5-d22967409f3e"
   },
   "outputs": [
    {
     "data": {
      "text/plain": [
       "AWD_LSTM(\n",
       "  (encoder): Embedding(9317, 400)\n",
       "  (emb_drop): EmbeddingDropout()\n",
       "  (input_dp): Dropout(p=0.3, inplace=False)\n",
       "  (hid_dp): Dropout(p=0.3, inplace=False)\n",
       "  (lstms): ModuleList(\n",
       "    (0): WeightDropout(\n",
       "      (module): LSTM(400, 1150)\n",
       "    )\n",
       "    (1): WeightDropout(\n",
       "      (module): LSTM(400, 1150)\n",
       "    )\n",
       "    (2): WeightDropout(\n",
       "      (module): LSTM(400, 1150)\n",
       "    )\n",
       "  )\n",
       ")"
      ]
     },
     "execution_count": 82,
     "metadata": {
      "tags": []
     },
     "output_type": "execute_result"
    }
   ],
   "source": [
    "model.encoder"
   ]
  },
  {
   "cell_type": "code",
   "execution_count": null,
   "metadata": {
    "id": "Zsq47uB5tU04"
   },
   "outputs": [],
   "source": [
    "torch.save(model.encoder, file_dir)"
   ]
  },
  {
   "cell_type": "markdown",
   "metadata": {
    "id": "u2olAPq3h4PX"
   },
   "source": [
    "## Load Model for Further Training"
   ]
  },
  {
   "cell_type": "code",
   "execution_count": 41,
   "metadata": {
    "colab": {
     "base_uri": "https://localhost:8080/"
    },
    "executionInfo": {
     "elapsed": 817,
     "status": "ok",
     "timestamp": 1618810043352,
     "user": {
      "displayName": "Mees Molenaar",
      "photoUrl": "https://lh3.googleusercontent.com/a-/AOh14GgarFNqCn57JCj8FlX5fjTQ7xWPGveKHLnQQxqvoA=s64",
      "userId": "09138133359710811571"
     },
     "user_tz": -120
    },
    "id": "r8P3I4zMiJkt",
    "outputId": "990c0c93-a94d-4a44-ebe2-8e16f85277ba"
   },
   "outputs": [
    {
     "data": {
      "text/plain": [
       "ProteinLM(\n",
       "  (encoder): AWD_LSTM(\n",
       "    (encoder): Embedding(9317, 400)\n",
       "    (emb_drop): EmbeddingDropout()\n",
       "    (input_dp): Dropout(p=0.3, inplace=False)\n",
       "    (hid_dp): Dropout(p=0.3, inplace=False)\n",
       "    (lstms): ModuleList(\n",
       "      (0): WeightDropout(\n",
       "        (module): LSTM(400, 1150)\n",
       "      )\n",
       "      (1): WeightDropout(\n",
       "        (module): LSTM(400, 1150)\n",
       "      )\n",
       "      (2): WeightDropout(\n",
       "        (module): LSTM(400, 1150)\n",
       "      )\n",
       "    )\n",
       "  )\n",
       "  (decoder): Linear(in_features=1150, out_features=9317, bias=True)\n",
       ")"
      ]
     },
     "execution_count": 41,
     "metadata": {
      "tags": []
     },
     "output_type": "execute_result"
    }
   ],
   "source": [
    "model_path = Path('/content/content/MyDrive/subcellular-location/v2/1_percent_AA_LM_v3.pt')\n",
    "model.encoder = torch.load(model_path)\n",
    "model"
   ]
  },
  {
   "cell_type": "code",
   "execution_count": 42,
   "metadata": {
    "colab": {
     "base_uri": "https://localhost:8080/"
    },
    "executionInfo": {
     "elapsed": 532,
     "status": "ok",
     "timestamp": 1618810051298,
     "user": {
      "displayName": "Mees Molenaar",
      "photoUrl": "https://lh3.googleusercontent.com/a-/AOh14GgarFNqCn57JCj8FlX5fjTQ7xWPGveKHLnQQxqvoA=s64",
      "userId": "09138133359710811571"
     },
     "user_tz": -120
    },
    "id": "TWgLw1cUMh8R",
    "outputId": "2a476950-857e-4ed5-e1f5-32096c7fbed3"
   },
   "outputs": [
    {
     "name": "stdout",
     "output_type": "stream",
     "text": [
      "encoder.weight\n",
      "False\n",
      "lstms.0.module.weight_ih_l0\n",
      "False\n",
      "lstms.0.module.bias_ih_l0\n",
      "False\n",
      "lstms.0.module.bias_hh_l0\n",
      "False\n",
      "lstms.0.module.weight_hh_l0_raw\n",
      "False\n",
      "lstms.1.module.weight_ih_l0\n",
      "True\n",
      "lstms.1.module.bias_ih_l0\n",
      "True\n",
      "lstms.1.module.bias_hh_l0\n",
      "True\n",
      "lstms.1.module.weight_hh_l0_raw\n",
      "True\n",
      "lstms.2.module.weight_ih_l0\n",
      "True\n",
      "lstms.2.module.bias_ih_l0\n",
      "True\n",
      "lstms.2.module.bias_hh_l0\n",
      "True\n",
      "lstms.2.module.weight_hh_l0_raw\n",
      "True\n"
     ]
    }
   ],
   "source": [
    "# Freeze the first LSTM layer and encoder\n",
    "model.freeze_to(1)"
   ]
  },
  {
   "cell_type": "markdown",
   "metadata": {
    "id": "AQY05bXyjFry"
   },
   "source": [
    "### Train Further with Data of which the location is known"
   ]
  },
  {
   "cell_type": "code",
   "execution_count": 43,
   "metadata": {
    "executionInfo": {
     "elapsed": 462,
     "status": "ok",
     "timestamp": 1618810061870,
     "user": {
      "displayName": "Mees Molenaar",
      "photoUrl": "https://lh3.googleusercontent.com/a-/AOh14GgarFNqCn57JCj8FlX5fjTQ7xWPGveKHLnQQxqvoA=s64",
      "userId": "09138133359710811571"
     },
     "user_tz": -120
    },
    "id": "eZ8RRvSf4oaA"
   },
   "outputs": [],
   "source": [
    "# Tokenize the protein sequence (or any sequence) in kmers.\n",
    "def tokenize(df, protein_seqs_column, kmer_sz, premade_vocab=False):\n",
    "    \n",
    "    if not premade_vocab:\n",
    "        kmers = set()\n",
    "        # Loop over protein sequences\n",
    "        for protein_seq in df[protein_seqs_column]:\n",
    "            # Loop over the whole sequence\n",
    "            for i in range(len(protein_seq) - (kmer_sz - 1)):\n",
    "                # Add kmers to the set, thus only unique kmers will remain\n",
    "                kmers.add(protein_seq[i: i + kmer_sz])\n",
    "\n",
    "        # Map kmers for one hot-encoding\n",
    "        kmer_to_id = dict()\n",
    "        id_to_kmer = dict()\n",
    "\n",
    "        for ind, kmer in enumerate(kmers):\n",
    "            kmer_to_id[kmer] = ind\n",
    "            id_to_kmer[ind] = kmer\n",
    "\n",
    "        vocab_sz = len(kmers)\n",
    "\n",
    "        assert vocab_sz == len(kmer_to_id.keys())\n",
    "    \n",
    "    else:\n",
    "        kmer_to_id, id_to_kmer = premade_vocab\n",
    "        vocab_sz = len(kmer_to_id)\n",
    "    \n",
    "    # Tokenize the protein sequence to integers\n",
    "    tokenized = []\n",
    "    for i, protein_seq in enumerate(df[protein_seqs_column], 0):\n",
    "        sequence = []\n",
    "        \n",
    "        # If the kmer can't be found these indexes should be deleted\n",
    "        remove_idxs = []\n",
    "        \n",
    "        for i in  range(len(protein_seq) - (kmer_sz -1)):\n",
    "            # Convert kmer to integer\n",
    "            kmer = protein_seq[i: i + kmer_sz]\n",
    "            \n",
    "            # For some reason, some kmers miss. Thus these sequences have to be removed\n",
    "            try:\n",
    "                sequence.append(kmer_to_id[kmer])\n",
    "            except:\n",
    "                remove_idxs.append(i)\n",
    "            \n",
    "        tokenized.append(sequence)\n",
    "            \n",
    "    df['tokenized_seqs'] = tokenized\n",
    "    \n",
    "    df.drop(remove_idxs, inplace=True)\n",
    "    \n",
    "    return df, vocab_sz, kmer_to_id, id_to_kmer"
   ]
  },
  {
   "cell_type": "code",
   "execution_count": 44,
   "metadata": {
    "colab": {
     "base_uri": "https://localhost:8080/",
     "height": 195
    },
    "executionInfo": {
     "elapsed": 2157,
     "status": "ok",
     "timestamp": 1618810106424,
     "user": {
      "displayName": "Mees Molenaar",
      "photoUrl": "https://lh3.googleusercontent.com/a-/AOh14GgarFNqCn57JCj8FlX5fjTQ7xWPGveKHLnQQxqvoA=s64",
      "userId": "09138133359710811571"
     },
     "user_tz": -120
    },
    "id": "gFNPH-PHjLum",
    "outputId": "a001d6d0-a59e-4288-acb3-c428cb59c089"
   },
   "outputs": [
    {
     "data": {
      "text/html": [
       "<div>\n",
       "<style scoped>\n",
       "    .dataframe tbody tr th:only-of-type {\n",
       "        vertical-align: middle;\n",
       "    }\n",
       "\n",
       "    .dataframe tbody tr th {\n",
       "        vertical-align: top;\n",
       "    }\n",
       "\n",
       "    .dataframe thead th {\n",
       "        text-align: right;\n",
       "    }\n",
       "</style>\n",
       "<table border=\"1\" class=\"dataframe\">\n",
       "  <thead>\n",
       "    <tr style=\"text-align: right;\">\n",
       "      <th></th>\n",
       "      <th>Sequence</th>\n",
       "      <th>Subcellular location [CC]</th>\n",
       "      <th>Location</th>\n",
       "    </tr>\n",
       "  </thead>\n",
       "  <tbody>\n",
       "    <tr>\n",
       "      <th>0</th>\n",
       "      <td>MTDTVFSNSSNRWMYPSDRPLQSNDKEQLQAGWSVHPGGQPDRQRK...</td>\n",
       "      <td>SUBCELLULAR LOCATION: Cytoplasmic vesicle, sec...</td>\n",
       "      <td>Cytoplasm</td>\n",
       "    </tr>\n",
       "    <tr>\n",
       "      <th>1</th>\n",
       "      <td>MDTDSQRSHLSSFTMKLMDKFHSPKIKRTPSKKGKPAEVSVKIPEK...</td>\n",
       "      <td>SUBCELLULAR LOCATION: Early endosome {ECO:0000...</td>\n",
       "      <td>Endosome</td>\n",
       "    </tr>\n",
       "    <tr>\n",
       "      <th>2</th>\n",
       "      <td>MEDSTSPKQEKENQEELGETRRPWEGKTAASPQYSEPESSEPLEAK...</td>\n",
       "      <td>SUBCELLULAR LOCATION: Cytoplasm, cytoskeleton,...</td>\n",
       "      <td>Cytoplasm</td>\n",
       "    </tr>\n",
       "    <tr>\n",
       "      <th>3</th>\n",
       "      <td>MALPGARARGWAAAARAAQRRRRVENAGGSPSPEPAGRRAALYVHW...</td>\n",
       "      <td>SUBCELLULAR LOCATION: Mitochondrion {ECO:00003...</td>\n",
       "      <td>Mitochondrion</td>\n",
       "    </tr>\n",
       "    <tr>\n",
       "      <th>4</th>\n",
       "      <td>MALLVDRVRGHWRIAAGLLFNLLVSICIVFLNKWIYVYHGFPNMSL...</td>\n",
       "      <td>SUBCELLULAR LOCATION: Membrane {ECO:0000305}; ...</td>\n",
       "      <td>Cell membrane</td>\n",
       "    </tr>\n",
       "  </tbody>\n",
       "</table>\n",
       "</div>"
      ],
      "text/plain": [
       "                                            Sequence  ...       Location\n",
       "0  MTDTVFSNSSNRWMYPSDRPLQSNDKEQLQAGWSVHPGGQPDRQRK...  ...      Cytoplasm\n",
       "1  MDTDSQRSHLSSFTMKLMDKFHSPKIKRTPSKKGKPAEVSVKIPEK...  ...       Endosome\n",
       "2  MEDSTSPKQEKENQEELGETRRPWEGKTAASPQYSEPESSEPLEAK...  ...      Cytoplasm\n",
       "3  MALPGARARGWAAAARAAQRRRRVENAGGSPSPEPAGRRAALYVHW...  ...  Mitochondrion\n",
       "4  MALLVDRVRGHWRIAAGLLFNLLVSICIVFLNKWIYVYHGFPNMSL...  ...  Cell membrane\n",
       "\n",
       "[5 rows x 3 columns]"
      ]
     },
     "execution_count": 44,
     "metadata": {
      "tags": []
     },
     "output_type": "execute_result"
    }
   ],
   "source": [
    "data_file = Path('/content/content/MyDrive/subcellular-location/v2/protein_data_2021-04-04.csv')\n",
    "df = pd.read_csv(data_file, sep=';')\n",
    "df.head()"
   ]
  },
  {
   "cell_type": "code",
   "execution_count": 45,
   "metadata": {
    "colab": {
     "base_uri": "https://localhost:8080/",
     "height": 195
    },
    "executionInfo": {
     "elapsed": 722,
     "status": "ok",
     "timestamp": 1618810110513,
     "user": {
      "displayName": "Mees Molenaar",
      "photoUrl": "https://lh3.googleusercontent.com/a-/AOh14GgarFNqCn57JCj8FlX5fjTQ7xWPGveKHLnQQxqvoA=s64",
      "userId": "09138133359710811571"
     },
     "user_tz": -120
    },
    "id": "6QeDY33rjQmk",
    "outputId": "4230fca2-d42f-444a-e6d8-57db648f2845"
   },
   "outputs": [
    {
     "data": {
      "text/html": [
       "<div>\n",
       "<style scoped>\n",
       "    .dataframe tbody tr th:only-of-type {\n",
       "        vertical-align: middle;\n",
       "    }\n",
       "\n",
       "    .dataframe tbody tr th {\n",
       "        vertical-align: top;\n",
       "    }\n",
       "\n",
       "    .dataframe thead th {\n",
       "        text-align: right;\n",
       "    }\n",
       "</style>\n",
       "<table border=\"1\" class=\"dataframe\">\n",
       "  <thead>\n",
       "    <tr style=\"text-align: right;\">\n",
       "      <th></th>\n",
       "      <th>Sequence</th>\n",
       "      <th>Location</th>\n",
       "    </tr>\n",
       "  </thead>\n",
       "  <tbody>\n",
       "    <tr>\n",
       "      <th>0</th>\n",
       "      <td>MTDTVFSNSSNRWMYPSDRPLQSNDKEQLQAGWSVHPGGQPDRQRK...</td>\n",
       "      <td>Cytoplasm</td>\n",
       "    </tr>\n",
       "    <tr>\n",
       "      <th>1</th>\n",
       "      <td>MDTDSQRSHLSSFTMKLMDKFHSPKIKRTPSKKGKPAEVSVKIPEK...</td>\n",
       "      <td>Endosome</td>\n",
       "    </tr>\n",
       "    <tr>\n",
       "      <th>2</th>\n",
       "      <td>MEDSTSPKQEKENQEELGETRRPWEGKTAASPQYSEPESSEPLEAK...</td>\n",
       "      <td>Cytoplasm</td>\n",
       "    </tr>\n",
       "    <tr>\n",
       "      <th>3</th>\n",
       "      <td>MALPGARARGWAAAARAAQRRRRVENAGGSPSPEPAGRRAALYVHW...</td>\n",
       "      <td>Mitochondrion</td>\n",
       "    </tr>\n",
       "    <tr>\n",
       "      <th>4</th>\n",
       "      <td>MALLVDRVRGHWRIAAGLLFNLLVSICIVFLNKWIYVYHGFPNMSL...</td>\n",
       "      <td>Cell membrane</td>\n",
       "    </tr>\n",
       "  </tbody>\n",
       "</table>\n",
       "</div>"
      ],
      "text/plain": [
       "                                            Sequence       Location\n",
       "0  MTDTVFSNSSNRWMYPSDRPLQSNDKEQLQAGWSVHPGGQPDRQRK...      Cytoplasm\n",
       "1  MDTDSQRSHLSSFTMKLMDKFHSPKIKRTPSKKGKPAEVSVKIPEK...       Endosome\n",
       "2  MEDSTSPKQEKENQEELGETRRPWEGKTAASPQYSEPESSEPLEAK...      Cytoplasm\n",
       "3  MALPGARARGWAAAARAAQRRRRVENAGGSPSPEPAGRRAALYVHW...  Mitochondrion\n",
       "4  MALLVDRVRGHWRIAAGLLFNLLVSICIVFLNKWIYVYHGFPNMSL...  Cell membrane"
      ]
     },
     "execution_count": 45,
     "metadata": {
      "tags": []
     },
     "output_type": "execute_result"
    }
   ],
   "source": [
    "df.drop(['Subcellular location [CC]'], axis = 1, inplace=True)\n",
    "df.head()"
   ]
  },
  {
   "cell_type": "code",
   "execution_count": 46,
   "metadata": {
    "colab": {
     "base_uri": "https://localhost:8080/"
    },
    "executionInfo": {
     "elapsed": 351,
     "status": "ok",
     "timestamp": 1618810113599,
     "user": {
      "displayName": "Mees Molenaar",
      "photoUrl": "https://lh3.googleusercontent.com/a-/AOh14GgarFNqCn57JCj8FlX5fjTQ7xWPGveKHLnQQxqvoA=s64",
      "userId": "09138133359710811571"
     },
     "user_tz": -120
    },
    "id": "L8Tv84KlmCSl",
    "outputId": "5e921d79-8670-4f52-f636-f5cc0c8151a5"
   },
   "outputs": [
    {
     "data": {
      "text/plain": [
       "16614"
      ]
     },
     "execution_count": 46,
     "metadata": {
      "tags": []
     },
     "output_type": "execute_result"
    }
   ],
   "source": [
    "len(df)"
   ]
  },
  {
   "cell_type": "markdown",
   "metadata": {
    "id": "50R74aizj93G"
   },
   "source": [
    "Data should be tokenized with the same vocab as for the other vocabulary."
   ]
  },
  {
   "cell_type": "code",
   "execution_count": 47,
   "metadata": {
    "executionInfo": {
     "elapsed": 790,
     "status": "ok",
     "timestamp": 1618810135502,
     "user": {
      "displayName": "Mees Molenaar",
      "photoUrl": "https://lh3.googleusercontent.com/a-/AOh14GgarFNqCn57JCj8FlX5fjTQ7xWPGveKHLnQQxqvoA=s64",
      "userId": "09138133359710811571"
     },
     "user_tz": -120
    },
    "id": "IgPJVIF8jl_1"
   },
   "outputs": [],
   "source": [
    "# Load the vocabolary from the Language Model\n",
    "vocab_save_file = '/content/content/MyDrive/subcellular-location/v2/LM_vocab.pkl'\n",
    "vocab = pickle.load(open(vocab_save_file, 'rb'))"
   ]
  },
  {
   "cell_type": "code",
   "execution_count": 48,
   "metadata": {
    "executionInfo": {
     "elapsed": 3384,
     "status": "ok",
     "timestamp": 1618810140455,
     "user": {
      "displayName": "Mees Molenaar",
      "photoUrl": "https://lh3.googleusercontent.com/a-/AOh14GgarFNqCn57JCj8FlX5fjTQ7xWPGveKHLnQQxqvoA=s64",
      "userId": "09138133359710811571"
     },
     "user_tz": -120
    },
    "id": "zcg-95gmmNv1"
   },
   "outputs": [],
   "source": [
    "# Tokenize the protein sequence\n",
    "df, vocab_sz, kmer_to_id, id_to_kmer = tokenize(df, 'Sequence', KMER_SIZE, vocab)"
   ]
  },
  {
   "cell_type": "code",
   "execution_count": 49,
   "metadata": {
    "colab": {
     "base_uri": "https://localhost:8080/",
     "height": 195
    },
    "executionInfo": {
     "elapsed": 439,
     "status": "ok",
     "timestamp": 1618810144312,
     "user": {
      "displayName": "Mees Molenaar",
      "photoUrl": "https://lh3.googleusercontent.com/a-/AOh14GgarFNqCn57JCj8FlX5fjTQ7xWPGveKHLnQQxqvoA=s64",
      "userId": "09138133359710811571"
     },
     "user_tz": -120
    },
    "id": "PlGSEoqFjoik",
    "outputId": "4adc0f75-e5a2-48cd-e02e-1e2b0b99612e"
   },
   "outputs": [
    {
     "data": {
      "text/html": [
       "<div>\n",
       "<style scoped>\n",
       "    .dataframe tbody tr th:only-of-type {\n",
       "        vertical-align: middle;\n",
       "    }\n",
       "\n",
       "    .dataframe tbody tr th {\n",
       "        vertical-align: top;\n",
       "    }\n",
       "\n",
       "    .dataframe thead th {\n",
       "        text-align: right;\n",
       "    }\n",
       "</style>\n",
       "<table border=\"1\" class=\"dataframe\">\n",
       "  <thead>\n",
       "    <tr style=\"text-align: right;\">\n",
       "      <th></th>\n",
       "      <th>Sequence</th>\n",
       "      <th>Location</th>\n",
       "      <th>tokenized_seqs</th>\n",
       "    </tr>\n",
       "  </thead>\n",
       "  <tbody>\n",
       "    <tr>\n",
       "      <th>0</th>\n",
       "      <td>MTDTVFSNSSNRWMYPSDRPLQSNDKEQLQAGWSVHPGGQPDRQRK...</td>\n",
       "      <td>Cytoplasm</td>\n",
       "      <td>[3884, 8570, 3840, 6832, 2277, 2221, 1020, 904...</td>\n",
       "    </tr>\n",
       "    <tr>\n",
       "      <th>1</th>\n",
       "      <td>MDTDSQRSHLSSFTMKLMDKFHSPKIKRTPSKKGKPAEVSVKIPEK...</td>\n",
       "      <td>Endosome</td>\n",
       "      <td>[8772, 7207, 1857, 1688, 5461, 3901, 4899, 424...</td>\n",
       "    </tr>\n",
       "    <tr>\n",
       "      <th>2</th>\n",
       "      <td>MEDSTSPKQEKENQEELGETRRPWEGKTAASPQYSEPESSEPLEAK...</td>\n",
       "      <td>Cytoplasm</td>\n",
       "      <td>[1565, 3797, 2513, 516, 1428, 6558, 6568, 7337...</td>\n",
       "    </tr>\n",
       "    <tr>\n",
       "      <th>3</th>\n",
       "      <td>MALPGARARGWAAAARAAQRRRRVENAGGSPSPEPAGRRAALYVHW...</td>\n",
       "      <td>Mitochondrion</td>\n",
       "      <td>[8939, 2538, 9262, 4438, 2547, 302, 60, 3064, ...</td>\n",
       "    </tr>\n",
       "    <tr>\n",
       "      <th>4</th>\n",
       "      <td>MALLVDRVRGHWRIAAGLLFNLLVSICIVFLNKWIYVYHGFPNMSL...</td>\n",
       "      <td>Cell membrane</td>\n",
       "      <td>[8939, 6897, 6013, 1021, 3034, 2863, 8501, 697...</td>\n",
       "    </tr>\n",
       "  </tbody>\n",
       "</table>\n",
       "</div>"
      ],
      "text/plain": [
       "                                            Sequence  ...                                     tokenized_seqs\n",
       "0  MTDTVFSNSSNRWMYPSDRPLQSNDKEQLQAGWSVHPGGQPDRQRK...  ...  [3884, 8570, 3840, 6832, 2277, 2221, 1020, 904...\n",
       "1  MDTDSQRSHLSSFTMKLMDKFHSPKIKRTPSKKGKPAEVSVKIPEK...  ...  [8772, 7207, 1857, 1688, 5461, 3901, 4899, 424...\n",
       "2  MEDSTSPKQEKENQEELGETRRPWEGKTAASPQYSEPESSEPLEAK...  ...  [1565, 3797, 2513, 516, 1428, 6558, 6568, 7337...\n",
       "3  MALPGARARGWAAAARAAQRRRRVENAGGSPSPEPAGRRAALYVHW...  ...  [8939, 2538, 9262, 4438, 2547, 302, 60, 3064, ...\n",
       "4  MALLVDRVRGHWRIAAGLLFNLLVSICIVFLNKWIYVYHGFPNMSL...  ...  [8939, 6897, 6013, 1021, 3034, 2863, 8501, 697...\n",
       "\n",
       "[5 rows x 3 columns]"
      ]
     },
     "execution_count": 49,
     "metadata": {
      "tags": []
     },
     "output_type": "execute_result"
    }
   ],
   "source": [
    "df.head(5)"
   ]
  },
  {
   "cell_type": "code",
   "execution_count": 50,
   "metadata": {
    "colab": {
     "base_uri": "https://localhost:8080/"
    },
    "executionInfo": {
     "elapsed": 383,
     "status": "ok",
     "timestamp": 1618810146592,
     "user": {
      "displayName": "Mees Molenaar",
      "photoUrl": "https://lh3.googleusercontent.com/a-/AOh14GgarFNqCn57JCj8FlX5fjTQ7xWPGveKHLnQQxqvoA=s64",
      "userId": "09138133359710811571"
     },
     "user_tz": -120
    },
    "id": "kGJRpioYWbTc",
    "outputId": "9e562c9d-ecec-4684-f3d1-6832312711d6"
   },
   "outputs": [
    {
     "data": {
      "text/plain": [
       "16614"
      ]
     },
     "execution_count": 50,
     "metadata": {
      "tags": []
     },
     "output_type": "execute_result"
    }
   ],
   "source": [
    "df.dropna(inplace=True)\n",
    "len(df)"
   ]
  },
  {
   "cell_type": "code",
   "execution_count": 51,
   "metadata": {
    "executionInfo": {
     "elapsed": 1786,
     "status": "ok",
     "timestamp": 1618810152311,
     "user": {
      "displayName": "Mees Molenaar",
      "photoUrl": "https://lh3.googleusercontent.com/a-/AOh14GgarFNqCn57JCj8FlX5fjTQ7xWPGveKHLnQQxqvoA=s64",
      "userId": "09138133359710811571"
     },
     "user_tz": -120
    },
    "id": "KXiEy8vumVw4"
   },
   "outputs": [],
   "source": [
    "data = []\n",
    "for seq in df['tokenized_seqs']:\n",
    "    for kmer in seq:\n",
    "        data.append(kmer)"
   ]
  },
  {
   "cell_type": "markdown",
   "metadata": {
    "id": "Ox6DmpAZmaD9"
   },
   "source": [
    "### Train with the new data"
   ]
  },
  {
   "cell_type": "code",
   "execution_count": 52,
   "metadata": {
    "executionInfo": {
     "elapsed": 828,
     "status": "ok",
     "timestamp": 1618810166251,
     "user": {
      "displayName": "Mees Molenaar",
      "photoUrl": "https://lh3.googleusercontent.com/a-/AOh14GgarFNqCn57JCj8FlX5fjTQ7xWPGveKHLnQQxqvoA=s64",
      "userId": "09138133359710811571"
     },
     "user_tz": -120
    },
    "id": "9iVIHGtEmeQI"
   },
   "outputs": [],
   "source": [
    "training_set = AminoLMDataset(data, seq_len)"
   ]
  },
  {
   "cell_type": "code",
   "execution_count": 53,
   "metadata": {
    "executionInfo": {
     "elapsed": 539,
     "status": "ok",
     "timestamp": 1618810167640,
     "user": {
      "displayName": "Mees Molenaar",
      "photoUrl": "https://lh3.googleusercontent.com/a-/AOh14GgarFNqCn57JCj8FlX5fjTQ7xWPGveKHLnQQxqvoA=s64",
      "userId": "09138133359710811571"
     },
     "user_tz": -120
    },
    "id": "enzAH5b1moUI"
   },
   "outputs": [],
   "source": [
    "training_loader = torch.utils.data.DataLoader(training_set, batch_size=bs, shuffle=False)"
   ]
  },
  {
   "cell_type": "code",
   "execution_count": 54,
   "metadata": {
    "colab": {
     "base_uri": "https://localhost:8080/"
    },
    "executionInfo": {
     "elapsed": 553,
     "status": "ok",
     "timestamp": 1618810169198,
     "user": {
      "displayName": "Mees Molenaar",
      "photoUrl": "https://lh3.googleusercontent.com/a-/AOh14GgarFNqCn57JCj8FlX5fjTQ7xWPGveKHLnQQxqvoA=s64",
      "userId": "09138133359710811571"
     },
     "user_tz": -120
    },
    "id": "GRmnqTD3ms4O",
    "outputId": "e8166d43-0fa9-4df1-bf9f-ba3b2a4fe2a1"
   },
   "outputs": [
    {
     "data": {
      "text/plain": [
       "1202020"
      ]
     },
     "execution_count": 54,
     "metadata": {
      "tags": []
     },
     "output_type": "execute_result"
    }
   ],
   "source": [
    "total_train_len = len(training_loader)\n",
    "total_train_len"
   ]
  },
  {
   "cell_type": "code",
   "execution_count": 58,
   "metadata": {
    "executionInfo": {
     "elapsed": 502,
     "status": "ok",
     "timestamp": 1618810408389,
     "user": {
      "displayName": "Mees Molenaar",
      "photoUrl": "https://lh3.googleusercontent.com/a-/AOh14GgarFNqCn57JCj8FlX5fjTQ7xWPGveKHLnQQxqvoA=s64",
      "userId": "09138133359710811571"
     },
     "user_tz": -120
    },
    "id": "4jWzBj-Bm1zj"
   },
   "outputs": [],
   "source": [
    "# Hyperparameters\n",
    "learning_rate = 0.01\n",
    "epochs = 3"
   ]
  },
  {
   "cell_type": "code",
   "execution_count": 59,
   "metadata": {
    "executionInfo": {
     "elapsed": 673,
     "status": "ok",
     "timestamp": 1618810409671,
     "user": {
      "displayName": "Mees Molenaar",
      "photoUrl": "https://lh3.googleusercontent.com/a-/AOh14GgarFNqCn57JCj8FlX5fjTQ7xWPGveKHLnQQxqvoA=s64",
      "userId": "09138133359710811571"
     },
     "user_tz": -120
    },
    "id": "2tK5cGZhm228"
   },
   "outputs": [],
   "source": [
    "# Costfunction and optimize algorithm\n",
    "criterion = torch.nn.CrossEntropyLoss()\n",
    "optimizer = torch.optim.SGD(model.parameters(), lr= learning_rate)"
   ]
  },
  {
   "cell_type": "code",
   "execution_count": 60,
   "metadata": {
    "colab": {
     "base_uri": "https://localhost:8080/",
     "height": 1000
    },
    "executionInfo": {
     "elapsed": 10866768,
     "status": "error",
     "timestamp": 1618821276347,
     "user": {
      "displayName": "Mees Molenaar",
      "photoUrl": "https://lh3.googleusercontent.com/a-/AOh14GgarFNqCn57JCj8FlX5fjTQ7xWPGveKHLnQQxqvoA=s64",
      "userId": "09138133359710811571"
     },
     "user_tz": -120
    },
    "id": "6yPlt-lhm7hi",
    "outputId": "74f3b29d-5daa-4650-919e-688154f8b51e"
   },
   "outputs": [
    {
     "data": {
      "text/html": [
       "<table>\n",
       "        <thead>\n",
       "          <tr>\n",
       "          <th>Epoch</th>\n",
       "          <th>Percentage</th>\n",
       "          <th>Loss</th>\n",
       "          <th>Time</th>\n",
       "          </tr>\n",
       "        </thead>\n",
       "        <tbody>\n",
       "        "
      ],
      "text/plain": [
       "<IPython.core.display.HTML object>"
      ]
     },
     "metadata": {
      "tags": []
     },
     "output_type": "display_data"
    },
    {
     "name": "stderr",
     "output_type": "stream",
     "text": [
      "/usr/local/lib/python3.7/dist-packages/torch/nn/modules/rnn.py:662: UserWarning: RNN module weights are not part of single contiguous chunk of memory. This means they need to be compacted at every call, possibly greatly increasing memory usage. To compact weights again call flatten_parameters(). (Triggered internally at  /pytorch/aten/src/ATen/native/cudnn/RNN.cpp:915.)\n",
      "  self.dropout, self.training, self.bidirectional, self.batch_first)\n"
     ]
    },
    {
     "data": {
      "text/html": [
       "<tr>\n",
       "            <td>1</td>\n",
       "            <td>0.0</td>\n",
       "            <td>0.01</td>\n",
       "            <td>0.0</td>\n",
       "            </tr>"
      ],
      "text/plain": [
       "<IPython.core.display.HTML object>"
      ]
     },
     "metadata": {
      "tags": []
     },
     "output_type": "display_data"
    },
    {
     "data": {
      "text/html": [
       "<tr>\n",
       "            <td>1</td>\n",
       "            <td>1.25</td>\n",
       "            <td>205.71</td>\n",
       "            <td>2.0</td>\n",
       "            </tr>"
      ],
      "text/plain": [
       "<IPython.core.display.HTML object>"
      ]
     },
     "metadata": {
      "tags": []
     },
     "output_type": "display_data"
    },
    {
     "data": {
      "text/html": [
       "<tr>\n",
       "            <td>1</td>\n",
       "            <td>2.5</td>\n",
       "            <td>204.64</td>\n",
       "            <td>2.0</td>\n",
       "            </tr>"
      ],
      "text/plain": [
       "<IPython.core.display.HTML object>"
      ]
     },
     "metadata": {
      "tags": []
     },
     "output_type": "display_data"
    },
    {
     "data": {
      "text/html": [
       "<tr>\n",
       "            <td>1</td>\n",
       "            <td>3.74</td>\n",
       "            <td>202.85</td>\n",
       "            <td>2.0</td>\n",
       "            </tr>"
      ],
      "text/plain": [
       "<IPython.core.display.HTML object>"
      ]
     },
     "metadata": {
      "tags": []
     },
     "output_type": "display_data"
    },
    {
     "data": {
      "text/html": [
       "<tr>\n",
       "            <td>1</td>\n",
       "            <td>4.99</td>\n",
       "            <td>201.52</td>\n",
       "            <td>2.0</td>\n",
       "            </tr>"
      ],
      "text/plain": [
       "<IPython.core.display.HTML object>"
      ]
     },
     "metadata": {
      "tags": []
     },
     "output_type": "display_data"
    },
    {
     "data": {
      "text/html": [
       "<tr>\n",
       "            <td>1</td>\n",
       "            <td>6.24</td>\n",
       "            <td>198.75</td>\n",
       "            <td>2.0</td>\n",
       "            </tr>"
      ],
      "text/plain": [
       "<IPython.core.display.HTML object>"
      ]
     },
     "metadata": {
      "tags": []
     },
     "output_type": "display_data"
    },
    {
     "data": {
      "text/html": [
       "<tr>\n",
       "            <td>1</td>\n",
       "            <td>7.49</td>\n",
       "            <td>196.8</td>\n",
       "            <td>2.0</td>\n",
       "            </tr>"
      ],
      "text/plain": [
       "<IPython.core.display.HTML object>"
      ]
     },
     "metadata": {
      "tags": []
     },
     "output_type": "display_data"
    },
    {
     "data": {
      "text/html": [
       "<tr>\n",
       "            <td>1</td>\n",
       "            <td>8.74</td>\n",
       "            <td>198.63</td>\n",
       "            <td>2.0</td>\n",
       "            </tr>"
      ],
      "text/plain": [
       "<IPython.core.display.HTML object>"
      ]
     },
     "metadata": {
      "tags": []
     },
     "output_type": "display_data"
    },
    {
     "data": {
      "text/html": [
       "<tr>\n",
       "            <td>1</td>\n",
       "            <td>9.98</td>\n",
       "            <td>196.53</td>\n",
       "            <td>2.0</td>\n",
       "            </tr>"
      ],
      "text/plain": [
       "<IPython.core.display.HTML object>"
      ]
     },
     "metadata": {
      "tags": []
     },
     "output_type": "display_data"
    },
    {
     "data": {
      "text/html": [
       "<tr>\n",
       "            <td>1</td>\n",
       "            <td>11.23</td>\n",
       "            <td>196.68</td>\n",
       "            <td>2.0</td>\n",
       "            </tr>"
      ],
      "text/plain": [
       "<IPython.core.display.HTML object>"
      ]
     },
     "metadata": {
      "tags": []
     },
     "output_type": "display_data"
    },
    {
     "data": {
      "text/html": [
       "<tr>\n",
       "            <td>1</td>\n",
       "            <td>12.48</td>\n",
       "            <td>194.64</td>\n",
       "            <td>2.0</td>\n",
       "            </tr>"
      ],
      "text/plain": [
       "<IPython.core.display.HTML object>"
      ]
     },
     "metadata": {
      "tags": []
     },
     "output_type": "display_data"
    },
    {
     "data": {
      "text/html": [
       "<tr>\n",
       "            <td>1</td>\n",
       "            <td>13.73</td>\n",
       "            <td>193.81</td>\n",
       "            <td>2.0</td>\n",
       "            </tr>"
      ],
      "text/plain": [
       "<IPython.core.display.HTML object>"
      ]
     },
     "metadata": {
      "tags": []
     },
     "output_type": "display_data"
    },
    {
     "data": {
      "text/html": [
       "<tr>\n",
       "            <td>1</td>\n",
       "            <td>14.97</td>\n",
       "            <td>191.75</td>\n",
       "            <td>2.0</td>\n",
       "            </tr>"
      ],
      "text/plain": [
       "<IPython.core.display.HTML object>"
      ]
     },
     "metadata": {
      "tags": []
     },
     "output_type": "display_data"
    },
    {
     "data": {
      "text/html": [
       "<tr>\n",
       "            <td>1</td>\n",
       "            <td>16.22</td>\n",
       "            <td>192.76</td>\n",
       "            <td>2.0</td>\n",
       "            </tr>"
      ],
      "text/plain": [
       "<IPython.core.display.HTML object>"
      ]
     },
     "metadata": {
      "tags": []
     },
     "output_type": "display_data"
    },
    {
     "data": {
      "text/html": [
       "<tr>\n",
       "            <td>1</td>\n",
       "            <td>17.47</td>\n",
       "            <td>193.79</td>\n",
       "            <td>2.0</td>\n",
       "            </tr>"
      ],
      "text/plain": [
       "<IPython.core.display.HTML object>"
      ]
     },
     "metadata": {
      "tags": []
     },
     "output_type": "display_data"
    },
    {
     "data": {
      "text/html": [
       "<tr>\n",
       "            <td>1</td>\n",
       "            <td>18.72</td>\n",
       "            <td>194.0</td>\n",
       "            <td>2.0</td>\n",
       "            </tr>"
      ],
      "text/plain": [
       "<IPython.core.display.HTML object>"
      ]
     },
     "metadata": {
      "tags": []
     },
     "output_type": "display_data"
    },
    {
     "data": {
      "text/html": [
       "<tr>\n",
       "            <td>1</td>\n",
       "            <td>19.97</td>\n",
       "            <td>190.89</td>\n",
       "            <td>2.0</td>\n",
       "            </tr>"
      ],
      "text/plain": [
       "<IPython.core.display.HTML object>"
      ]
     },
     "metadata": {
      "tags": []
     },
     "output_type": "display_data"
    },
    {
     "data": {
      "text/html": [
       "<tr>\n",
       "            <td>1</td>\n",
       "            <td>21.21</td>\n",
       "            <td>189.31</td>\n",
       "            <td>2.0</td>\n",
       "            </tr>"
      ],
      "text/plain": [
       "<IPython.core.display.HTML object>"
      ]
     },
     "metadata": {
      "tags": []
     },
     "output_type": "display_data"
    },
    {
     "data": {
      "text/html": [
       "<tr>\n",
       "            <td>1</td>\n",
       "            <td>22.46</td>\n",
       "            <td>192.71</td>\n",
       "            <td>2.0</td>\n",
       "            </tr>"
      ],
      "text/plain": [
       "<IPython.core.display.HTML object>"
      ]
     },
     "metadata": {
      "tags": []
     },
     "output_type": "display_data"
    },
    {
     "data": {
      "text/html": [
       "<tr>\n",
       "            <td>1</td>\n",
       "            <td>23.71</td>\n",
       "            <td>192.07</td>\n",
       "            <td>2.0</td>\n",
       "            </tr>"
      ],
      "text/plain": [
       "<IPython.core.display.HTML object>"
      ]
     },
     "metadata": {
      "tags": []
     },
     "output_type": "display_data"
    },
    {
     "data": {
      "text/html": [
       "<tr>\n",
       "            <td>1</td>\n",
       "            <td>24.96</td>\n",
       "            <td>192.23</td>\n",
       "            <td>2.0</td>\n",
       "            </tr>"
      ],
      "text/plain": [
       "<IPython.core.display.HTML object>"
      ]
     },
     "metadata": {
      "tags": []
     },
     "output_type": "display_data"
    },
    {
     "data": {
      "text/html": [
       "<tr>\n",
       "            <td>1</td>\n",
       "            <td>26.21</td>\n",
       "            <td>191.79</td>\n",
       "            <td>2.0</td>\n",
       "            </tr>"
      ],
      "text/plain": [
       "<IPython.core.display.HTML object>"
      ]
     },
     "metadata": {
      "tags": []
     },
     "output_type": "display_data"
    },
    {
     "data": {
      "text/html": [
       "<tr>\n",
       "            <td>1</td>\n",
       "            <td>27.45</td>\n",
       "            <td>191.05</td>\n",
       "            <td>2.0</td>\n",
       "            </tr>"
      ],
      "text/plain": [
       "<IPython.core.display.HTML object>"
      ]
     },
     "metadata": {
      "tags": []
     },
     "output_type": "display_data"
    },
    {
     "data": {
      "text/html": [
       "<tr>\n",
       "            <td>1</td>\n",
       "            <td>28.7</td>\n",
       "            <td>189.16</td>\n",
       "            <td>2.0</td>\n",
       "            </tr>"
      ],
      "text/plain": [
       "<IPython.core.display.HTML object>"
      ]
     },
     "metadata": {
      "tags": []
     },
     "output_type": "display_data"
    },
    {
     "data": {
      "text/html": [
       "<tr>\n",
       "            <td>1</td>\n",
       "            <td>29.95</td>\n",
       "            <td>191.26</td>\n",
       "            <td>2.0</td>\n",
       "            </tr>"
      ],
      "text/plain": [
       "<IPython.core.display.HTML object>"
      ]
     },
     "metadata": {
      "tags": []
     },
     "output_type": "display_data"
    },
    {
     "data": {
      "text/html": [
       "<tr>\n",
       "            <td>1</td>\n",
       "            <td>31.2</td>\n",
       "            <td>184.03</td>\n",
       "            <td>2.0</td>\n",
       "            </tr>"
      ],
      "text/plain": [
       "<IPython.core.display.HTML object>"
      ]
     },
     "metadata": {
      "tags": []
     },
     "output_type": "display_data"
    },
    {
     "data": {
      "text/html": [
       "<tr>\n",
       "            <td>1</td>\n",
       "            <td>32.45</td>\n",
       "            <td>188.88</td>\n",
       "            <td>2.0</td>\n",
       "            </tr>"
      ],
      "text/plain": [
       "<IPython.core.display.HTML object>"
      ]
     },
     "metadata": {
      "tags": []
     },
     "output_type": "display_data"
    },
    {
     "data": {
      "text/html": [
       "<tr>\n",
       "            <td>1</td>\n",
       "            <td>33.69</td>\n",
       "            <td>190.89</td>\n",
       "            <td>2.0</td>\n",
       "            </tr>"
      ],
      "text/plain": [
       "<IPython.core.display.HTML object>"
      ]
     },
     "metadata": {
      "tags": []
     },
     "output_type": "display_data"
    },
    {
     "data": {
      "text/html": [
       "<tr>\n",
       "            <td>1</td>\n",
       "            <td>34.94</td>\n",
       "            <td>189.66</td>\n",
       "            <td>2.0</td>\n",
       "            </tr>"
      ],
      "text/plain": [
       "<IPython.core.display.HTML object>"
      ]
     },
     "metadata": {
      "tags": []
     },
     "output_type": "display_data"
    },
    {
     "data": {
      "text/html": [
       "<tr>\n",
       "            <td>1</td>\n",
       "            <td>36.19</td>\n",
       "            <td>189.81</td>\n",
       "            <td>2.0</td>\n",
       "            </tr>"
      ],
      "text/plain": [
       "<IPython.core.display.HTML object>"
      ]
     },
     "metadata": {
      "tags": []
     },
     "output_type": "display_data"
    },
    {
     "data": {
      "text/html": [
       "<tr>\n",
       "            <td>1</td>\n",
       "            <td>37.44</td>\n",
       "            <td>189.15</td>\n",
       "            <td>2.0</td>\n",
       "            </tr>"
      ],
      "text/plain": [
       "<IPython.core.display.HTML object>"
      ]
     },
     "metadata": {
      "tags": []
     },
     "output_type": "display_data"
    },
    {
     "data": {
      "text/html": [
       "<tr>\n",
       "            <td>1</td>\n",
       "            <td>38.68</td>\n",
       "            <td>188.91</td>\n",
       "            <td>2.0</td>\n",
       "            </tr>"
      ],
      "text/plain": [
       "<IPython.core.display.HTML object>"
      ]
     },
     "metadata": {
      "tags": []
     },
     "output_type": "display_data"
    },
    {
     "data": {
      "text/html": [
       "<tr>\n",
       "            <td>1</td>\n",
       "            <td>39.93</td>\n",
       "            <td>189.9</td>\n",
       "            <td>2.0</td>\n",
       "            </tr>"
      ],
      "text/plain": [
       "<IPython.core.display.HTML object>"
      ]
     },
     "metadata": {
      "tags": []
     },
     "output_type": "display_data"
    },
    {
     "data": {
      "text/html": [
       "<tr>\n",
       "            <td>1</td>\n",
       "            <td>41.18</td>\n",
       "            <td>188.98</td>\n",
       "            <td>2.0</td>\n",
       "            </tr>"
      ],
      "text/plain": [
       "<IPython.core.display.HTML object>"
      ]
     },
     "metadata": {
      "tags": []
     },
     "output_type": "display_data"
    },
    {
     "data": {
      "text/html": [
       "<tr>\n",
       "            <td>1</td>\n",
       "            <td>42.43</td>\n",
       "            <td>187.15</td>\n",
       "            <td>2.0</td>\n",
       "            </tr>"
      ],
      "text/plain": [
       "<IPython.core.display.HTML object>"
      ]
     },
     "metadata": {
      "tags": []
     },
     "output_type": "display_data"
    },
    {
     "data": {
      "text/html": [
       "<tr>\n",
       "            <td>1</td>\n",
       "            <td>43.68</td>\n",
       "            <td>189.22</td>\n",
       "            <td>2.0</td>\n",
       "            </tr>"
      ],
      "text/plain": [
       "<IPython.core.display.HTML object>"
      ]
     },
     "metadata": {
      "tags": []
     },
     "output_type": "display_data"
    },
    {
     "data": {
      "text/html": [
       "<tr>\n",
       "            <td>1</td>\n",
       "            <td>44.92</td>\n",
       "            <td>189.45</td>\n",
       "            <td>2.0</td>\n",
       "            </tr>"
      ],
      "text/plain": [
       "<IPython.core.display.HTML object>"
      ]
     },
     "metadata": {
      "tags": []
     },
     "output_type": "display_data"
    },
    {
     "data": {
      "text/html": [
       "<tr>\n",
       "            <td>1</td>\n",
       "            <td>46.17</td>\n",
       "            <td>189.7</td>\n",
       "            <td>2.0</td>\n",
       "            </tr>"
      ],
      "text/plain": [
       "<IPython.core.display.HTML object>"
      ]
     },
     "metadata": {
      "tags": []
     },
     "output_type": "display_data"
    },
    {
     "data": {
      "text/html": [
       "<tr>\n",
       "            <td>1</td>\n",
       "            <td>47.42</td>\n",
       "            <td>188.21</td>\n",
       "            <td>2.0</td>\n",
       "            </tr>"
      ],
      "text/plain": [
       "<IPython.core.display.HTML object>"
      ]
     },
     "metadata": {
      "tags": []
     },
     "output_type": "display_data"
    },
    {
     "data": {
      "text/html": [
       "<tr>\n",
       "            <td>1</td>\n",
       "            <td>48.67</td>\n",
       "            <td>188.36</td>\n",
       "            <td>2.0</td>\n",
       "            </tr>"
      ],
      "text/plain": [
       "<IPython.core.display.HTML object>"
      ]
     },
     "metadata": {
      "tags": []
     },
     "output_type": "display_data"
    },
    {
     "data": {
      "text/html": [
       "<tr>\n",
       "            <td>1</td>\n",
       "            <td>49.92</td>\n",
       "            <td>188.01</td>\n",
       "            <td>2.0</td>\n",
       "            </tr>"
      ],
      "text/plain": [
       "<IPython.core.display.HTML object>"
      ]
     },
     "metadata": {
      "tags": []
     },
     "output_type": "display_data"
    },
    {
     "data": {
      "text/html": [
       "<tr>\n",
       "            <td>1</td>\n",
       "            <td>51.16</td>\n",
       "            <td>188.19</td>\n",
       "            <td>2.0</td>\n",
       "            </tr>"
      ],
      "text/plain": [
       "<IPython.core.display.HTML object>"
      ]
     },
     "metadata": {
      "tags": []
     },
     "output_type": "display_data"
    },
    {
     "data": {
      "text/html": [
       "<tr>\n",
       "            <td>1</td>\n",
       "            <td>52.41</td>\n",
       "            <td>188.12</td>\n",
       "            <td>2.0</td>\n",
       "            </tr>"
      ],
      "text/plain": [
       "<IPython.core.display.HTML object>"
      ]
     },
     "metadata": {
      "tags": []
     },
     "output_type": "display_data"
    },
    {
     "data": {
      "text/html": [
       "<tr>\n",
       "            <td>1</td>\n",
       "            <td>53.66</td>\n",
       "            <td>188.39</td>\n",
       "            <td>2.0</td>\n",
       "            </tr>"
      ],
      "text/plain": [
       "<IPython.core.display.HTML object>"
      ]
     },
     "metadata": {
      "tags": []
     },
     "output_type": "display_data"
    },
    {
     "data": {
      "text/html": [
       "<tr>\n",
       "            <td>1</td>\n",
       "            <td>54.91</td>\n",
       "            <td>188.03</td>\n",
       "            <td>2.0</td>\n",
       "            </tr>"
      ],
      "text/plain": [
       "<IPython.core.display.HTML object>"
      ]
     },
     "metadata": {
      "tags": []
     },
     "output_type": "display_data"
    },
    {
     "data": {
      "text/html": [
       "<tr>\n",
       "            <td>1</td>\n",
       "            <td>56.16</td>\n",
       "            <td>188.15</td>\n",
       "            <td>2.0</td>\n",
       "            </tr>"
      ],
      "text/plain": [
       "<IPython.core.display.HTML object>"
      ]
     },
     "metadata": {
      "tags": []
     },
     "output_type": "display_data"
    },
    {
     "data": {
      "text/html": [
       "<tr>\n",
       "            <td>1</td>\n",
       "            <td>57.4</td>\n",
       "            <td>188.11</td>\n",
       "            <td>2.0</td>\n",
       "            </tr>"
      ],
      "text/plain": [
       "<IPython.core.display.HTML object>"
      ]
     },
     "metadata": {
      "tags": []
     },
     "output_type": "display_data"
    },
    {
     "data": {
      "text/html": [
       "<tr>\n",
       "            <td>1</td>\n",
       "            <td>58.65</td>\n",
       "            <td>187.16</td>\n",
       "            <td>2.0</td>\n",
       "            </tr>"
      ],
      "text/plain": [
       "<IPython.core.display.HTML object>"
      ]
     },
     "metadata": {
      "tags": []
     },
     "output_type": "display_data"
    },
    {
     "data": {
      "text/html": [
       "<tr>\n",
       "            <td>1</td>\n",
       "            <td>59.9</td>\n",
       "            <td>187.87</td>\n",
       "            <td>2.0</td>\n",
       "            </tr>"
      ],
      "text/plain": [
       "<IPython.core.display.HTML object>"
      ]
     },
     "metadata": {
      "tags": []
     },
     "output_type": "display_data"
    },
    {
     "data": {
      "text/html": [
       "<tr>\n",
       "            <td>1</td>\n",
       "            <td>61.15</td>\n",
       "            <td>187.48</td>\n",
       "            <td>2.0</td>\n",
       "            </tr>"
      ],
      "text/plain": [
       "<IPython.core.display.HTML object>"
      ]
     },
     "metadata": {
      "tags": []
     },
     "output_type": "display_data"
    },
    {
     "data": {
      "text/html": [
       "<tr>\n",
       "            <td>1</td>\n",
       "            <td>62.39</td>\n",
       "            <td>187.42</td>\n",
       "            <td>2.0</td>\n",
       "            </tr>"
      ],
      "text/plain": [
       "<IPython.core.display.HTML object>"
      ]
     },
     "metadata": {
      "tags": []
     },
     "output_type": "display_data"
    },
    {
     "data": {
      "text/html": [
       "<tr>\n",
       "            <td>1</td>\n",
       "            <td>63.64</td>\n",
       "            <td>186.95</td>\n",
       "            <td>2.0</td>\n",
       "            </tr>"
      ],
      "text/plain": [
       "<IPython.core.display.HTML object>"
      ]
     },
     "metadata": {
      "tags": []
     },
     "output_type": "display_data"
    },
    {
     "data": {
      "text/html": [
       "<tr>\n",
       "            <td>1</td>\n",
       "            <td>64.89</td>\n",
       "            <td>187.68</td>\n",
       "            <td>2.0</td>\n",
       "            </tr>"
      ],
      "text/plain": [
       "<IPython.core.display.HTML object>"
      ]
     },
     "metadata": {
      "tags": []
     },
     "output_type": "display_data"
    },
    {
     "data": {
      "text/html": [
       "<tr>\n",
       "            <td>1</td>\n",
       "            <td>66.14</td>\n",
       "            <td>187.09</td>\n",
       "            <td>2.0</td>\n",
       "            </tr>"
      ],
      "text/plain": [
       "<IPython.core.display.HTML object>"
      ]
     },
     "metadata": {
      "tags": []
     },
     "output_type": "display_data"
    },
    {
     "data": {
      "text/html": [
       "<tr>\n",
       "            <td>1</td>\n",
       "            <td>67.39</td>\n",
       "            <td>187.31</td>\n",
       "            <td>2.0</td>\n",
       "            </tr>"
      ],
      "text/plain": [
       "<IPython.core.display.HTML object>"
      ]
     },
     "metadata": {
      "tags": []
     },
     "output_type": "display_data"
    },
    {
     "data": {
      "text/html": [
       "<tr>\n",
       "            <td>1</td>\n",
       "            <td>68.63</td>\n",
       "            <td>187.66</td>\n",
       "            <td>2.0</td>\n",
       "            </tr>"
      ],
      "text/plain": [
       "<IPython.core.display.HTML object>"
      ]
     },
     "metadata": {
      "tags": []
     },
     "output_type": "display_data"
    },
    {
     "data": {
      "text/html": [
       "<tr>\n",
       "            <td>1</td>\n",
       "            <td>69.88</td>\n",
       "            <td>186.79</td>\n",
       "            <td>2.0</td>\n",
       "            </tr>"
      ],
      "text/plain": [
       "<IPython.core.display.HTML object>"
      ]
     },
     "metadata": {
      "tags": []
     },
     "output_type": "display_data"
    },
    {
     "data": {
      "text/html": [
       "<tr>\n",
       "            <td>1</td>\n",
       "            <td>71.13</td>\n",
       "            <td>187.02</td>\n",
       "            <td>2.0</td>\n",
       "            </tr>"
      ],
      "text/plain": [
       "<IPython.core.display.HTML object>"
      ]
     },
     "metadata": {
      "tags": []
     },
     "output_type": "display_data"
    },
    {
     "data": {
      "text/html": [
       "<tr>\n",
       "            <td>1</td>\n",
       "            <td>72.38</td>\n",
       "            <td>186.82</td>\n",
       "            <td>2.0</td>\n",
       "            </tr>"
      ],
      "text/plain": [
       "<IPython.core.display.HTML object>"
      ]
     },
     "metadata": {
      "tags": []
     },
     "output_type": "display_data"
    },
    {
     "data": {
      "text/html": [
       "<tr>\n",
       "            <td>1</td>\n",
       "            <td>73.63</td>\n",
       "            <td>186.63</td>\n",
       "            <td>2.0</td>\n",
       "            </tr>"
      ],
      "text/plain": [
       "<IPython.core.display.HTML object>"
      ]
     },
     "metadata": {
      "tags": []
     },
     "output_type": "display_data"
    },
    {
     "data": {
      "text/html": [
       "<tr>\n",
       "            <td>1</td>\n",
       "            <td>74.87</td>\n",
       "            <td>187.5</td>\n",
       "            <td>2.0</td>\n",
       "            </tr>"
      ],
      "text/plain": [
       "<IPython.core.display.HTML object>"
      ]
     },
     "metadata": {
      "tags": []
     },
     "output_type": "display_data"
    },
    {
     "data": {
      "text/html": [
       "<tr>\n",
       "            <td>1</td>\n",
       "            <td>76.12</td>\n",
       "            <td>186.92</td>\n",
       "            <td>2.0</td>\n",
       "            </tr>"
      ],
      "text/plain": [
       "<IPython.core.display.HTML object>"
      ]
     },
     "metadata": {
      "tags": []
     },
     "output_type": "display_data"
    },
    {
     "data": {
      "text/html": [
       "<tr>\n",
       "            <td>1</td>\n",
       "            <td>77.37</td>\n",
       "            <td>186.76</td>\n",
       "            <td>2.0</td>\n",
       "            </tr>"
      ],
      "text/plain": [
       "<IPython.core.display.HTML object>"
      ]
     },
     "metadata": {
      "tags": []
     },
     "output_type": "display_data"
    },
    {
     "data": {
      "text/html": [
       "<tr>\n",
       "            <td>1</td>\n",
       "            <td>78.62</td>\n",
       "            <td>186.15</td>\n",
       "            <td>2.0</td>\n",
       "            </tr>"
      ],
      "text/plain": [
       "<IPython.core.display.HTML object>"
      ]
     },
     "metadata": {
      "tags": []
     },
     "output_type": "display_data"
    },
    {
     "data": {
      "text/html": [
       "<tr>\n",
       "            <td>1</td>\n",
       "            <td>79.87</td>\n",
       "            <td>186.22</td>\n",
       "            <td>2.0</td>\n",
       "            </tr>"
      ],
      "text/plain": [
       "<IPython.core.display.HTML object>"
      ]
     },
     "metadata": {
      "tags": []
     },
     "output_type": "display_data"
    },
    {
     "data": {
      "text/html": [
       "<tr>\n",
       "            <td>1</td>\n",
       "            <td>81.11</td>\n",
       "            <td>186.66</td>\n",
       "            <td>2.0</td>\n",
       "            </tr>"
      ],
      "text/plain": [
       "<IPython.core.display.HTML object>"
      ]
     },
     "metadata": {
      "tags": []
     },
     "output_type": "display_data"
    },
    {
     "data": {
      "text/html": [
       "<tr>\n",
       "            <td>1</td>\n",
       "            <td>82.36</td>\n",
       "            <td>185.31</td>\n",
       "            <td>2.0</td>\n",
       "            </tr>"
      ],
      "text/plain": [
       "<IPython.core.display.HTML object>"
      ]
     },
     "metadata": {
      "tags": []
     },
     "output_type": "display_data"
    },
    {
     "data": {
      "text/html": [
       "<tr>\n",
       "            <td>1</td>\n",
       "            <td>83.61</td>\n",
       "            <td>185.06</td>\n",
       "            <td>2.0</td>\n",
       "            </tr>"
      ],
      "text/plain": [
       "<IPython.core.display.HTML object>"
      ]
     },
     "metadata": {
      "tags": []
     },
     "output_type": "display_data"
    },
    {
     "data": {
      "text/html": [
       "<tr>\n",
       "            <td>1</td>\n",
       "            <td>84.86</td>\n",
       "            <td>185.86</td>\n",
       "            <td>2.0</td>\n",
       "            </tr>"
      ],
      "text/plain": [
       "<IPython.core.display.HTML object>"
      ]
     },
     "metadata": {
      "tags": []
     },
     "output_type": "display_data"
    },
    {
     "data": {
      "text/html": [
       "<tr>\n",
       "            <td>1</td>\n",
       "            <td>86.11</td>\n",
       "            <td>186.08</td>\n",
       "            <td>2.0</td>\n",
       "            </tr>"
      ],
      "text/plain": [
       "<IPython.core.display.HTML object>"
      ]
     },
     "metadata": {
      "tags": []
     },
     "output_type": "display_data"
    },
    {
     "data": {
      "text/html": [
       "<tr>\n",
       "            <td>1</td>\n",
       "            <td>87.35</td>\n",
       "            <td>185.91</td>\n",
       "            <td>2.0</td>\n",
       "            </tr>"
      ],
      "text/plain": [
       "<IPython.core.display.HTML object>"
      ]
     },
     "metadata": {
      "tags": []
     },
     "output_type": "display_data"
    },
    {
     "data": {
      "text/html": [
       "<tr>\n",
       "            <td>1</td>\n",
       "            <td>88.6</td>\n",
       "            <td>186.08</td>\n",
       "            <td>2.0</td>\n",
       "            </tr>"
      ],
      "text/plain": [
       "<IPython.core.display.HTML object>"
      ]
     },
     "metadata": {
      "tags": []
     },
     "output_type": "display_data"
    },
    {
     "data": {
      "text/html": [
       "<tr>\n",
       "            <td>1</td>\n",
       "            <td>89.85</td>\n",
       "            <td>185.75</td>\n",
       "            <td>2.0</td>\n",
       "            </tr>"
      ],
      "text/plain": [
       "<IPython.core.display.HTML object>"
      ]
     },
     "metadata": {
      "tags": []
     },
     "output_type": "display_data"
    },
    {
     "data": {
      "text/html": [
       "<tr>\n",
       "            <td>1</td>\n",
       "            <td>91.1</td>\n",
       "            <td>183.89</td>\n",
       "            <td>2.0</td>\n",
       "            </tr>"
      ],
      "text/plain": [
       "<IPython.core.display.HTML object>"
      ]
     },
     "metadata": {
      "tags": []
     },
     "output_type": "display_data"
    },
    {
     "data": {
      "text/html": [
       "<tr>\n",
       "            <td>1</td>\n",
       "            <td>92.34</td>\n",
       "            <td>185.81</td>\n",
       "            <td>2.0</td>\n",
       "            </tr>"
      ],
      "text/plain": [
       "<IPython.core.display.HTML object>"
      ]
     },
     "metadata": {
      "tags": []
     },
     "output_type": "display_data"
    },
    {
     "data": {
      "text/html": [
       "<tr>\n",
       "            <td>1</td>\n",
       "            <td>93.59</td>\n",
       "            <td>185.6</td>\n",
       "            <td>2.0</td>\n",
       "            </tr>"
      ],
      "text/plain": [
       "<IPython.core.display.HTML object>"
      ]
     },
     "metadata": {
      "tags": []
     },
     "output_type": "display_data"
    },
    {
     "data": {
      "text/html": [
       "<tr>\n",
       "            <td>1</td>\n",
       "            <td>94.84</td>\n",
       "            <td>184.51</td>\n",
       "            <td>2.0</td>\n",
       "            </tr>"
      ],
      "text/plain": [
       "<IPython.core.display.HTML object>"
      ]
     },
     "metadata": {
      "tags": []
     },
     "output_type": "display_data"
    },
    {
     "data": {
      "text/html": [
       "<tr>\n",
       "            <td>1</td>\n",
       "            <td>96.09</td>\n",
       "            <td>184.49</td>\n",
       "            <td>2.0</td>\n",
       "            </tr>"
      ],
      "text/plain": [
       "<IPython.core.display.HTML object>"
      ]
     },
     "metadata": {
      "tags": []
     },
     "output_type": "display_data"
    },
    {
     "data": {
      "text/html": [
       "<tr>\n",
       "            <td>1</td>\n",
       "            <td>97.34</td>\n",
       "            <td>184.93</td>\n",
       "            <td>2.0</td>\n",
       "            </tr>"
      ],
      "text/plain": [
       "<IPython.core.display.HTML object>"
      ]
     },
     "metadata": {
      "tags": []
     },
     "output_type": "display_data"
    },
    {
     "data": {
      "text/html": [
       "<tr>\n",
       "            <td>1</td>\n",
       "            <td>98.58</td>\n",
       "            <td>184.2</td>\n",
       "            <td>2.0</td>\n",
       "            </tr>"
      ],
      "text/plain": [
       "<IPython.core.display.HTML object>"
      ]
     },
     "metadata": {
      "tags": []
     },
     "output_type": "display_data"
    },
    {
     "data": {
      "text/html": [
       "<tr>\n",
       "            <td>1</td>\n",
       "            <td>99.83</td>\n",
       "            <td>184.59</td>\n",
       "            <td>2.0</td>\n",
       "            </tr>"
      ],
      "text/plain": [
       "<IPython.core.display.HTML object>"
      ]
     },
     "metadata": {
      "tags": []
     },
     "output_type": "display_data"
    },
    {
     "ename": "RuntimeError",
     "evalue": "ignored",
     "output_type": "error",
     "traceback": [
      "\u001b[0;31m---------------------------------------------------------------------------\u001b[0m",
      "\u001b[0;31mRuntimeError\u001b[0m                              Traceback (most recent call last)",
      "\u001b[0;32m<ipython-input-60-839f35e882e7>\u001b[0m in \u001b[0;36m<module>\u001b[0;34m()\u001b[0m\n\u001b[1;32m     23\u001b[0m   \u001b[0miteration_loss\u001b[0m \u001b[0;34m=\u001b[0m \u001b[0;36m0.0\u001b[0m\u001b[0;34m\u001b[0m\u001b[0;34m\u001b[0m\u001b[0m\n\u001b[1;32m     24\u001b[0m \u001b[0;34m\u001b[0m\u001b[0m\n\u001b[0;32m---> 25\u001b[0;31m   \u001b[0;32mfor\u001b[0m \u001b[0mi\u001b[0m\u001b[0;34m,\u001b[0m \u001b[0mentry\u001b[0m \u001b[0;32min\u001b[0m \u001b[0menumerate\u001b[0m\u001b[0;34m(\u001b[0m\u001b[0mtraining_loader\u001b[0m\u001b[0;34m,\u001b[0m \u001b[0;36m0\u001b[0m\u001b[0;34m)\u001b[0m\u001b[0;34m:\u001b[0m\u001b[0;34m\u001b[0m\u001b[0;34m\u001b[0m\u001b[0m\n\u001b[0m\u001b[1;32m     26\u001b[0m \u001b[0;34m\u001b[0m\u001b[0m\n\u001b[1;32m     27\u001b[0m \u001b[0;34m\u001b[0m\u001b[0m\n",
      "\u001b[0;32m/usr/local/lib/python3.7/dist-packages/torch/utils/data/dataloader.py\u001b[0m in \u001b[0;36m__next__\u001b[0;34m(self)\u001b[0m\n\u001b[1;32m    515\u001b[0m             \u001b[0;32mif\u001b[0m \u001b[0mself\u001b[0m\u001b[0;34m.\u001b[0m\u001b[0m_sampler_iter\u001b[0m \u001b[0;32mis\u001b[0m \u001b[0;32mNone\u001b[0m\u001b[0;34m:\u001b[0m\u001b[0;34m\u001b[0m\u001b[0;34m\u001b[0m\u001b[0m\n\u001b[1;32m    516\u001b[0m                 \u001b[0mself\u001b[0m\u001b[0;34m.\u001b[0m\u001b[0m_reset\u001b[0m\u001b[0;34m(\u001b[0m\u001b[0;34m)\u001b[0m\u001b[0;34m\u001b[0m\u001b[0;34m\u001b[0m\u001b[0m\n\u001b[0;32m--> 517\u001b[0;31m             \u001b[0mdata\u001b[0m \u001b[0;34m=\u001b[0m \u001b[0mself\u001b[0m\u001b[0;34m.\u001b[0m\u001b[0m_next_data\u001b[0m\u001b[0;34m(\u001b[0m\u001b[0;34m)\u001b[0m\u001b[0;34m\u001b[0m\u001b[0;34m\u001b[0m\u001b[0m\n\u001b[0m\u001b[1;32m    518\u001b[0m             \u001b[0mself\u001b[0m\u001b[0;34m.\u001b[0m\u001b[0m_num_yielded\u001b[0m \u001b[0;34m+=\u001b[0m \u001b[0;36m1\u001b[0m\u001b[0;34m\u001b[0m\u001b[0;34m\u001b[0m\u001b[0m\n\u001b[1;32m    519\u001b[0m             \u001b[0;32mif\u001b[0m \u001b[0mself\u001b[0m\u001b[0;34m.\u001b[0m\u001b[0m_dataset_kind\u001b[0m \u001b[0;34m==\u001b[0m \u001b[0m_DatasetKind\u001b[0m\u001b[0;34m.\u001b[0m\u001b[0mIterable\u001b[0m \u001b[0;32mand\u001b[0m\u001b[0;31m \u001b[0m\u001b[0;31m\\\u001b[0m\u001b[0;34m\u001b[0m\u001b[0;34m\u001b[0m\u001b[0m\n",
      "\u001b[0;32m/usr/local/lib/python3.7/dist-packages/torch/utils/data/dataloader.py\u001b[0m in \u001b[0;36m_next_data\u001b[0;34m(self)\u001b[0m\n\u001b[1;32m    555\u001b[0m     \u001b[0;32mdef\u001b[0m \u001b[0m_next_data\u001b[0m\u001b[0;34m(\u001b[0m\u001b[0mself\u001b[0m\u001b[0;34m)\u001b[0m\u001b[0;34m:\u001b[0m\u001b[0;34m\u001b[0m\u001b[0;34m\u001b[0m\u001b[0m\n\u001b[1;32m    556\u001b[0m         \u001b[0mindex\u001b[0m \u001b[0;34m=\u001b[0m \u001b[0mself\u001b[0m\u001b[0;34m.\u001b[0m\u001b[0m_next_index\u001b[0m\u001b[0;34m(\u001b[0m\u001b[0;34m)\u001b[0m  \u001b[0;31m# may raise StopIteration\u001b[0m\u001b[0;34m\u001b[0m\u001b[0;34m\u001b[0m\u001b[0m\n\u001b[0;32m--> 557\u001b[0;31m         \u001b[0mdata\u001b[0m \u001b[0;34m=\u001b[0m \u001b[0mself\u001b[0m\u001b[0;34m.\u001b[0m\u001b[0m_dataset_fetcher\u001b[0m\u001b[0;34m.\u001b[0m\u001b[0mfetch\u001b[0m\u001b[0;34m(\u001b[0m\u001b[0mindex\u001b[0m\u001b[0;34m)\u001b[0m  \u001b[0;31m# may raise StopIteration\u001b[0m\u001b[0;34m\u001b[0m\u001b[0;34m\u001b[0m\u001b[0m\n\u001b[0m\u001b[1;32m    558\u001b[0m         \u001b[0;32mif\u001b[0m \u001b[0mself\u001b[0m\u001b[0;34m.\u001b[0m\u001b[0m_pin_memory\u001b[0m\u001b[0;34m:\u001b[0m\u001b[0;34m\u001b[0m\u001b[0;34m\u001b[0m\u001b[0m\n\u001b[1;32m    559\u001b[0m             \u001b[0mdata\u001b[0m \u001b[0;34m=\u001b[0m \u001b[0m_utils\u001b[0m\u001b[0;34m.\u001b[0m\u001b[0mpin_memory\u001b[0m\u001b[0;34m.\u001b[0m\u001b[0mpin_memory\u001b[0m\u001b[0;34m(\u001b[0m\u001b[0mdata\u001b[0m\u001b[0;34m)\u001b[0m\u001b[0;34m\u001b[0m\u001b[0;34m\u001b[0m\u001b[0m\n",
      "\u001b[0;32m/usr/local/lib/python3.7/dist-packages/torch/utils/data/_utils/fetch.py\u001b[0m in \u001b[0;36mfetch\u001b[0;34m(self, possibly_batched_index)\u001b[0m\n\u001b[1;32m     42\u001b[0m     \u001b[0;32mdef\u001b[0m \u001b[0mfetch\u001b[0m\u001b[0;34m(\u001b[0m\u001b[0mself\u001b[0m\u001b[0;34m,\u001b[0m \u001b[0mpossibly_batched_index\u001b[0m\u001b[0;34m)\u001b[0m\u001b[0;34m:\u001b[0m\u001b[0;34m\u001b[0m\u001b[0;34m\u001b[0m\u001b[0m\n\u001b[1;32m     43\u001b[0m         \u001b[0;32mif\u001b[0m \u001b[0mself\u001b[0m\u001b[0;34m.\u001b[0m\u001b[0mauto_collation\u001b[0m\u001b[0;34m:\u001b[0m\u001b[0;34m\u001b[0m\u001b[0;34m\u001b[0m\u001b[0m\n\u001b[0;32m---> 44\u001b[0;31m             \u001b[0mdata\u001b[0m \u001b[0;34m=\u001b[0m \u001b[0;34m[\u001b[0m\u001b[0mself\u001b[0m\u001b[0;34m.\u001b[0m\u001b[0mdataset\u001b[0m\u001b[0;34m[\u001b[0m\u001b[0midx\u001b[0m\u001b[0;34m]\u001b[0m \u001b[0;32mfor\u001b[0m \u001b[0midx\u001b[0m \u001b[0;32min\u001b[0m \u001b[0mpossibly_batched_index\u001b[0m\u001b[0;34m]\u001b[0m\u001b[0;34m\u001b[0m\u001b[0;34m\u001b[0m\u001b[0m\n\u001b[0m\u001b[1;32m     45\u001b[0m         \u001b[0;32melse\u001b[0m\u001b[0;34m:\u001b[0m\u001b[0;34m\u001b[0m\u001b[0;34m\u001b[0m\u001b[0m\n\u001b[1;32m     46\u001b[0m             \u001b[0mdata\u001b[0m \u001b[0;34m=\u001b[0m \u001b[0mself\u001b[0m\u001b[0;34m.\u001b[0m\u001b[0mdataset\u001b[0m\u001b[0;34m[\u001b[0m\u001b[0mpossibly_batched_index\u001b[0m\u001b[0;34m]\u001b[0m\u001b[0;34m\u001b[0m\u001b[0;34m\u001b[0m\u001b[0m\n",
      "\u001b[0;32m/usr/local/lib/python3.7/dist-packages/torch/utils/data/_utils/fetch.py\u001b[0m in \u001b[0;36m<listcomp>\u001b[0;34m(.0)\u001b[0m\n\u001b[1;32m     42\u001b[0m     \u001b[0;32mdef\u001b[0m \u001b[0mfetch\u001b[0m\u001b[0;34m(\u001b[0m\u001b[0mself\u001b[0m\u001b[0;34m,\u001b[0m \u001b[0mpossibly_batched_index\u001b[0m\u001b[0;34m)\u001b[0m\u001b[0;34m:\u001b[0m\u001b[0;34m\u001b[0m\u001b[0;34m\u001b[0m\u001b[0m\n\u001b[1;32m     43\u001b[0m         \u001b[0;32mif\u001b[0m \u001b[0mself\u001b[0m\u001b[0;34m.\u001b[0m\u001b[0mauto_collation\u001b[0m\u001b[0;34m:\u001b[0m\u001b[0;34m\u001b[0m\u001b[0;34m\u001b[0m\u001b[0m\n\u001b[0;32m---> 44\u001b[0;31m             \u001b[0mdata\u001b[0m \u001b[0;34m=\u001b[0m \u001b[0;34m[\u001b[0m\u001b[0mself\u001b[0m\u001b[0;34m.\u001b[0m\u001b[0mdataset\u001b[0m\u001b[0;34m[\u001b[0m\u001b[0midx\u001b[0m\u001b[0;34m]\u001b[0m \u001b[0;32mfor\u001b[0m \u001b[0midx\u001b[0m \u001b[0;32min\u001b[0m \u001b[0mpossibly_batched_index\u001b[0m\u001b[0;34m]\u001b[0m\u001b[0;34m\u001b[0m\u001b[0;34m\u001b[0m\u001b[0m\n\u001b[0m\u001b[1;32m     45\u001b[0m         \u001b[0;32melse\u001b[0m\u001b[0;34m:\u001b[0m\u001b[0;34m\u001b[0m\u001b[0;34m\u001b[0m\u001b[0m\n\u001b[1;32m     46\u001b[0m             \u001b[0mdata\u001b[0m \u001b[0;34m=\u001b[0m \u001b[0mself\u001b[0m\u001b[0;34m.\u001b[0m\u001b[0mdataset\u001b[0m\u001b[0;34m[\u001b[0m\u001b[0mpossibly_batched_index\u001b[0m\u001b[0;34m]\u001b[0m\u001b[0;34m\u001b[0m\u001b[0;34m\u001b[0m\u001b[0m\n",
      "\u001b[0;32m<ipython-input-8-709929282a57>\u001b[0m in \u001b[0;36m__getitem__\u001b[0;34m(self, idx)\u001b[0m\n\u001b[1;32m     19\u001b[0m           \u001b[0mys\u001b[0m\u001b[0;34m.\u001b[0m\u001b[0mappend\u001b[0m\u001b[0;34m(\u001b[0m\u001b[0my\u001b[0m\u001b[0;34m)\u001b[0m\u001b[0;34m\u001b[0m\u001b[0;34m\u001b[0m\u001b[0m\n\u001b[1;32m     20\u001b[0m \u001b[0;34m\u001b[0m\u001b[0m\n\u001b[0;32m---> 21\u001b[0;31m         \u001b[0mys\u001b[0m \u001b[0;34m=\u001b[0m \u001b[0mtorch\u001b[0m\u001b[0;34m.\u001b[0m\u001b[0mstack\u001b[0m\u001b[0;34m(\u001b[0m\u001b[0mys\u001b[0m\u001b[0;34m)\u001b[0m\u001b[0;34m\u001b[0m\u001b[0;34m\u001b[0m\u001b[0m\n\u001b[0m\u001b[1;32m     22\u001b[0m \u001b[0;34m\u001b[0m\u001b[0m\n\u001b[1;32m     23\u001b[0m         \u001b[0mys\u001b[0m \u001b[0;34m=\u001b[0m \u001b[0mys\u001b[0m\u001b[0;34m.\u001b[0m\u001b[0mto\u001b[0m\u001b[0;34m(\u001b[0m\u001b[0mdev\u001b[0m\u001b[0;34m)\u001b[0m\u001b[0;34m\u001b[0m\u001b[0;34m\u001b[0m\u001b[0m\n",
      "\u001b[0;31mRuntimeError\u001b[0m: stack expects a non-empty TensorList"
     ]
    }
   ],
   "source": [
    "display(HTML(\n",
    "    \"\"\"<table>\n",
    "        <thead>\n",
    "          <tr>\n",
    "          <th>Epoch</th>\n",
    "          <th>Percentage</th>\n",
    "          <th>Loss</th>\n",
    "          <th>Time</th>\n",
    "          </tr>\n",
    "        </thead>\n",
    "        <tbody>\n",
    "        \"\"\"\n",
    "))\n",
    "\n",
    "for epoch in range(epochs):\n",
    "    \n",
    "  start_time = time.time()\n",
    "\n",
    "  model.reset_hidden()\n",
    "  \n",
    "  # Initialize loss at 0\n",
    "  epoch_loss = 0.0\n",
    "  iteration_loss = 0.0\n",
    "  \n",
    "  for i, entry in enumerate(training_loader, 0):\n",
    "      \n",
    "     \n",
    "\n",
    "      model.zero_grad()\n",
    "        \n",
    "      xs, ys = entry[0], entry[1]\n",
    "      \n",
    "      outputs = model(xs)\n",
    "      \n",
    "      bs, sl = outputs.shape[:2]\n",
    "  \n",
    "      # Flatten the output\n",
    "      outputs = outputs.view(bs * sl, -1)\n",
    "\n",
    "      # Flatten the label\n",
    "      ys = ys.view(-1)\n",
    "\n",
    "      loss = criterion(outputs, ys)\n",
    "      \n",
    "      loss.backward()\n",
    "      optimizer.step()\n",
    "      \n",
    "      epoch_loss += outputs.shape[0] * loss.item()\n",
    "      iteration_loss += outputs.shape[0] * loss.item()\n",
    "      \n",
    "      \n",
    "      if i % 1.5e4 == 0:\n",
    "          \n",
    "          round_time = time.time()\n",
    "          duration = round(((round_time - start_time) / 60), 0) # To convert to minutes\n",
    "          start_time = time.time()\n",
    "          \n",
    "          perc = round((i / total_train_len * 100), 2)\n",
    "\n",
    "          iteration_loss = round((iteration_loss / 1.5e4), 2)\n",
    "\n",
    "          display(HTML(\n",
    "          \"\"\"<tr>\n",
    "            <td>{}</td>\n",
    "            <td>{}</td>\n",
    "            <td>{}</td>\n",
    "            <td>{}</td>\n",
    "            </tr>\"\"\".format(str(epoch + 1), str(perc), str(iteration_loss), str(duration))\n",
    "          ))\n",
    "\n",
    "          iteration_loss = 0.0\n",
    "  \n",
    "  loss_history.append(epoch_loss)\n",
    "  \n",
    "  print(f'Epoch {str(epoch + 1)} Train loss: {str(epoch_loss)}.')\n",
    "\n",
    "display(HTML('</tbody></table>'))        \n",
    "print('Finished training')"
   ]
  },
  {
   "cell_type": "code",
   "execution_count": 61,
   "metadata": {
    "colab": {
     "base_uri": "https://localhost:8080/"
    },
    "executionInfo": {
     "elapsed": 430,
     "status": "ok",
     "timestamp": 1618821299815,
     "user": {
      "displayName": "Mees Molenaar",
      "photoUrl": "https://lh3.googleusercontent.com/a-/AOh14GgarFNqCn57JCj8FlX5fjTQ7xWPGveKHLnQQxqvoA=s64",
      "userId": "09138133359710811571"
     },
     "user_tz": -120
    },
    "id": "nFmbZV5ACxeo",
    "outputId": "44cd7de3-daee-49b7-f6f9-e7904fc1b416"
   },
   "outputs": [
    {
     "data": {
      "text/plain": [
       "PosixPath('/content/content/MyDrive/subcellular-location/v2/AA_LM_v3_ph1.pt')"
      ]
     },
     "execution_count": 61,
     "metadata": {
      "tags": []
     },
     "output_type": "execute_result"
    }
   ],
   "source": [
    "filename = 'AA_LM_v3_ph1.pt'\n",
    "file_dir = Path('/content/content/MyDrive/subcellular-location/v2/' + filename)\n",
    "file_dir"
   ]
  },
  {
   "cell_type": "code",
   "execution_count": 62,
   "metadata": {
    "executionInfo": {
     "elapsed": 883,
     "status": "ok",
     "timestamp": 1618821303349,
     "user": {
      "displayName": "Mees Molenaar",
      "photoUrl": "https://lh3.googleusercontent.com/a-/AOh14GgarFNqCn57JCj8FlX5fjTQ7xWPGveKHLnQQxqvoA=s64",
      "userId": "09138133359710811571"
     },
     "user_tz": -120
    },
    "id": "3dPEOnY6C5R9"
   },
   "outputs": [],
   "source": [
    "torch.save(model.encoder, file_dir)"
   ]
  },
  {
   "cell_type": "markdown",
   "metadata": {
    "id": "RPeYZK18Raer"
   },
   "source": [
    "Train one loop without unfreezing the first LSTM layer"
   ]
  },
  {
   "cell_type": "code",
   "execution_count": 63,
   "metadata": {
    "colab": {
     "base_uri": "https://localhost:8080/"
    },
    "executionInfo": {
     "elapsed": 433,
     "status": "ok",
     "timestamp": 1618821386818,
     "user": {
      "displayName": "Mees Molenaar",
      "photoUrl": "https://lh3.googleusercontent.com/a-/AOh14GgarFNqCn57JCj8FlX5fjTQ7xWPGveKHLnQQxqvoA=s64",
      "userId": "09138133359710811571"
     },
     "user_tz": -120
    },
    "id": "iwWIA-9KRfL9",
    "outputId": "777498f7-8f3d-477d-d1da-f2abae75d948"
   },
   "outputs": [
    {
     "name": "stdout",
     "output_type": "stream",
     "text": [
      "encoder.weight\n",
      "False\n",
      "lstms.0.module.weight_ih_l0\n",
      "True\n",
      "lstms.0.module.bias_ih_l0\n",
      "True\n",
      "lstms.0.module.bias_hh_l0\n",
      "True\n",
      "lstms.0.module.weight_hh_l0_raw\n",
      "True\n",
      "lstms.1.module.weight_ih_l0\n",
      "True\n",
      "lstms.1.module.bias_ih_l0\n",
      "True\n",
      "lstms.1.module.bias_hh_l0\n",
      "True\n",
      "lstms.1.module.weight_hh_l0_raw\n",
      "True\n",
      "lstms.2.module.weight_ih_l0\n",
      "True\n",
      "lstms.2.module.bias_ih_l0\n",
      "True\n",
      "lstms.2.module.bias_hh_l0\n",
      "True\n",
      "lstms.2.module.weight_hh_l0_raw\n",
      "True\n"
     ]
    }
   ],
   "source": [
    "model.freeze_to(0)"
   ]
  },
  {
   "cell_type": "code",
   "execution_count": 64,
   "metadata": {
    "executionInfo": {
     "elapsed": 504,
     "status": "ok",
     "timestamp": 1618821516762,
     "user": {
      "displayName": "Mees Molenaar",
      "photoUrl": "https://lh3.googleusercontent.com/a-/AOh14GgarFNqCn57JCj8FlX5fjTQ7xWPGveKHLnQQxqvoA=s64",
      "userId": "09138133359710811571"
     },
     "user_tz": -120
    },
    "id": "BYnJqtdNR_sV"
   },
   "outputs": [],
   "source": [
    "epochs = 1"
   ]
  },
  {
   "cell_type": "code",
   "execution_count": 65,
   "metadata": {
    "colab": {
     "base_uri": "https://localhost:8080/",
     "height": 1000
    },
    "executionInfo": {
     "elapsed": 12850765,
     "status": "error",
     "timestamp": 1618834368285,
     "user": {
      "displayName": "Mees Molenaar",
      "photoUrl": "https://lh3.googleusercontent.com/a-/AOh14GgarFNqCn57JCj8FlX5fjTQ7xWPGveKHLnQQxqvoA=s64",
      "userId": "09138133359710811571"
     },
     "user_tz": -120
    },
    "id": "AQSKaAHORlav",
    "outputId": "b66e2484-d797-41c9-f464-9955a07b0bdf"
   },
   "outputs": [
    {
     "data": {
      "text/html": [
       "<table>\n",
       "        <thead>\n",
       "          <tr>\n",
       "          <th>Epoch</th>\n",
       "          <th>Percentage</th>\n",
       "          <th>Loss</th>\n",
       "          <th>Time</th>\n",
       "          </tr>\n",
       "        </thead>\n",
       "        <tbody>\n",
       "        "
      ],
      "text/plain": [
       "<IPython.core.display.HTML object>"
      ]
     },
     "metadata": {
      "tags": []
     },
     "output_type": "display_data"
    },
    {
     "name": "stderr",
     "output_type": "stream",
     "text": [
      "/usr/local/lib/python3.7/dist-packages/torch/nn/modules/rnn.py:662: UserWarning: RNN module weights are not part of single contiguous chunk of memory. This means they need to be compacted at every call, possibly greatly increasing memory usage. To compact weights again call flatten_parameters(). (Triggered internally at  /pytorch/aten/src/ATen/native/cudnn/RNN.cpp:915.)\n",
      "  self.dropout, self.training, self.bidirectional, self.batch_first)\n"
     ]
    },
    {
     "data": {
      "text/html": [
       "<tr>\n",
       "              <td>1</td>\n",
       "              <td>0.0</td>\n",
       "              <td>0.01</td>\n",
       "              <td>0.0</td>\n",
       "              </tr>"
      ],
      "text/plain": [
       "<IPython.core.display.HTML object>"
      ]
     },
     "metadata": {
      "tags": []
     },
     "output_type": "display_data"
    },
    {
     "data": {
      "text/html": [
       "<tr>\n",
       "              <td>1</td>\n",
       "              <td>1.25</td>\n",
       "              <td>183.54</td>\n",
       "              <td>3.0</td>\n",
       "              </tr>"
      ],
      "text/plain": [
       "<IPython.core.display.HTML object>"
      ]
     },
     "metadata": {
      "tags": []
     },
     "output_type": "display_data"
    },
    {
     "data": {
      "text/html": [
       "<tr>\n",
       "              <td>1</td>\n",
       "              <td>2.5</td>\n",
       "              <td>183.64</td>\n",
       "              <td>3.0</td>\n",
       "              </tr>"
      ],
      "text/plain": [
       "<IPython.core.display.HTML object>"
      ]
     },
     "metadata": {
      "tags": []
     },
     "output_type": "display_data"
    },
    {
     "data": {
      "text/html": [
       "<tr>\n",
       "              <td>1</td>\n",
       "              <td>3.74</td>\n",
       "              <td>182.72</td>\n",
       "              <td>3.0</td>\n",
       "              </tr>"
      ],
      "text/plain": [
       "<IPython.core.display.HTML object>"
      ]
     },
     "metadata": {
      "tags": []
     },
     "output_type": "display_data"
    },
    {
     "data": {
      "text/html": [
       "<tr>\n",
       "              <td>1</td>\n",
       "              <td>4.99</td>\n",
       "              <td>182.18</td>\n",
       "              <td>3.0</td>\n",
       "              </tr>"
      ],
      "text/plain": [
       "<IPython.core.display.HTML object>"
      ]
     },
     "metadata": {
      "tags": []
     },
     "output_type": "display_data"
    },
    {
     "data": {
      "text/html": [
       "<tr>\n",
       "              <td>1</td>\n",
       "              <td>6.24</td>\n",
       "              <td>180.18</td>\n",
       "              <td>3.0</td>\n",
       "              </tr>"
      ],
      "text/plain": [
       "<IPython.core.display.HTML object>"
      ]
     },
     "metadata": {
      "tags": []
     },
     "output_type": "display_data"
    },
    {
     "data": {
      "text/html": [
       "<tr>\n",
       "              <td>1</td>\n",
       "              <td>7.49</td>\n",
       "              <td>178.91</td>\n",
       "              <td>3.0</td>\n",
       "              </tr>"
      ],
      "text/plain": [
       "<IPython.core.display.HTML object>"
      ]
     },
     "metadata": {
      "tags": []
     },
     "output_type": "display_data"
    },
    {
     "data": {
      "text/html": [
       "<tr>\n",
       "              <td>1</td>\n",
       "              <td>8.74</td>\n",
       "              <td>182.62</td>\n",
       "              <td>3.0</td>\n",
       "              </tr>"
      ],
      "text/plain": [
       "<IPython.core.display.HTML object>"
      ]
     },
     "metadata": {
      "tags": []
     },
     "output_type": "display_data"
    },
    {
     "data": {
      "text/html": [
       "<tr>\n",
       "              <td>1</td>\n",
       "              <td>9.98</td>\n",
       "              <td>181.72</td>\n",
       "              <td>3.0</td>\n",
       "              </tr>"
      ],
      "text/plain": [
       "<IPython.core.display.HTML object>"
      ]
     },
     "metadata": {
      "tags": []
     },
     "output_type": "display_data"
    },
    {
     "data": {
      "text/html": [
       "<tr>\n",
       "              <td>1</td>\n",
       "              <td>11.23</td>\n",
       "              <td>181.69</td>\n",
       "              <td>3.0</td>\n",
       "              </tr>"
      ],
      "text/plain": [
       "<IPython.core.display.HTML object>"
      ]
     },
     "metadata": {
      "tags": []
     },
     "output_type": "display_data"
    },
    {
     "data": {
      "text/html": [
       "<tr>\n",
       "              <td>1</td>\n",
       "              <td>12.48</td>\n",
       "              <td>178.81</td>\n",
       "              <td>3.0</td>\n",
       "              </tr>"
      ],
      "text/plain": [
       "<IPython.core.display.HTML object>"
      ]
     },
     "metadata": {
      "tags": []
     },
     "output_type": "display_data"
    },
    {
     "data": {
      "text/html": [
       "<tr>\n",
       "              <td>1</td>\n",
       "              <td>13.73</td>\n",
       "              <td>178.54</td>\n",
       "              <td>3.0</td>\n",
       "              </tr>"
      ],
      "text/plain": [
       "<IPython.core.display.HTML object>"
      ]
     },
     "metadata": {
      "tags": []
     },
     "output_type": "display_data"
    },
    {
     "data": {
      "text/html": [
       "<tr>\n",
       "              <td>1</td>\n",
       "              <td>14.97</td>\n",
       "              <td>176.33</td>\n",
       "              <td>3.0</td>\n",
       "              </tr>"
      ],
      "text/plain": [
       "<IPython.core.display.HTML object>"
      ]
     },
     "metadata": {
      "tags": []
     },
     "output_type": "display_data"
    },
    {
     "data": {
      "text/html": [
       "<tr>\n",
       "              <td>1</td>\n",
       "              <td>16.22</td>\n",
       "              <td>178.08</td>\n",
       "              <td>3.0</td>\n",
       "              </tr>"
      ],
      "text/plain": [
       "<IPython.core.display.HTML object>"
      ]
     },
     "metadata": {
      "tags": []
     },
     "output_type": "display_data"
    },
    {
     "data": {
      "text/html": [
       "<tr>\n",
       "              <td>1</td>\n",
       "              <td>17.47</td>\n",
       "              <td>180.04</td>\n",
       "              <td>3.0</td>\n",
       "              </tr>"
      ],
      "text/plain": [
       "<IPython.core.display.HTML object>"
      ]
     },
     "metadata": {
      "tags": []
     },
     "output_type": "display_data"
    },
    {
     "data": {
      "text/html": [
       "<tr>\n",
       "              <td>1</td>\n",
       "              <td>18.72</td>\n",
       "              <td>180.63</td>\n",
       "              <td>3.0</td>\n",
       "              </tr>"
      ],
      "text/plain": [
       "<IPython.core.display.HTML object>"
      ]
     },
     "metadata": {
      "tags": []
     },
     "output_type": "display_data"
    },
    {
     "data": {
      "text/html": [
       "<tr>\n",
       "              <td>1</td>\n",
       "              <td>19.97</td>\n",
       "              <td>175.99</td>\n",
       "              <td>3.0</td>\n",
       "              </tr>"
      ],
      "text/plain": [
       "<IPython.core.display.HTML object>"
      ]
     },
     "metadata": {
      "tags": []
     },
     "output_type": "display_data"
    },
    {
     "data": {
      "text/html": [
       "<tr>\n",
       "              <td>1</td>\n",
       "              <td>21.21</td>\n",
       "              <td>174.55</td>\n",
       "              <td>3.0</td>\n",
       "              </tr>"
      ],
      "text/plain": [
       "<IPython.core.display.HTML object>"
      ]
     },
     "metadata": {
      "tags": []
     },
     "output_type": "display_data"
    },
    {
     "data": {
      "text/html": [
       "<tr>\n",
       "              <td>1</td>\n",
       "              <td>22.46</td>\n",
       "              <td>179.12</td>\n",
       "              <td>3.0</td>\n",
       "              </tr>"
      ],
      "text/plain": [
       "<IPython.core.display.HTML object>"
      ]
     },
     "metadata": {
      "tags": []
     },
     "output_type": "display_data"
    },
    {
     "data": {
      "text/html": [
       "<tr>\n",
       "              <td>1</td>\n",
       "              <td>23.71</td>\n",
       "              <td>178.6</td>\n",
       "              <td>3.0</td>\n",
       "              </tr>"
      ],
      "text/plain": [
       "<IPython.core.display.HTML object>"
      ]
     },
     "metadata": {
      "tags": []
     },
     "output_type": "display_data"
    },
    {
     "data": {
      "text/html": [
       "<tr>\n",
       "              <td>1</td>\n",
       "              <td>24.96</td>\n",
       "              <td>178.97</td>\n",
       "              <td>3.0</td>\n",
       "              </tr>"
      ],
      "text/plain": [
       "<IPython.core.display.HTML object>"
      ]
     },
     "metadata": {
      "tags": []
     },
     "output_type": "display_data"
    },
    {
     "data": {
      "text/html": [
       "<tr>\n",
       "              <td>1</td>\n",
       "              <td>26.21</td>\n",
       "              <td>178.49</td>\n",
       "              <td>3.0</td>\n",
       "              </tr>"
      ],
      "text/plain": [
       "<IPython.core.display.HTML object>"
      ]
     },
     "metadata": {
      "tags": []
     },
     "output_type": "display_data"
    },
    {
     "data": {
      "text/html": [
       "<tr>\n",
       "              <td>1</td>\n",
       "              <td>27.45</td>\n",
       "              <td>176.91</td>\n",
       "              <td>3.0</td>\n",
       "              </tr>"
      ],
      "text/plain": [
       "<IPython.core.display.HTML object>"
      ]
     },
     "metadata": {
      "tags": []
     },
     "output_type": "display_data"
    },
    {
     "data": {
      "text/html": [
       "<tr>\n",
       "              <td>1</td>\n",
       "              <td>28.7</td>\n",
       "              <td>174.3</td>\n",
       "              <td>3.0</td>\n",
       "              </tr>"
      ],
      "text/plain": [
       "<IPython.core.display.HTML object>"
      ]
     },
     "metadata": {
      "tags": []
     },
     "output_type": "display_data"
    },
    {
     "data": {
      "text/html": [
       "<tr>\n",
       "              <td>1</td>\n",
       "              <td>29.95</td>\n",
       "              <td>177.78</td>\n",
       "              <td>3.0</td>\n",
       "              </tr>"
      ],
      "text/plain": [
       "<IPython.core.display.HTML object>"
      ]
     },
     "metadata": {
      "tags": []
     },
     "output_type": "display_data"
    },
    {
     "data": {
      "text/html": [
       "<tr>\n",
       "              <td>1</td>\n",
       "              <td>31.2</td>\n",
       "              <td>168.01</td>\n",
       "              <td>3.0</td>\n",
       "              </tr>"
      ],
      "text/plain": [
       "<IPython.core.display.HTML object>"
      ]
     },
     "metadata": {
      "tags": []
     },
     "output_type": "display_data"
    },
    {
     "data": {
      "text/html": [
       "<tr>\n",
       "              <td>1</td>\n",
       "              <td>32.45</td>\n",
       "              <td>174.33</td>\n",
       "              <td>3.0</td>\n",
       "              </tr>"
      ],
      "text/plain": [
       "<IPython.core.display.HTML object>"
      ]
     },
     "metadata": {
      "tags": []
     },
     "output_type": "display_data"
    },
    {
     "data": {
      "text/html": [
       "<tr>\n",
       "              <td>1</td>\n",
       "              <td>33.69</td>\n",
       "              <td>177.32</td>\n",
       "              <td>3.0</td>\n",
       "              </tr>"
      ],
      "text/plain": [
       "<IPython.core.display.HTML object>"
      ]
     },
     "metadata": {
      "tags": []
     },
     "output_type": "display_data"
    },
    {
     "data": {
      "text/html": [
       "<tr>\n",
       "              <td>1</td>\n",
       "              <td>34.94</td>\n",
       "              <td>175.56</td>\n",
       "              <td>3.0</td>\n",
       "              </tr>"
      ],
      "text/plain": [
       "<IPython.core.display.HTML object>"
      ]
     },
     "metadata": {
      "tags": []
     },
     "output_type": "display_data"
    },
    {
     "data": {
      "text/html": [
       "<tr>\n",
       "              <td>1</td>\n",
       "              <td>36.19</td>\n",
       "              <td>175.77</td>\n",
       "              <td>3.0</td>\n",
       "              </tr>"
      ],
      "text/plain": [
       "<IPython.core.display.HTML object>"
      ]
     },
     "metadata": {
      "tags": []
     },
     "output_type": "display_data"
    },
    {
     "data": {
      "text/html": [
       "<tr>\n",
       "              <td>1</td>\n",
       "              <td>37.44</td>\n",
       "              <td>174.53</td>\n",
       "              <td>3.0</td>\n",
       "              </tr>"
      ],
      "text/plain": [
       "<IPython.core.display.HTML object>"
      ]
     },
     "metadata": {
      "tags": []
     },
     "output_type": "display_data"
    },
    {
     "data": {
      "text/html": [
       "<tr>\n",
       "              <td>1</td>\n",
       "              <td>38.68</td>\n",
       "              <td>174.37</td>\n",
       "              <td>3.0</td>\n",
       "              </tr>"
      ],
      "text/plain": [
       "<IPython.core.display.HTML object>"
      ]
     },
     "metadata": {
      "tags": []
     },
     "output_type": "display_data"
    },
    {
     "data": {
      "text/html": [
       "<tr>\n",
       "              <td>1</td>\n",
       "              <td>39.93</td>\n",
       "              <td>175.78</td>\n",
       "              <td>3.0</td>\n",
       "              </tr>"
      ],
      "text/plain": [
       "<IPython.core.display.HTML object>"
      ]
     },
     "metadata": {
      "tags": []
     },
     "output_type": "display_data"
    },
    {
     "data": {
      "text/html": [
       "<tr>\n",
       "              <td>1</td>\n",
       "              <td>41.18</td>\n",
       "              <td>174.52</td>\n",
       "              <td>3.0</td>\n",
       "              </tr>"
      ],
      "text/plain": [
       "<IPython.core.display.HTML object>"
      ]
     },
     "metadata": {
      "tags": []
     },
     "output_type": "display_data"
    },
    {
     "data": {
      "text/html": [
       "<tr>\n",
       "              <td>1</td>\n",
       "              <td>42.43</td>\n",
       "              <td>172.1</td>\n",
       "              <td>3.0</td>\n",
       "              </tr>"
      ],
      "text/plain": [
       "<IPython.core.display.HTML object>"
      ]
     },
     "metadata": {
      "tags": []
     },
     "output_type": "display_data"
    },
    {
     "data": {
      "text/html": [
       "<tr>\n",
       "              <td>1</td>\n",
       "              <td>43.68</td>\n",
       "              <td>174.79</td>\n",
       "              <td>3.0</td>\n",
       "              </tr>"
      ],
      "text/plain": [
       "<IPython.core.display.HTML object>"
      ]
     },
     "metadata": {
      "tags": []
     },
     "output_type": "display_data"
    },
    {
     "data": {
      "text/html": [
       "<tr>\n",
       "              <td>1</td>\n",
       "              <td>44.92</td>\n",
       "              <td>175.02</td>\n",
       "              <td>3.0</td>\n",
       "              </tr>"
      ],
      "text/plain": [
       "<IPython.core.display.HTML object>"
      ]
     },
     "metadata": {
      "tags": []
     },
     "output_type": "display_data"
    },
    {
     "data": {
      "text/html": [
       "<tr>\n",
       "              <td>1</td>\n",
       "              <td>46.17</td>\n",
       "              <td>175.31</td>\n",
       "              <td>3.0</td>\n",
       "              </tr>"
      ],
      "text/plain": [
       "<IPython.core.display.HTML object>"
      ]
     },
     "metadata": {
      "tags": []
     },
     "output_type": "display_data"
    },
    {
     "data": {
      "text/html": [
       "<tr>\n",
       "              <td>1</td>\n",
       "              <td>47.42</td>\n",
       "              <td>173.4</td>\n",
       "              <td>3.0</td>\n",
       "              </tr>"
      ],
      "text/plain": [
       "<IPython.core.display.HTML object>"
      ]
     },
     "metadata": {
      "tags": []
     },
     "output_type": "display_data"
    },
    {
     "data": {
      "text/html": [
       "<tr>\n",
       "              <td>1</td>\n",
       "              <td>48.67</td>\n",
       "              <td>173.44</td>\n",
       "              <td>3.0</td>\n",
       "              </tr>"
      ],
      "text/plain": [
       "<IPython.core.display.HTML object>"
      ]
     },
     "metadata": {
      "tags": []
     },
     "output_type": "display_data"
    },
    {
     "data": {
      "text/html": [
       "<tr>\n",
       "              <td>1</td>\n",
       "              <td>49.92</td>\n",
       "              <td>172.92</td>\n",
       "              <td>3.0</td>\n",
       "              </tr>"
      ],
      "text/plain": [
       "<IPython.core.display.HTML object>"
      ]
     },
     "metadata": {
      "tags": []
     },
     "output_type": "display_data"
    },
    {
     "data": {
      "text/html": [
       "<tr>\n",
       "              <td>1</td>\n",
       "              <td>51.16</td>\n",
       "              <td>173.11</td>\n",
       "              <td>3.0</td>\n",
       "              </tr>"
      ],
      "text/plain": [
       "<IPython.core.display.HTML object>"
      ]
     },
     "metadata": {
      "tags": []
     },
     "output_type": "display_data"
    },
    {
     "data": {
      "text/html": [
       "<tr>\n",
       "              <td>1</td>\n",
       "              <td>52.41</td>\n",
       "              <td>173.14</td>\n",
       "              <td>3.0</td>\n",
       "              </tr>"
      ],
      "text/plain": [
       "<IPython.core.display.HTML object>"
      ]
     },
     "metadata": {
      "tags": []
     },
     "output_type": "display_data"
    },
    {
     "data": {
      "text/html": [
       "<tr>\n",
       "              <td>1</td>\n",
       "              <td>53.66</td>\n",
       "              <td>173.47</td>\n",
       "              <td>3.0</td>\n",
       "              </tr>"
      ],
      "text/plain": [
       "<IPython.core.display.HTML object>"
      ]
     },
     "metadata": {
      "tags": []
     },
     "output_type": "display_data"
    },
    {
     "data": {
      "text/html": [
       "<tr>\n",
       "              <td>1</td>\n",
       "              <td>54.91</td>\n",
       "              <td>173.0</td>\n",
       "              <td>3.0</td>\n",
       "              </tr>"
      ],
      "text/plain": [
       "<IPython.core.display.HTML object>"
      ]
     },
     "metadata": {
      "tags": []
     },
     "output_type": "display_data"
    },
    {
     "data": {
      "text/html": [
       "<tr>\n",
       "              <td>1</td>\n",
       "              <td>56.16</td>\n",
       "              <td>173.16</td>\n",
       "              <td>3.0</td>\n",
       "              </tr>"
      ],
      "text/plain": [
       "<IPython.core.display.HTML object>"
      ]
     },
     "metadata": {
      "tags": []
     },
     "output_type": "display_data"
    },
    {
     "data": {
      "text/html": [
       "<tr>\n",
       "              <td>1</td>\n",
       "              <td>57.4</td>\n",
       "              <td>173.11</td>\n",
       "              <td>3.0</td>\n",
       "              </tr>"
      ],
      "text/plain": [
       "<IPython.core.display.HTML object>"
      ]
     },
     "metadata": {
      "tags": []
     },
     "output_type": "display_data"
    },
    {
     "data": {
      "text/html": [
       "<tr>\n",
       "              <td>1</td>\n",
       "              <td>58.65</td>\n",
       "              <td>171.6</td>\n",
       "              <td>3.0</td>\n",
       "              </tr>"
      ],
      "text/plain": [
       "<IPython.core.display.HTML object>"
      ]
     },
     "metadata": {
      "tags": []
     },
     "output_type": "display_data"
    },
    {
     "data": {
      "text/html": [
       "<tr>\n",
       "              <td>1</td>\n",
       "              <td>59.9</td>\n",
       "              <td>172.8</td>\n",
       "              <td>3.0</td>\n",
       "              </tr>"
      ],
      "text/plain": [
       "<IPython.core.display.HTML object>"
      ]
     },
     "metadata": {
      "tags": []
     },
     "output_type": "display_data"
    },
    {
     "data": {
      "text/html": [
       "<tr>\n",
       "              <td>1</td>\n",
       "              <td>61.15</td>\n",
       "              <td>172.21</td>\n",
       "              <td>3.0</td>\n",
       "              </tr>"
      ],
      "text/plain": [
       "<IPython.core.display.HTML object>"
      ]
     },
     "metadata": {
      "tags": []
     },
     "output_type": "display_data"
    },
    {
     "data": {
      "text/html": [
       "<tr>\n",
       "              <td>1</td>\n",
       "              <td>62.39</td>\n",
       "              <td>172.29</td>\n",
       "              <td>3.0</td>\n",
       "              </tr>"
      ],
      "text/plain": [
       "<IPython.core.display.HTML object>"
      ]
     },
     "metadata": {
      "tags": []
     },
     "output_type": "display_data"
    },
    {
     "data": {
      "text/html": [
       "<tr>\n",
       "              <td>1</td>\n",
       "              <td>63.64</td>\n",
       "              <td>171.66</td>\n",
       "              <td>3.0</td>\n",
       "              </tr>"
      ],
      "text/plain": [
       "<IPython.core.display.HTML object>"
      ]
     },
     "metadata": {
      "tags": []
     },
     "output_type": "display_data"
    },
    {
     "data": {
      "text/html": [
       "<tr>\n",
       "              <td>1</td>\n",
       "              <td>64.89</td>\n",
       "              <td>172.44</td>\n",
       "              <td>3.0</td>\n",
       "              </tr>"
      ],
      "text/plain": [
       "<IPython.core.display.HTML object>"
      ]
     },
     "metadata": {
      "tags": []
     },
     "output_type": "display_data"
    },
    {
     "data": {
      "text/html": [
       "<tr>\n",
       "              <td>1</td>\n",
       "              <td>66.14</td>\n",
       "              <td>171.76</td>\n",
       "              <td>3.0</td>\n",
       "              </tr>"
      ],
      "text/plain": [
       "<IPython.core.display.HTML object>"
      ]
     },
     "metadata": {
      "tags": []
     },
     "output_type": "display_data"
    },
    {
     "data": {
      "text/html": [
       "<tr>\n",
       "              <td>1</td>\n",
       "              <td>67.39</td>\n",
       "              <td>172.01</td>\n",
       "              <td>3.0</td>\n",
       "              </tr>"
      ],
      "text/plain": [
       "<IPython.core.display.HTML object>"
      ]
     },
     "metadata": {
      "tags": []
     },
     "output_type": "display_data"
    },
    {
     "data": {
      "text/html": [
       "<tr>\n",
       "              <td>1</td>\n",
       "              <td>68.63</td>\n",
       "              <td>172.39</td>\n",
       "              <td>3.0</td>\n",
       "              </tr>"
      ],
      "text/plain": [
       "<IPython.core.display.HTML object>"
      ]
     },
     "metadata": {
      "tags": []
     },
     "output_type": "display_data"
    },
    {
     "data": {
      "text/html": [
       "<tr>\n",
       "              <td>1</td>\n",
       "              <td>69.88</td>\n",
       "              <td>171.22</td>\n",
       "              <td>3.0</td>\n",
       "              </tr>"
      ],
      "text/plain": [
       "<IPython.core.display.HTML object>"
      ]
     },
     "metadata": {
      "tags": []
     },
     "output_type": "display_data"
    },
    {
     "data": {
      "text/html": [
       "<tr>\n",
       "              <td>1</td>\n",
       "              <td>71.13</td>\n",
       "              <td>171.65</td>\n",
       "              <td>3.0</td>\n",
       "              </tr>"
      ],
      "text/plain": [
       "<IPython.core.display.HTML object>"
      ]
     },
     "metadata": {
      "tags": []
     },
     "output_type": "display_data"
    },
    {
     "data": {
      "text/html": [
       "<tr>\n",
       "              <td>1</td>\n",
       "              <td>72.38</td>\n",
       "              <td>171.17</td>\n",
       "              <td>3.0</td>\n",
       "              </tr>"
      ],
      "text/plain": [
       "<IPython.core.display.HTML object>"
      ]
     },
     "metadata": {
      "tags": []
     },
     "output_type": "display_data"
    },
    {
     "data": {
      "text/html": [
       "<tr>\n",
       "              <td>1</td>\n",
       "              <td>73.63</td>\n",
       "              <td>170.95</td>\n",
       "              <td>3.0</td>\n",
       "              </tr>"
      ],
      "text/plain": [
       "<IPython.core.display.HTML object>"
      ]
     },
     "metadata": {
      "tags": []
     },
     "output_type": "display_data"
    },
    {
     "data": {
      "text/html": [
       "<tr>\n",
       "              <td>1</td>\n",
       "              <td>74.87</td>\n",
       "              <td>172.19</td>\n",
       "              <td>3.0</td>\n",
       "              </tr>"
      ],
      "text/plain": [
       "<IPython.core.display.HTML object>"
      ]
     },
     "metadata": {
      "tags": []
     },
     "output_type": "display_data"
    },
    {
     "data": {
      "text/html": [
       "<tr>\n",
       "              <td>1</td>\n",
       "              <td>76.12</td>\n",
       "              <td>171.28</td>\n",
       "              <td>3.0</td>\n",
       "              </tr>"
      ],
      "text/plain": [
       "<IPython.core.display.HTML object>"
      ]
     },
     "metadata": {
      "tags": []
     },
     "output_type": "display_data"
    },
    {
     "data": {
      "text/html": [
       "<tr>\n",
       "              <td>1</td>\n",
       "              <td>77.37</td>\n",
       "              <td>171.23</td>\n",
       "              <td>3.0</td>\n",
       "              </tr>"
      ],
      "text/plain": [
       "<IPython.core.display.HTML object>"
      ]
     },
     "metadata": {
      "tags": []
     },
     "output_type": "display_data"
    },
    {
     "data": {
      "text/html": [
       "<tr>\n",
       "              <td>1</td>\n",
       "              <td>78.62</td>\n",
       "              <td>170.54</td>\n",
       "              <td>3.0</td>\n",
       "              </tr>"
      ],
      "text/plain": [
       "<IPython.core.display.HTML object>"
      ]
     },
     "metadata": {
      "tags": []
     },
     "output_type": "display_data"
    },
    {
     "data": {
      "text/html": [
       "<tr>\n",
       "              <td>1</td>\n",
       "              <td>79.87</td>\n",
       "              <td>170.73</td>\n",
       "              <td>3.0</td>\n",
       "              </tr>"
      ],
      "text/plain": [
       "<IPython.core.display.HTML object>"
      ]
     },
     "metadata": {
      "tags": []
     },
     "output_type": "display_data"
    },
    {
     "data": {
      "text/html": [
       "<tr>\n",
       "              <td>1</td>\n",
       "              <td>81.11</td>\n",
       "              <td>171.11</td>\n",
       "              <td>3.0</td>\n",
       "              </tr>"
      ],
      "text/plain": [
       "<IPython.core.display.HTML object>"
      ]
     },
     "metadata": {
      "tags": []
     },
     "output_type": "display_data"
    },
    {
     "data": {
      "text/html": [
       "<tr>\n",
       "              <td>1</td>\n",
       "              <td>82.36</td>\n",
       "              <td>169.18</td>\n",
       "              <td>3.0</td>\n",
       "              </tr>"
      ],
      "text/plain": [
       "<IPython.core.display.HTML object>"
      ]
     },
     "metadata": {
      "tags": []
     },
     "output_type": "display_data"
    },
    {
     "data": {
      "text/html": [
       "<tr>\n",
       "              <td>1</td>\n",
       "              <td>83.61</td>\n",
       "              <td>169.07</td>\n",
       "              <td>3.0</td>\n",
       "              </tr>"
      ],
      "text/plain": [
       "<IPython.core.display.HTML object>"
      ]
     },
     "metadata": {
      "tags": []
     },
     "output_type": "display_data"
    },
    {
     "data": {
      "text/html": [
       "<tr>\n",
       "              <td>1</td>\n",
       "              <td>84.86</td>\n",
       "              <td>170.15</td>\n",
       "              <td>3.0</td>\n",
       "              </tr>"
      ],
      "text/plain": [
       "<IPython.core.display.HTML object>"
      ]
     },
     "metadata": {
      "tags": []
     },
     "output_type": "display_data"
    },
    {
     "data": {
      "text/html": [
       "<tr>\n",
       "              <td>1</td>\n",
       "              <td>86.11</td>\n",
       "              <td>170.14</td>\n",
       "              <td>3.0</td>\n",
       "              </tr>"
      ],
      "text/plain": [
       "<IPython.core.display.HTML object>"
      ]
     },
     "metadata": {
      "tags": []
     },
     "output_type": "display_data"
    },
    {
     "data": {
      "text/html": [
       "<tr>\n",
       "              <td>1</td>\n",
       "              <td>87.35</td>\n",
       "              <td>170.18</td>\n",
       "              <td>3.0</td>\n",
       "              </tr>"
      ],
      "text/plain": [
       "<IPython.core.display.HTML object>"
      ]
     },
     "metadata": {
      "tags": []
     },
     "output_type": "display_data"
    },
    {
     "data": {
      "text/html": [
       "<tr>\n",
       "              <td>1</td>\n",
       "              <td>88.6</td>\n",
       "              <td>170.3</td>\n",
       "              <td>3.0</td>\n",
       "              </tr>"
      ],
      "text/plain": [
       "<IPython.core.display.HTML object>"
      ]
     },
     "metadata": {
      "tags": []
     },
     "output_type": "display_data"
    },
    {
     "data": {
      "text/html": [
       "<tr>\n",
       "              <td>1</td>\n",
       "              <td>89.85</td>\n",
       "              <td>169.85</td>\n",
       "              <td>3.0</td>\n",
       "              </tr>"
      ],
      "text/plain": [
       "<IPython.core.display.HTML object>"
      ]
     },
     "metadata": {
      "tags": []
     },
     "output_type": "display_data"
    },
    {
     "data": {
      "text/html": [
       "<tr>\n",
       "              <td>1</td>\n",
       "              <td>91.1</td>\n",
       "              <td>167.64</td>\n",
       "              <td>3.0</td>\n",
       "              </tr>"
      ],
      "text/plain": [
       "<IPython.core.display.HTML object>"
      ]
     },
     "metadata": {
      "tags": []
     },
     "output_type": "display_data"
    },
    {
     "data": {
      "text/html": [
       "<tr>\n",
       "              <td>1</td>\n",
       "              <td>92.34</td>\n",
       "              <td>169.99</td>\n",
       "              <td>3.0</td>\n",
       "              </tr>"
      ],
      "text/plain": [
       "<IPython.core.display.HTML object>"
      ]
     },
     "metadata": {
      "tags": []
     },
     "output_type": "display_data"
    },
    {
     "data": {
      "text/html": [
       "<tr>\n",
       "              <td>1</td>\n",
       "              <td>93.59</td>\n",
       "              <td>169.63</td>\n",
       "              <td>3.0</td>\n",
       "              </tr>"
      ],
      "text/plain": [
       "<IPython.core.display.HTML object>"
      ]
     },
     "metadata": {
      "tags": []
     },
     "output_type": "display_data"
    },
    {
     "data": {
      "text/html": [
       "<tr>\n",
       "              <td>1</td>\n",
       "              <td>94.84</td>\n",
       "              <td>168.22</td>\n",
       "              <td>3.0</td>\n",
       "              </tr>"
      ],
      "text/plain": [
       "<IPython.core.display.HTML object>"
      ]
     },
     "metadata": {
      "tags": []
     },
     "output_type": "display_data"
    },
    {
     "data": {
      "text/html": [
       "<tr>\n",
       "              <td>1</td>\n",
       "              <td>96.09</td>\n",
       "              <td>168.33</td>\n",
       "              <td>3.0</td>\n",
       "              </tr>"
      ],
      "text/plain": [
       "<IPython.core.display.HTML object>"
      ]
     },
     "metadata": {
      "tags": []
     },
     "output_type": "display_data"
    },
    {
     "data": {
      "text/html": [
       "<tr>\n",
       "              <td>1</td>\n",
       "              <td>97.34</td>\n",
       "              <td>168.96</td>\n",
       "              <td>3.0</td>\n",
       "              </tr>"
      ],
      "text/plain": [
       "<IPython.core.display.HTML object>"
      ]
     },
     "metadata": {
      "tags": []
     },
     "output_type": "display_data"
    },
    {
     "data": {
      "text/html": [
       "<tr>\n",
       "              <td>1</td>\n",
       "              <td>98.58</td>\n",
       "              <td>167.78</td>\n",
       "              <td>3.0</td>\n",
       "              </tr>"
      ],
      "text/plain": [
       "<IPython.core.display.HTML object>"
      ]
     },
     "metadata": {
      "tags": []
     },
     "output_type": "display_data"
    },
    {
     "data": {
      "text/html": [
       "<tr>\n",
       "              <td>1</td>\n",
       "              <td>99.83</td>\n",
       "              <td>168.26</td>\n",
       "              <td>3.0</td>\n",
       "              </tr>"
      ],
      "text/plain": [
       "<IPython.core.display.HTML object>"
      ]
     },
     "metadata": {
      "tags": []
     },
     "output_type": "display_data"
    },
    {
     "ename": "RuntimeError",
     "evalue": "ignored",
     "output_type": "error",
     "traceback": [
      "\u001b[0;31m---------------------------------------------------------------------------\u001b[0m",
      "\u001b[0;31mRuntimeError\u001b[0m                              Traceback (most recent call last)",
      "\u001b[0;32m<ipython-input-65-22ab3f24eba0>\u001b[0m in \u001b[0;36m<module>\u001b[0;34m()\u001b[0m\n\u001b[1;32m     23\u001b[0m   \u001b[0miteration_loss\u001b[0m \u001b[0;34m=\u001b[0m \u001b[0;36m0.0\u001b[0m\u001b[0;34m\u001b[0m\u001b[0;34m\u001b[0m\u001b[0m\n\u001b[1;32m     24\u001b[0m \u001b[0;34m\u001b[0m\u001b[0m\n\u001b[0;32m---> 25\u001b[0;31m   \u001b[0;32mfor\u001b[0m \u001b[0mi\u001b[0m\u001b[0;34m,\u001b[0m \u001b[0mentry\u001b[0m \u001b[0;32min\u001b[0m \u001b[0menumerate\u001b[0m\u001b[0;34m(\u001b[0m\u001b[0mtraining_loader\u001b[0m\u001b[0;34m,\u001b[0m \u001b[0;36m0\u001b[0m\u001b[0;34m)\u001b[0m\u001b[0;34m:\u001b[0m\u001b[0;34m\u001b[0m\u001b[0;34m\u001b[0m\u001b[0m\n\u001b[0m\u001b[1;32m     26\u001b[0m \u001b[0;34m\u001b[0m\u001b[0m\n\u001b[1;32m     27\u001b[0m       \u001b[0;32mif\u001b[0m \u001b[0mlen\u001b[0m\u001b[0;34m(\u001b[0m\u001b[0mentry\u001b[0m\u001b[0;34m[\u001b[0m\u001b[0;36m0\u001b[0m\u001b[0;34m]\u001b[0m\u001b[0;34m)\u001b[0m \u001b[0;34m==\u001b[0m \u001b[0mbs\u001b[0m\u001b[0;34m:\u001b[0m\u001b[0;34m\u001b[0m\u001b[0;34m\u001b[0m\u001b[0m\n",
      "\u001b[0;32m/usr/local/lib/python3.7/dist-packages/torch/utils/data/dataloader.py\u001b[0m in \u001b[0;36m__next__\u001b[0;34m(self)\u001b[0m\n\u001b[1;32m    515\u001b[0m             \u001b[0;32mif\u001b[0m \u001b[0mself\u001b[0m\u001b[0;34m.\u001b[0m\u001b[0m_sampler_iter\u001b[0m \u001b[0;32mis\u001b[0m \u001b[0;32mNone\u001b[0m\u001b[0;34m:\u001b[0m\u001b[0;34m\u001b[0m\u001b[0;34m\u001b[0m\u001b[0m\n\u001b[1;32m    516\u001b[0m                 \u001b[0mself\u001b[0m\u001b[0;34m.\u001b[0m\u001b[0m_reset\u001b[0m\u001b[0;34m(\u001b[0m\u001b[0;34m)\u001b[0m\u001b[0;34m\u001b[0m\u001b[0;34m\u001b[0m\u001b[0m\n\u001b[0;32m--> 517\u001b[0;31m             \u001b[0mdata\u001b[0m \u001b[0;34m=\u001b[0m \u001b[0mself\u001b[0m\u001b[0;34m.\u001b[0m\u001b[0m_next_data\u001b[0m\u001b[0;34m(\u001b[0m\u001b[0;34m)\u001b[0m\u001b[0;34m\u001b[0m\u001b[0;34m\u001b[0m\u001b[0m\n\u001b[0m\u001b[1;32m    518\u001b[0m             \u001b[0mself\u001b[0m\u001b[0;34m.\u001b[0m\u001b[0m_num_yielded\u001b[0m \u001b[0;34m+=\u001b[0m \u001b[0;36m1\u001b[0m\u001b[0;34m\u001b[0m\u001b[0;34m\u001b[0m\u001b[0m\n\u001b[1;32m    519\u001b[0m             \u001b[0;32mif\u001b[0m \u001b[0mself\u001b[0m\u001b[0;34m.\u001b[0m\u001b[0m_dataset_kind\u001b[0m \u001b[0;34m==\u001b[0m \u001b[0m_DatasetKind\u001b[0m\u001b[0;34m.\u001b[0m\u001b[0mIterable\u001b[0m \u001b[0;32mand\u001b[0m\u001b[0;31m \u001b[0m\u001b[0;31m\\\u001b[0m\u001b[0;34m\u001b[0m\u001b[0;34m\u001b[0m\u001b[0m\n",
      "\u001b[0;32m/usr/local/lib/python3.7/dist-packages/torch/utils/data/dataloader.py\u001b[0m in \u001b[0;36m_next_data\u001b[0;34m(self)\u001b[0m\n\u001b[1;32m    555\u001b[0m     \u001b[0;32mdef\u001b[0m \u001b[0m_next_data\u001b[0m\u001b[0;34m(\u001b[0m\u001b[0mself\u001b[0m\u001b[0;34m)\u001b[0m\u001b[0;34m:\u001b[0m\u001b[0;34m\u001b[0m\u001b[0;34m\u001b[0m\u001b[0m\n\u001b[1;32m    556\u001b[0m         \u001b[0mindex\u001b[0m \u001b[0;34m=\u001b[0m \u001b[0mself\u001b[0m\u001b[0;34m.\u001b[0m\u001b[0m_next_index\u001b[0m\u001b[0;34m(\u001b[0m\u001b[0;34m)\u001b[0m  \u001b[0;31m# may raise StopIteration\u001b[0m\u001b[0;34m\u001b[0m\u001b[0;34m\u001b[0m\u001b[0m\n\u001b[0;32m--> 557\u001b[0;31m         \u001b[0mdata\u001b[0m \u001b[0;34m=\u001b[0m \u001b[0mself\u001b[0m\u001b[0;34m.\u001b[0m\u001b[0m_dataset_fetcher\u001b[0m\u001b[0;34m.\u001b[0m\u001b[0mfetch\u001b[0m\u001b[0;34m(\u001b[0m\u001b[0mindex\u001b[0m\u001b[0;34m)\u001b[0m  \u001b[0;31m# may raise StopIteration\u001b[0m\u001b[0;34m\u001b[0m\u001b[0;34m\u001b[0m\u001b[0m\n\u001b[0m\u001b[1;32m    558\u001b[0m         \u001b[0;32mif\u001b[0m \u001b[0mself\u001b[0m\u001b[0;34m.\u001b[0m\u001b[0m_pin_memory\u001b[0m\u001b[0;34m:\u001b[0m\u001b[0;34m\u001b[0m\u001b[0;34m\u001b[0m\u001b[0m\n\u001b[1;32m    559\u001b[0m             \u001b[0mdata\u001b[0m \u001b[0;34m=\u001b[0m \u001b[0m_utils\u001b[0m\u001b[0;34m.\u001b[0m\u001b[0mpin_memory\u001b[0m\u001b[0;34m.\u001b[0m\u001b[0mpin_memory\u001b[0m\u001b[0;34m(\u001b[0m\u001b[0mdata\u001b[0m\u001b[0;34m)\u001b[0m\u001b[0;34m\u001b[0m\u001b[0;34m\u001b[0m\u001b[0m\n",
      "\u001b[0;32m/usr/local/lib/python3.7/dist-packages/torch/utils/data/_utils/fetch.py\u001b[0m in \u001b[0;36mfetch\u001b[0;34m(self, possibly_batched_index)\u001b[0m\n\u001b[1;32m     42\u001b[0m     \u001b[0;32mdef\u001b[0m \u001b[0mfetch\u001b[0m\u001b[0;34m(\u001b[0m\u001b[0mself\u001b[0m\u001b[0;34m,\u001b[0m \u001b[0mpossibly_batched_index\u001b[0m\u001b[0;34m)\u001b[0m\u001b[0;34m:\u001b[0m\u001b[0;34m\u001b[0m\u001b[0;34m\u001b[0m\u001b[0m\n\u001b[1;32m     43\u001b[0m         \u001b[0;32mif\u001b[0m \u001b[0mself\u001b[0m\u001b[0;34m.\u001b[0m\u001b[0mauto_collation\u001b[0m\u001b[0;34m:\u001b[0m\u001b[0;34m\u001b[0m\u001b[0;34m\u001b[0m\u001b[0m\n\u001b[0;32m---> 44\u001b[0;31m             \u001b[0mdata\u001b[0m \u001b[0;34m=\u001b[0m \u001b[0;34m[\u001b[0m\u001b[0mself\u001b[0m\u001b[0;34m.\u001b[0m\u001b[0mdataset\u001b[0m\u001b[0;34m[\u001b[0m\u001b[0midx\u001b[0m\u001b[0;34m]\u001b[0m \u001b[0;32mfor\u001b[0m \u001b[0midx\u001b[0m \u001b[0;32min\u001b[0m \u001b[0mpossibly_batched_index\u001b[0m\u001b[0;34m]\u001b[0m\u001b[0;34m\u001b[0m\u001b[0;34m\u001b[0m\u001b[0m\n\u001b[0m\u001b[1;32m     45\u001b[0m         \u001b[0;32melse\u001b[0m\u001b[0;34m:\u001b[0m\u001b[0;34m\u001b[0m\u001b[0;34m\u001b[0m\u001b[0m\n\u001b[1;32m     46\u001b[0m             \u001b[0mdata\u001b[0m \u001b[0;34m=\u001b[0m \u001b[0mself\u001b[0m\u001b[0;34m.\u001b[0m\u001b[0mdataset\u001b[0m\u001b[0;34m[\u001b[0m\u001b[0mpossibly_batched_index\u001b[0m\u001b[0;34m]\u001b[0m\u001b[0;34m\u001b[0m\u001b[0;34m\u001b[0m\u001b[0m\n",
      "\u001b[0;32m/usr/local/lib/python3.7/dist-packages/torch/utils/data/_utils/fetch.py\u001b[0m in \u001b[0;36m<listcomp>\u001b[0;34m(.0)\u001b[0m\n\u001b[1;32m     42\u001b[0m     \u001b[0;32mdef\u001b[0m \u001b[0mfetch\u001b[0m\u001b[0;34m(\u001b[0m\u001b[0mself\u001b[0m\u001b[0;34m,\u001b[0m \u001b[0mpossibly_batched_index\u001b[0m\u001b[0;34m)\u001b[0m\u001b[0;34m:\u001b[0m\u001b[0;34m\u001b[0m\u001b[0;34m\u001b[0m\u001b[0m\n\u001b[1;32m     43\u001b[0m         \u001b[0;32mif\u001b[0m \u001b[0mself\u001b[0m\u001b[0;34m.\u001b[0m\u001b[0mauto_collation\u001b[0m\u001b[0;34m:\u001b[0m\u001b[0;34m\u001b[0m\u001b[0;34m\u001b[0m\u001b[0m\n\u001b[0;32m---> 44\u001b[0;31m             \u001b[0mdata\u001b[0m \u001b[0;34m=\u001b[0m \u001b[0;34m[\u001b[0m\u001b[0mself\u001b[0m\u001b[0;34m.\u001b[0m\u001b[0mdataset\u001b[0m\u001b[0;34m[\u001b[0m\u001b[0midx\u001b[0m\u001b[0;34m]\u001b[0m \u001b[0;32mfor\u001b[0m \u001b[0midx\u001b[0m \u001b[0;32min\u001b[0m \u001b[0mpossibly_batched_index\u001b[0m\u001b[0;34m]\u001b[0m\u001b[0;34m\u001b[0m\u001b[0;34m\u001b[0m\u001b[0m\n\u001b[0m\u001b[1;32m     45\u001b[0m         \u001b[0;32melse\u001b[0m\u001b[0;34m:\u001b[0m\u001b[0;34m\u001b[0m\u001b[0;34m\u001b[0m\u001b[0m\n\u001b[1;32m     46\u001b[0m             \u001b[0mdata\u001b[0m \u001b[0;34m=\u001b[0m \u001b[0mself\u001b[0m\u001b[0;34m.\u001b[0m\u001b[0mdataset\u001b[0m\u001b[0;34m[\u001b[0m\u001b[0mpossibly_batched_index\u001b[0m\u001b[0;34m]\u001b[0m\u001b[0;34m\u001b[0m\u001b[0;34m\u001b[0m\u001b[0m\n",
      "\u001b[0;32m<ipython-input-8-709929282a57>\u001b[0m in \u001b[0;36m__getitem__\u001b[0;34m(self, idx)\u001b[0m\n\u001b[1;32m     19\u001b[0m           \u001b[0mys\u001b[0m\u001b[0;34m.\u001b[0m\u001b[0mappend\u001b[0m\u001b[0;34m(\u001b[0m\u001b[0my\u001b[0m\u001b[0;34m)\u001b[0m\u001b[0;34m\u001b[0m\u001b[0;34m\u001b[0m\u001b[0m\n\u001b[1;32m     20\u001b[0m \u001b[0;34m\u001b[0m\u001b[0m\n\u001b[0;32m---> 21\u001b[0;31m         \u001b[0mys\u001b[0m \u001b[0;34m=\u001b[0m \u001b[0mtorch\u001b[0m\u001b[0;34m.\u001b[0m\u001b[0mstack\u001b[0m\u001b[0;34m(\u001b[0m\u001b[0mys\u001b[0m\u001b[0;34m)\u001b[0m\u001b[0;34m\u001b[0m\u001b[0;34m\u001b[0m\u001b[0m\n\u001b[0m\u001b[1;32m     22\u001b[0m \u001b[0;34m\u001b[0m\u001b[0m\n\u001b[1;32m     23\u001b[0m         \u001b[0mys\u001b[0m \u001b[0;34m=\u001b[0m \u001b[0mys\u001b[0m\u001b[0;34m.\u001b[0m\u001b[0mto\u001b[0m\u001b[0;34m(\u001b[0m\u001b[0mdev\u001b[0m\u001b[0;34m)\u001b[0m\u001b[0;34m\u001b[0m\u001b[0;34m\u001b[0m\u001b[0m\n",
      "\u001b[0;31mRuntimeError\u001b[0m: stack expects a non-empty TensorList"
     ]
    }
   ],
   "source": [
    "display(HTML(\n",
    "    \"\"\"<table>\n",
    "        <thead>\n",
    "          <tr>\n",
    "          <th>Epoch</th>\n",
    "          <th>Percentage</th>\n",
    "          <th>Loss</th>\n",
    "          <th>Time</th>\n",
    "          </tr>\n",
    "        </thead>\n",
    "        <tbody>\n",
    "        \"\"\"\n",
    "))\n",
    "\n",
    "for epoch in range(epochs):\n",
    "    \n",
    "  start_time = time.time()\n",
    "\n",
    "  model.reset_hidden()\n",
    "  \n",
    "  # Initialize loss at 0\n",
    "  epoch_loss = 0.0\n",
    "  iteration_loss = 0.0\n",
    "  \n",
    "  for i, entry in enumerate(training_loader, 0):\n",
    "      \n",
    "      if len(entry[0]) == bs:\n",
    "\n",
    "        model.zero_grad()\n",
    "          \n",
    "        xs, ys = entry[0], entry[1]\n",
    "        \n",
    "        outputs = model(xs)\n",
    "        \n",
    "        bs, sl = outputs.shape[:2]\n",
    "    \n",
    "        # Flatten the output\n",
    "        outputs = outputs.view(bs * sl, -1)\n",
    "\n",
    "        # Flatten the label\n",
    "        ys = ys.view(-1)\n",
    "\n",
    "        loss = criterion(outputs, ys)\n",
    "        \n",
    "        loss.backward()\n",
    "        optimizer.step()\n",
    "        \n",
    "        epoch_loss += outputs.shape[0] * loss.item()\n",
    "        iteration_loss += outputs.shape[0] * loss.item()\n",
    "        \n",
    "        \n",
    "        if i % 1.5e4 == 0:\n",
    "            \n",
    "            round_time = time.time()\n",
    "            duration = round(((round_time - start_time) / 60), 0) # To convert to minutes\n",
    "            start_time = time.time()\n",
    "            \n",
    "            perc = round((i / total_train_len * 100), 2)\n",
    "\n",
    "            iteration_loss = round((iteration_loss / 1.5e4), 2)\n",
    "\n",
    "            display(HTML(\n",
    "            \"\"\"<tr>\n",
    "              <td>{}</td>\n",
    "              <td>{}</td>\n",
    "              <td>{}</td>\n",
    "              <td>{}</td>\n",
    "              </tr>\"\"\".format(str(epoch + 1), str(perc), str(iteration_loss), str(duration))\n",
    "            ))\n",
    "\n",
    "            iteration_loss = 0.0\n",
    "  \n",
    "  loss_history.append(epoch_loss)\n",
    "  \n",
    "  print(f'Epoch {str(epoch + 1)} Train loss: {str(epoch_loss)}.')\n",
    "\n",
    "display(HTML('</tbody></table>'))        \n",
    "print('Finished training')"
   ]
  },
  {
   "cell_type": "code",
   "execution_count": 66,
   "metadata": {
    "colab": {
     "base_uri": "https://localhost:8080/"
    },
    "executionInfo": {
     "elapsed": 634,
     "status": "ok",
     "timestamp": 1618834490032,
     "user": {
      "displayName": "Mees Molenaar",
      "photoUrl": "https://lh3.googleusercontent.com/a-/AOh14GgarFNqCn57JCj8FlX5fjTQ7xWPGveKHLnQQxqvoA=s64",
      "userId": "09138133359710811571"
     },
     "user_tz": -120
    },
    "id": "gaUtEh5cV_A6",
    "outputId": "259bacc5-1b81-426f-92b4-f57011d75b99"
   },
   "outputs": [
    {
     "data": {
      "text/plain": [
       "PosixPath('/content/content/MyDrive/subcellular-location/v2/AA_LM_v3_ph2.pt')"
      ]
     },
     "execution_count": 66,
     "metadata": {
      "tags": []
     },
     "output_type": "execute_result"
    }
   ],
   "source": [
    "filename = 'AA_LM_v3_ph2.pt'\n",
    "file_dir = Path('/content/content/MyDrive/subcellular-location/v2/' + filename)\n",
    "file_dir"
   ]
  },
  {
   "cell_type": "code",
   "execution_count": 67,
   "metadata": {
    "executionInfo": {
     "elapsed": 1246,
     "status": "ok",
     "timestamp": 1618834492110,
     "user": {
      "displayName": "Mees Molenaar",
      "photoUrl": "https://lh3.googleusercontent.com/a-/AOh14GgarFNqCn57JCj8FlX5fjTQ7xWPGveKHLnQQxqvoA=s64",
      "userId": "09138133359710811571"
     },
     "user_tz": -120
    },
    "id": "jk044fbuWAkT"
   },
   "outputs": [],
   "source": [
    "torch.save(model.encoder, file_dir)"
   ]
  },
  {
   "cell_type": "markdown",
   "metadata": {
    "id": "pyM-TfgDvIFu"
   },
   "source": [
    "> https://arxiv.org/pdf/1801.06146.pdf"
   ]
  },
  {
   "cell_type": "markdown",
   "metadata": {
    "id": "_nCPcZDGi1CP"
   },
   "source": [
    "## Testing AWD-LSTM output with FASTAI"
   ]
  },
  {
   "cell_type": "markdown",
   "metadata": {
    "id": "l2POOmZOMh8a"
   },
   "source": [
    "num_layers, vocab_sz, emb_dim, hid_sz, hidden_p, embed_p, input_p, weight_p, batch_sz = 1"
   ]
  },
  {
   "cell_type": "code",
   "execution_count": null,
   "metadata": {
    "id": "tIKcYbEcMh8a"
   },
   "outputs": [],
   "source": [
    "tst = AWD_LSTM(2, 100, 20, 10, 0.2, 0.02, 0.1, 0.2)"
   ]
  },
  {
   "cell_type": "code",
   "execution_count": null,
   "metadata": {
    "id": "ujjaeWLsMh8a",
    "outputId": "1c55a470-7903-444e-9c05-6a4e7c56269d"
   },
   "outputs": [
    {
     "name": "stdout",
     "output_type": "stream",
     "text": [
      "torch.Size([1, 1, 10])\n",
      "torch.Size([2, 10])\n"
     ]
    }
   ],
   "source": [
    "x = torch.randint(0, 100, (10,5)) # Die 10 en 5 zijn bs en sl\n",
    "x = torch.randint(0, 100, (1,3))\n",
    "r = tst(x)\n",
    "\n",
    "\n",
    "print(tst.last_hiddens[0].shape)\n",
    "\n",
    "tst.eval()\n",
    "tst.reset_hidden()\n",
    "tst(x);\n",
    "tst(x);\n",
    "\n",
    "\n",
    "print(r.shape)"
   ]
  },
  {
   "cell_type": "code",
   "execution_count": null,
   "metadata": {
    "id": "YDV9i-IjMh8b",
    "outputId": "d0201051-d252-4923-f7f9-f90ca88393d5"
   },
   "outputs": [
    {
     "name": "stdout",
     "output_type": "stream",
     "text": [
      "Input shape:\n",
      "torch.Size([1, 3])\n",
      "tensor([[3721,  850, 8386]])\n"
     ]
    },
    {
     "ename": "RuntimeError",
     "evalue": "input.size(-1) must be equal to input_size. Expected 400, got 160000",
     "output_type": "error",
     "traceback": [
      "\u001b[0;31m---------------------------------------------------------------------------\u001b[0m",
      "\u001b[0;31mRuntimeError\u001b[0m                              Traceback (most recent call last)",
      "\u001b[0;32m<ipython-input-107-10541f6c8332>\u001b[0m in \u001b[0;36m<module>\u001b[0;34m\u001b[0m\n\u001b[1;32m      7\u001b[0m     \u001b[0mprint\u001b[0m\u001b[0;34m(\u001b[0m\u001b[0mxs\u001b[0m\u001b[0;34m)\u001b[0m\u001b[0;34m\u001b[0m\u001b[0;34m\u001b[0m\u001b[0m\n\u001b[1;32m      8\u001b[0m \u001b[0;34m\u001b[0m\u001b[0m\n\u001b[0;32m----> 9\u001b[0;31m     \u001b[0moutputs\u001b[0m \u001b[0;34m=\u001b[0m \u001b[0mmodel\u001b[0m\u001b[0;34m(\u001b[0m\u001b[0mxs\u001b[0m\u001b[0;34m.\u001b[0m\u001b[0msqueeze\u001b[0m\u001b[0;34m(\u001b[0m\u001b[0;36m0\u001b[0m\u001b[0;34m)\u001b[0m\u001b[0;34m)\u001b[0m\u001b[0;34m\u001b[0m\u001b[0;34m\u001b[0m\u001b[0m\n\u001b[0m\u001b[1;32m     10\u001b[0m \u001b[0;34m\u001b[0m\u001b[0m\n\u001b[1;32m     11\u001b[0m     \u001b[0mprint\u001b[0m\u001b[0;34m(\u001b[0m\u001b[0moutputs\u001b[0m\u001b[0;34m.\u001b[0m\u001b[0mshape\u001b[0m\u001b[0;34m)\u001b[0m\u001b[0;34m\u001b[0m\u001b[0;34m\u001b[0m\u001b[0m\n",
      "\u001b[0;32m~/.local/lib/python3.6/site-packages/torch/nn/modules/module.py\u001b[0m in \u001b[0;36m_call_impl\u001b[0;34m(self, *input, **kwargs)\u001b[0m\n\u001b[1;32m    725\u001b[0m             \u001b[0mresult\u001b[0m \u001b[0;34m=\u001b[0m \u001b[0mself\u001b[0m\u001b[0;34m.\u001b[0m\u001b[0m_slow_forward\u001b[0m\u001b[0;34m(\u001b[0m\u001b[0;34m*\u001b[0m\u001b[0minput\u001b[0m\u001b[0;34m,\u001b[0m \u001b[0;34m**\u001b[0m\u001b[0mkwargs\u001b[0m\u001b[0;34m)\u001b[0m\u001b[0;34m\u001b[0m\u001b[0;34m\u001b[0m\u001b[0m\n\u001b[1;32m    726\u001b[0m         \u001b[0;32melse\u001b[0m\u001b[0;34m:\u001b[0m\u001b[0;34m\u001b[0m\u001b[0;34m\u001b[0m\u001b[0m\n\u001b[0;32m--> 727\u001b[0;31m             \u001b[0mresult\u001b[0m \u001b[0;34m=\u001b[0m \u001b[0mself\u001b[0m\u001b[0;34m.\u001b[0m\u001b[0mforward\u001b[0m\u001b[0;34m(\u001b[0m\u001b[0;34m*\u001b[0m\u001b[0minput\u001b[0m\u001b[0;34m,\u001b[0m \u001b[0;34m**\u001b[0m\u001b[0mkwargs\u001b[0m\u001b[0;34m)\u001b[0m\u001b[0;34m\u001b[0m\u001b[0;34m\u001b[0m\u001b[0m\n\u001b[0m\u001b[1;32m    728\u001b[0m         for hook in itertools.chain(\n\u001b[1;32m    729\u001b[0m                 \u001b[0m_global_forward_hooks\u001b[0m\u001b[0;34m.\u001b[0m\u001b[0mvalues\u001b[0m\u001b[0;34m(\u001b[0m\u001b[0;34m)\u001b[0m\u001b[0;34m,\u001b[0m\u001b[0;34m\u001b[0m\u001b[0;34m\u001b[0m\u001b[0m\n",
      "\u001b[0;32m<ipython-input-20-0e6c5f7c0fbc>\u001b[0m in \u001b[0;36mforward\u001b[0;34m(self, xs)\u001b[0m\n\u001b[1;32m     58\u001b[0m \u001b[0;34m\u001b[0m\u001b[0m\n\u001b[1;32m     59\u001b[0m           \u001b[0mhiddens_dp\u001b[0m \u001b[0;34m=\u001b[0m \u001b[0mtuple\u001b[0m\u001b[0;34m(\u001b[0m\u001b[0mhiddens_dp\u001b[0m\u001b[0;34m)\u001b[0m\u001b[0;34m\u001b[0m\u001b[0;34m\u001b[0m\u001b[0m\n\u001b[0;32m---> 60\u001b[0;31m           \u001b[0moutput\u001b[0m\u001b[0;34m,\u001b[0m \u001b[0mhiddens\u001b[0m \u001b[0;34m=\u001b[0m \u001b[0mlstm\u001b[0m\u001b[0;34m(\u001b[0m\u001b[0minput_dp\u001b[0m\u001b[0;34m.\u001b[0m\u001b[0mview\u001b[0m\u001b[0;34m(\u001b[0m\u001b[0;36m1\u001b[0m\u001b[0;34m,\u001b[0m \u001b[0;36m1\u001b[0m\u001b[0;34m,\u001b[0m \u001b[0;34m-\u001b[0m\u001b[0;36m1\u001b[0m\u001b[0;34m)\u001b[0m\u001b[0;34m,\u001b[0m \u001b[0mhiddens_dp\u001b[0m\u001b[0;34m)\u001b[0m\u001b[0;34m\u001b[0m\u001b[0;34m\u001b[0m\u001b[0m\n\u001b[0m\u001b[1;32m     61\u001b[0m \u001b[0;34m\u001b[0m\u001b[0m\n\u001b[1;32m     62\u001b[0m \u001b[0;34m\u001b[0m\u001b[0m\n",
      "\u001b[0;32m~/.local/lib/python3.6/site-packages/torch/nn/modules/module.py\u001b[0m in \u001b[0;36m_call_impl\u001b[0;34m(self, *input, **kwargs)\u001b[0m\n\u001b[1;32m    725\u001b[0m             \u001b[0mresult\u001b[0m \u001b[0;34m=\u001b[0m \u001b[0mself\u001b[0m\u001b[0;34m.\u001b[0m\u001b[0m_slow_forward\u001b[0m\u001b[0;34m(\u001b[0m\u001b[0;34m*\u001b[0m\u001b[0minput\u001b[0m\u001b[0;34m,\u001b[0m \u001b[0;34m**\u001b[0m\u001b[0mkwargs\u001b[0m\u001b[0;34m)\u001b[0m\u001b[0;34m\u001b[0m\u001b[0;34m\u001b[0m\u001b[0m\n\u001b[1;32m    726\u001b[0m         \u001b[0;32melse\u001b[0m\u001b[0;34m:\u001b[0m\u001b[0;34m\u001b[0m\u001b[0;34m\u001b[0m\u001b[0m\n\u001b[0;32m--> 727\u001b[0;31m             \u001b[0mresult\u001b[0m \u001b[0;34m=\u001b[0m \u001b[0mself\u001b[0m\u001b[0;34m.\u001b[0m\u001b[0mforward\u001b[0m\u001b[0;34m(\u001b[0m\u001b[0;34m*\u001b[0m\u001b[0minput\u001b[0m\u001b[0;34m,\u001b[0m \u001b[0;34m**\u001b[0m\u001b[0mkwargs\u001b[0m\u001b[0;34m)\u001b[0m\u001b[0;34m\u001b[0m\u001b[0;34m\u001b[0m\u001b[0m\n\u001b[0m\u001b[1;32m    728\u001b[0m         for hook in itertools.chain(\n\u001b[1;32m    729\u001b[0m                 \u001b[0m_global_forward_hooks\u001b[0m\u001b[0;34m.\u001b[0m\u001b[0mvalues\u001b[0m\u001b[0;34m(\u001b[0m\u001b[0;34m)\u001b[0m\u001b[0;34m,\u001b[0m\u001b[0;34m\u001b[0m\u001b[0;34m\u001b[0m\u001b[0m\n",
      "\u001b[0;32m<ipython-input-19-ecde55d249b7>\u001b[0m in \u001b[0;36mforward\u001b[0;34m(self, *args)\u001b[0m\n\u001b[1;32m     31\u001b[0m   \u001b[0;32mdef\u001b[0m \u001b[0mforward\u001b[0m\u001b[0;34m(\u001b[0m\u001b[0mself\u001b[0m\u001b[0;34m,\u001b[0m \u001b[0;34m*\u001b[0m\u001b[0margs\u001b[0m\u001b[0;34m)\u001b[0m\u001b[0;34m:\u001b[0m\u001b[0;34m\u001b[0m\u001b[0;34m\u001b[0m\u001b[0m\n\u001b[1;32m     32\u001b[0m     \u001b[0mself\u001b[0m\u001b[0;34m.\u001b[0m\u001b[0m_setweights\u001b[0m\u001b[0;34m(\u001b[0m\u001b[0;34m)\u001b[0m\u001b[0;34m\u001b[0m\u001b[0;34m\u001b[0m\u001b[0m\n\u001b[0;32m---> 33\u001b[0;31m     \u001b[0;32mreturn\u001b[0m \u001b[0mself\u001b[0m\u001b[0;34m.\u001b[0m\u001b[0mmodule\u001b[0m\u001b[0;34m(\u001b[0m\u001b[0;34m*\u001b[0m\u001b[0margs\u001b[0m\u001b[0;34m)\u001b[0m\u001b[0;34m\u001b[0m\u001b[0;34m\u001b[0m\u001b[0m\n\u001b[0m",
      "\u001b[0;32m~/.local/lib/python3.6/site-packages/torch/nn/modules/module.py\u001b[0m in \u001b[0;36m_call_impl\u001b[0;34m(self, *input, **kwargs)\u001b[0m\n\u001b[1;32m    725\u001b[0m             \u001b[0mresult\u001b[0m \u001b[0;34m=\u001b[0m \u001b[0mself\u001b[0m\u001b[0;34m.\u001b[0m\u001b[0m_slow_forward\u001b[0m\u001b[0;34m(\u001b[0m\u001b[0;34m*\u001b[0m\u001b[0minput\u001b[0m\u001b[0;34m,\u001b[0m \u001b[0;34m**\u001b[0m\u001b[0mkwargs\u001b[0m\u001b[0;34m)\u001b[0m\u001b[0;34m\u001b[0m\u001b[0;34m\u001b[0m\u001b[0m\n\u001b[1;32m    726\u001b[0m         \u001b[0;32melse\u001b[0m\u001b[0;34m:\u001b[0m\u001b[0;34m\u001b[0m\u001b[0;34m\u001b[0m\u001b[0m\n\u001b[0;32m--> 727\u001b[0;31m             \u001b[0mresult\u001b[0m \u001b[0;34m=\u001b[0m \u001b[0mself\u001b[0m\u001b[0;34m.\u001b[0m\u001b[0mforward\u001b[0m\u001b[0;34m(\u001b[0m\u001b[0;34m*\u001b[0m\u001b[0minput\u001b[0m\u001b[0;34m,\u001b[0m \u001b[0;34m**\u001b[0m\u001b[0mkwargs\u001b[0m\u001b[0;34m)\u001b[0m\u001b[0;34m\u001b[0m\u001b[0;34m\u001b[0m\u001b[0m\n\u001b[0m\u001b[1;32m    728\u001b[0m         for hook in itertools.chain(\n\u001b[1;32m    729\u001b[0m                 \u001b[0m_global_forward_hooks\u001b[0m\u001b[0;34m.\u001b[0m\u001b[0mvalues\u001b[0m\u001b[0;34m(\u001b[0m\u001b[0;34m)\u001b[0m\u001b[0;34m,\u001b[0m\u001b[0;34m\u001b[0m\u001b[0;34m\u001b[0m\u001b[0m\n",
      "\u001b[0;32m~/.local/lib/python3.6/site-packages/torch/nn/modules/rnn.py\u001b[0m in \u001b[0;36mforward\u001b[0;34m(self, input, hx)\u001b[0m\n\u001b[1;32m    577\u001b[0m             \u001b[0mhx\u001b[0m \u001b[0;34m=\u001b[0m \u001b[0mself\u001b[0m\u001b[0;34m.\u001b[0m\u001b[0mpermute_hidden\u001b[0m\u001b[0;34m(\u001b[0m\u001b[0mhx\u001b[0m\u001b[0;34m,\u001b[0m \u001b[0msorted_indices\u001b[0m\u001b[0;34m)\u001b[0m\u001b[0;34m\u001b[0m\u001b[0;34m\u001b[0m\u001b[0m\n\u001b[1;32m    578\u001b[0m \u001b[0;34m\u001b[0m\u001b[0m\n\u001b[0;32m--> 579\u001b[0;31m         \u001b[0mself\u001b[0m\u001b[0;34m.\u001b[0m\u001b[0mcheck_forward_args\u001b[0m\u001b[0;34m(\u001b[0m\u001b[0minput\u001b[0m\u001b[0;34m,\u001b[0m \u001b[0mhx\u001b[0m\u001b[0;34m,\u001b[0m \u001b[0mbatch_sizes\u001b[0m\u001b[0;34m)\u001b[0m\u001b[0;34m\u001b[0m\u001b[0;34m\u001b[0m\u001b[0m\n\u001b[0m\u001b[1;32m    580\u001b[0m         \u001b[0;32mif\u001b[0m \u001b[0mbatch_sizes\u001b[0m \u001b[0;32mis\u001b[0m \u001b[0;32mNone\u001b[0m\u001b[0;34m:\u001b[0m\u001b[0;34m\u001b[0m\u001b[0;34m\u001b[0m\u001b[0m\n\u001b[1;32m    581\u001b[0m             result = _VF.lstm(input, hx, self._flat_weights, self.bias, self.num_layers,\n",
      "\u001b[0;32m~/.local/lib/python3.6/site-packages/torch/nn/modules/rnn.py\u001b[0m in \u001b[0;36mcheck_forward_args\u001b[0;34m(self, input, hidden, batch_sizes)\u001b[0m\n\u001b[1;32m    528\u001b[0m \u001b[0;34m\u001b[0m\u001b[0m\n\u001b[1;32m    529\u001b[0m     \u001b[0;32mdef\u001b[0m \u001b[0mcheck_forward_args\u001b[0m\u001b[0;34m(\u001b[0m\u001b[0mself\u001b[0m\u001b[0;34m,\u001b[0m \u001b[0minput\u001b[0m\u001b[0;34m:\u001b[0m \u001b[0mTensor\u001b[0m\u001b[0;34m,\u001b[0m \u001b[0mhidden\u001b[0m\u001b[0;34m:\u001b[0m \u001b[0mTuple\u001b[0m\u001b[0;34m[\u001b[0m\u001b[0mTensor\u001b[0m\u001b[0;34m,\u001b[0m \u001b[0mTensor\u001b[0m\u001b[0;34m]\u001b[0m\u001b[0;34m,\u001b[0m \u001b[0mbatch_sizes\u001b[0m\u001b[0;34m:\u001b[0m \u001b[0mOptional\u001b[0m\u001b[0;34m[\u001b[0m\u001b[0mTensor\u001b[0m\u001b[0;34m]\u001b[0m\u001b[0;34m)\u001b[0m\u001b[0;34m:\u001b[0m\u001b[0;34m\u001b[0m\u001b[0;34m\u001b[0m\u001b[0m\n\u001b[0;32m--> 530\u001b[0;31m         \u001b[0mself\u001b[0m\u001b[0;34m.\u001b[0m\u001b[0mcheck_input\u001b[0m\u001b[0;34m(\u001b[0m\u001b[0minput\u001b[0m\u001b[0;34m,\u001b[0m \u001b[0mbatch_sizes\u001b[0m\u001b[0;34m)\u001b[0m\u001b[0;34m\u001b[0m\u001b[0;34m\u001b[0m\u001b[0m\n\u001b[0m\u001b[1;32m    531\u001b[0m         \u001b[0mexpected_hidden_size\u001b[0m \u001b[0;34m=\u001b[0m \u001b[0mself\u001b[0m\u001b[0;34m.\u001b[0m\u001b[0mget_expected_hidden_size\u001b[0m\u001b[0;34m(\u001b[0m\u001b[0minput\u001b[0m\u001b[0;34m,\u001b[0m \u001b[0mbatch_sizes\u001b[0m\u001b[0;34m)\u001b[0m\u001b[0;34m\u001b[0m\u001b[0;34m\u001b[0m\u001b[0m\n\u001b[1;32m    532\u001b[0m \u001b[0;34m\u001b[0m\u001b[0m\n",
      "\u001b[0;32m~/.local/lib/python3.6/site-packages/torch/nn/modules/rnn.py\u001b[0m in \u001b[0;36mcheck_input\u001b[0;34m(self, input, batch_sizes)\u001b[0m\n\u001b[1;32m    178\u001b[0m             raise RuntimeError(\n\u001b[1;32m    179\u001b[0m                 'input.size(-1) must be equal to input_size. Expected {}, got {}'.format(\n\u001b[0;32m--> 180\u001b[0;31m                     self.input_size, input.size(-1)))\n\u001b[0m\u001b[1;32m    181\u001b[0m \u001b[0;34m\u001b[0m\u001b[0m\n\u001b[1;32m    182\u001b[0m     \u001b[0;32mdef\u001b[0m \u001b[0mget_expected_hidden_size\u001b[0m\u001b[0;34m(\u001b[0m\u001b[0mself\u001b[0m\u001b[0;34m,\u001b[0m \u001b[0minput\u001b[0m\u001b[0;34m:\u001b[0m \u001b[0mTensor\u001b[0m\u001b[0;34m,\u001b[0m \u001b[0mbatch_sizes\u001b[0m\u001b[0;34m:\u001b[0m \u001b[0mOptional\u001b[0m\u001b[0;34m[\u001b[0m\u001b[0mTensor\u001b[0m\u001b[0;34m]\u001b[0m\u001b[0;34m)\u001b[0m \u001b[0;34m->\u001b[0m \u001b[0mTuple\u001b[0m\u001b[0;34m[\u001b[0m\u001b[0mint\u001b[0m\u001b[0;34m,\u001b[0m \u001b[0mint\u001b[0m\u001b[0;34m,\u001b[0m \u001b[0mint\u001b[0m\u001b[0;34m]\u001b[0m\u001b[0;34m:\u001b[0m\u001b[0;34m\u001b[0m\u001b[0;34m\u001b[0m\u001b[0m\n",
      "\u001b[0;31mRuntimeError\u001b[0m: input.size(-1) must be equal to input_size. Expected 400, got 160000"
     ]
    }
   ],
   "source": [
    "# Test for the real work\n",
    "for i, entry in enumerate(training_loader, 0):\n",
    "    xs, ys = entry[0], entry[1]\n",
    "    \n",
    "    print('Input shape:')\n",
    "    print(xs.shape)\n",
    "    print(xs)\n",
    "\n",
    "    outputs = model(xs.squeeze(0))\n",
    "\n",
    "    print(outputs.shape)\n",
    "    print(ys.shape)\n",
    "\n",
    "    loss = criterion(outputs, ys.squeeze(0))\n",
    "    print(loss)\n",
    "    \n",
    "    break"
   ]
  },
  {
   "cell_type": "code",
   "execution_count": null,
   "metadata": {
    "id": "n9h-ubzIMh8b"
   },
   "outputs": [],
   "source": []
  }
 ],
 "metadata": {
  "accelerator": "GPU",
  "colab": {
   "collapsed_sections": [
    "_nCPcZDGi1CP"
   ],
   "name": "AminoAcidLM_v2.ipynb",
   "provenance": []
  },
  "kernelspec": {
   "display_name": "Python 3",
   "language": "python",
   "name": "python3"
  },
  "language_info": {
   "codemirror_mode": {
    "name": "ipython",
    "version": 3
   },
   "file_extension": ".py",
   "mimetype": "text/x-python",
   "name": "python",
   "nbconvert_exporter": "python",
   "pygments_lexer": "ipython3",
   "version": "3.8.5"
  }
 },
 "nbformat": 4,
 "nbformat_minor": 1
}
