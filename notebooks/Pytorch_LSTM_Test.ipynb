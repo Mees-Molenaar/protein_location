{
 "cells": [
  {
   "cell_type": "code",
   "execution_count": 1,
   "metadata": {},
   "outputs": [],
   "source": [
    "import torch\n",
    "from pathlib import Path\n",
    "import pandas as pd\n",
    "import numpy as np"
   ]
  },
  {
   "cell_type": "code",
   "execution_count": 32,
   "metadata": {},
   "outputs": [],
   "source": [
    "emb_dim = 2\n",
    "hid_sz = 400\n",
    "num_layers = 3"
   ]
  },
  {
   "cell_type": "code",
   "execution_count": 33,
   "metadata": {},
   "outputs": [],
   "source": [
    "vocab = ['a', 'b', 'c', 'd', 'e']\n",
    "vocab_sz = len(vocab)"
   ]
  },
  {
   "cell_type": "code",
   "execution_count": 34,
   "metadata": {},
   "outputs": [],
   "source": [
    "encoder = torch.nn.Embedding(vocab_sz, emb_dim)"
   ]
  },
  {
   "cell_type": "code",
   "execution_count": 36,
   "metadata": {},
   "outputs": [],
   "source": [
    "lstm = torch.nn.LSTM(input_size=emb_dim, hidden_size=hid_sz, num_layers=num_layers)"
   ]
  },
  {
   "cell_type": "code",
   "execution_count": 37,
   "metadata": {},
   "outputs": [],
   "source": [
    "inputs = [torch.tensor(0) , torch.tensor(1), torch.tensor(2)]"
   ]
  },
  {
   "cell_type": "code",
   "execution_count": 49,
   "metadata": {},
   "outputs": [],
   "source": [
    "hidden = (torch.randn(3, 1, 400),\n",
    "          torch.randn(3, 1, 400))"
   ]
  },
  {
   "cell_type": "code",
   "execution_count": 50,
   "metadata": {},
   "outputs": [
    {
     "name": "stdout",
     "output_type": "stream",
     "text": [
      "tensor([[-0.1003, -0.6978],\n",
      "        [-1.4883,  1.6199],\n",
      "        [-1.6344,  2.5097]], grad_fn=<EmbeddingBackward>)\n",
      "tensor([[[-0.1003, -0.6978]],\n",
      "\n",
      "        [[-1.4883,  1.6199]],\n",
      "\n",
      "        [[-1.6344,  2.5097]]], grad_fn=<ViewBackward>)\n"
     ]
    }
   ],
   "source": [
    "inp = torch.tensor(inputs)\n",
    "emb = encoder(inp)\n",
    "\n",
    "print(emb)\n",
    "print(emb.view(len(inp), 1, -1))\n",
    "out, hidden = lstm(emb.view(len(emb), 1, -1), hidden)"
   ]
  },
  {
   "cell_type": "code",
   "execution_count": 25,
   "metadata": {},
   "outputs": [
    {
     "data": {
      "text/plain": [
       "[tensor([[-2.1356,  1.7282, -0.6468]]),\n",
       " tensor([[0.2478, 0.9803, 0.0129]]),\n",
       " tensor([[ 0.4120, -0.3697, -0.5888]]),\n",
       " tensor([[-1.3189,  0.0661,  0.2918]]),\n",
       " tensor([[-0.6581,  0.6158, -0.3275]])]"
      ]
     },
     "execution_count": 25,
     "metadata": {},
     "output_type": "execute_result"
    }
   ],
   "source": [
    "inputs = [torch.randn(1, 3) for _ in range(5)]\n",
    "inputs"
   ]
  },
  {
   "cell_type": "code",
   "execution_count": 27,
   "metadata": {},
   "outputs": [
    {
     "name": "stdout",
     "output_type": "stream",
     "text": [
      "tensor([[[-2.1356,  1.7282, -0.6468]]])\n",
      "\n",
      "tensor([[[0.2478, 0.9803, 0.0129]]])\n",
      "\n",
      "tensor([[[ 0.4120, -0.3697, -0.5888]]])\n",
      "\n",
      "tensor([[[-1.3189,  0.0661,  0.2918]]])\n",
      "\n",
      "tensor([[[-0.6581,  0.6158, -0.3275]]])\n",
      "\n"
     ]
    }
   ],
   "source": [
    "for i in inputs:\n",
    "    print(i.view(1, 1, -1))\n",
    "    print()"
   ]
  }
 ],
 "metadata": {
  "kernelspec": {
   "display_name": "Python 3",
   "language": "python",
   "name": "python3"
  },
  "language_info": {
   "codemirror_mode": {
    "name": "ipython",
    "version": 3
   },
   "file_extension": ".py",
   "mimetype": "text/x-python",
   "name": "python",
   "nbconvert_exporter": "python",
   "pygments_lexer": "ipython3",
   "version": "3.6.9"
  }
 },
 "nbformat": 4,
 "nbformat_minor": 2
}
