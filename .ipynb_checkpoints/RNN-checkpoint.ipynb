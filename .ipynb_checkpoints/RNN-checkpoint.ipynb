{
 "cells": [
  {
   "cell_type": "markdown",
   "metadata": {},
   "source": [
    "# RNN in Numpy\n",
    "\n",
    "Recurrent Neural Networks (RNN) are a class of Artificial Neural Networks that is extremely well equiped to process a sequence of inputs. Therefore, RNNs are usefull in time series. \n",
    "\n",
    "In this work, I created a RNN from scratch using Numpy. This RNN is based on Andrej Karpathy's char-rnn and will be the basis for a LSTM network. This network will be used to classify protein locations based on the amino acid sequence."
   ]
  },
  {
   "cell_type": "code",
   "execution_count": null,
   "metadata": {},
   "outputs": [],
   "source": [
    "# First import numpy and matplotlib\n",
    "import numpy as np\n",
    "import matplotlib.pyplot as plt"
   ]
  },
  {
   "cell_type": "code",
   "execution_count": 2,
   "metadata": {},
   "outputs": [],
   "source": [
    "# Random seed\n",
    "np.random.seed(420)"
   ]
  },
  {
   "cell_type": "code",
   "execution_count": 3,
   "metadata": {},
   "outputs": [],
   "source": [
    "# Open the training data and save some important variables. If you want to train on your own text, just change the .txt file in the data variable.\n",
    "#data = open('shakespeare.txt', 'r').read()\n",
    "data = open('nescio.txt', 'r').read()\n",
    "chars = list(set(data))\n",
    "data_size = len(data)\n",
    "vocab_size = len(chars)"
   ]
  },
  {
   "cell_type": "code",
   "execution_count": 4,
   "metadata": {},
   "outputs": [
    {
     "name": "stdout",
     "output_type": "stream",
     "text": [
      "Data set is length 202367\n",
      "Vocab set is length 89\n"
     ]
    }
   ],
   "source": [
    "print(f'Data set is length {data_size}')\n",
    "print(f'Vocab set is length {vocab_size}')"
   ]
  },
  {
   "cell_type": "code",
   "execution_count": 5,
   "metadata": {},
   "outputs": [],
   "source": [
    "# Simple character embedding\n",
    "char_to_idx = {char:i for i, char in enumerate(chars)}\n",
    "idx_to_char = {i:char for i, char in enumerate(chars)}"
   ]
  },
  {
   "cell_type": "code",
   "execution_count": 6,
   "metadata": {},
   "outputs": [],
   "source": [
    "# hyperparameters\n",
    "hidden_size = 100\n",
    "seq_length = 25\n",
    "learning_rate = 1e-1\n",
    "epochs = 10"
   ]
  },
  {
   "cell_type": "code",
   "execution_count": 50,
   "metadata": {},
   "outputs": [],
   "source": [
    "class RNN():\n",
    "    r\"\"\" Simple recurrent neural network (RNN) class for an input sequence.\n",
    "    \n",
    "        This RNN initializes weight and gradients. And contains the forward\n",
    "        and backward pass. The network is optimized using Adagrad.\n",
    "        The train method is used to train the network.\n",
    "        \n",
    "        Parameters\n",
    "        ----------\n",
    "        seq_length : Number of layers connected to each others. \n",
    "        hidden_sz : The number of features in the hidden state h.\n",
    "        vocab_sz : The number of possible inputs and outputs.\n",
    "        \n",
    "        \n",
    "        Inputs (train)\n",
    "        --------------\n",
    "        data : Data used to train the network.\n",
    "        optimizer : The optimizer that is used to train the network.\n",
    "        lr : The learning rate used to train the network.\n",
    "        epochs : The number of epochs to train the network.\n",
    "        progress : If True, shows the progress of training the network.\n",
    "        \n",
    "        Inputs (predict)\n",
    "        ----------------\n",
    "        start : Start of a sentence that the network uses as initial sequence.\n",
    "        n : Length of the prediction.\n",
    "        \n",
    "        \n",
    "        Output (train)\n",
    "        --------------\n",
    "        smooth_loss : The loss of the current trained network.\n",
    "        Wxh, Whh, Why : Updated weights of the network due to training.\n",
    "        bh, by : Updated biases due to training.\n",
    "        \n",
    "        Output (predict)\n",
    "        ----------------\n",
    "        txt : A string that is predicted by the RNN.\n",
    "    \n",
    "    \"\"\"\n",
    "    \n",
    "    def __init__(self, seq_length, hidden_sz, vocab_sz):\n",
    "        self.hs = {} # Hidden states\n",
    "        self.sm_ps = {} # Softmax probabilities\n",
    "        self.seq_length = seq_length\n",
    "        self.hidden_sz = hidden_sz\n",
    "        self.vocab_sz = vocab_sz\n",
    "        \n",
    "        # Start with zero loss\n",
    "        self.loss = 0 \n",
    "        \n",
    "        # Initiate weight matrices\n",
    "        self.Wxh, self.Whh, self.Why, self.bh, self.by = self.init_weights()\n",
    "        \n",
    "        \n",
    "    def init_weights(self):\n",
    "        \"\"\"\n",
    "        Initializes weights and biases based on the inputs hidden_sz and vocab_sz\n",
    "        \"\"\"\n",
    "        Wxh = np.random.randn(self.hidden_sz, self.vocab_sz) * 0.01 #times 0.01 to avoid exploding gradients\n",
    "        Whh = np.random.randn(self.hidden_sz, self.hidden_sz) * 0.01\n",
    "        Why = np.random.randn(self.vocab_sz, self.hidden_sz) * 0.01\n",
    "        \n",
    "        # bias\n",
    "        bh = np.zeros((hidden_size, 1))\n",
    "        by = np.zeros((vocab_size, 1))\n",
    "        \n",
    "        return Wxh, Whh, Why, bh, by\n",
    "    \n",
    "    def init_gradients(self):\n",
    "        \"\"\"\n",
    "        Initializes gradients for biases and weights.\n",
    "        \"\"\"\n",
    "        self.dWxh, self.dWhh, self.dWhy = np.zeros_like(self.Wxh), np.zeros_like(self.Whh), np.zeros_like(self.Why)\n",
    "        self.dby, self.dbh = np.zeros_like(self.by), np.zeros_like(self.bh)\n",
    "    \n",
    "    def forward(self, xs, targets):\n",
    "        \"\"\"\n",
    "        Forward pass of the RNN\n",
    "        \"\"\"\n",
    "        \n",
    "        y_preds = {}\n",
    "\n",
    "        self.loss = 0\n",
    "\n",
    "        for i in range(len(xs)):\n",
    "            x = xs[i]\n",
    "            x_vec = np.zeros((self.vocab_sz, 1)) # vectorize the input\n",
    "            x_vec[x] = 1\n",
    "\n",
    "            # Calculate the new hidden, which is based on the input and the previous hidden layer\n",
    "            self.hs[i] = np.tanh(np.dot(self.Wxh, x_vec) + np.dot(self.Whh, self.hs[i - 1]) + self.bh)\n",
    "            # Predict y\n",
    "            y_preds[i] = np.dot(self.Why, self.hs[i]) + self.by\n",
    "\n",
    "            self.sm_ps[i] = np.exp(y_preds[i]) / np.sum(np.exp(y_preds[i])) # Softmax probabilty\n",
    "            self.loss += -np.log(self.sm_ps[i][targets[i], 0]) #Negative loss likelyhood\n",
    "\n",
    "        self.hs[-1] = self.hs[len(xs) - 1]\n",
    "        \n",
    "    def backward(self, xs, targets):\n",
    "        \"\"\"\n",
    "        Backward pass of the RNN\n",
    "        \"\"\"\n",
    "        self.init_gradients()\n",
    "    \n",
    "        # Initialize empty next hidden layer for the first backprop\n",
    "        dhnext = np.zeros_like(self.hs[0])\n",
    "\n",
    "        for i in reversed(range(len(xs))):\n",
    "            # X to vector\n",
    "            x = xs[i]    \n",
    "            x_vec = np.zeros((vocab_size, 1))\n",
    "            x_vec[x] = 1\n",
    "\n",
    "            dy = np.copy(self.sm_ps[i])\n",
    "            dy[targets[i]] -= 1 # backprop into y. see http://cs231n.github.io/neural-networks-case-study/#grad if confused here\n",
    "\n",
    "            self.dby += dy   \n",
    "            self.dWhy += np.dot(dy, self.hs[i].T)\n",
    "            dh = np.dot(self.Why.T, dy) + dhnext\n",
    "            dhraw = (1 - self.hs[i] * self.hs[i]) * dh  \n",
    "            self.dWxh += np.dot(dhraw, x_vec.T)\n",
    "            self.dWhh += np.dot(dhraw, self.hs[i-1].T)\n",
    "            self.dbh += dhraw\n",
    "            dhnext = np.dot(self.Whh.T, dhraw)\n",
    "\n",
    "        # Clip to prevent exploding gradients\n",
    "        for dparam in [self.dWhy, self.dWxh, self.dWhh, self.dbh, self.dby]:\n",
    "            np.clip(dparam, -5, 5, out=dparam)\n",
    "            \n",
    "    def init_adagrad_memory(self):\n",
    "        \"\"\"\n",
    "        Initialize memory matrices needed for Adagrad.\n",
    "        \"\"\"\n",
    "        self.mWxh, self.mWhh, self.mWhy = np.zeros_like(self.Wxh), np.zeros_like(self.Whh), np.zeros_like(self.Why)\n",
    "        self.mbh, self.mby  = np.zeros_like(self.bh), np.zeros_like(self.by)\n",
    "\n",
    "    def update_gradients(self, optimizer, lr):\n",
    "        \"\"\"\n",
    "        Update gradients based on the optimizer you have chosen.\n",
    "        \"\"\"\n",
    "        if optimizer == 'Adagrad':\n",
    "            if not hasattr(self, 'mWhh'):\n",
    "                self.init_adagrad_memory()\n",
    "                \n",
    "            # perform parameter update with Adagrad\n",
    "            for param, dparam, mem in zip([self.Wxh, self.Whh, self.Why, self.bh, self.by],\n",
    "                                  [self.dWxh, self.dWhh, self.dWhy, self.dbh, self.dby],\n",
    "                                  [self.mWxh, self.mWhh, self.mWhy, self.mbh, self.mby]):\n",
    "                mem += dparam * dparam\n",
    "                param += -learning_rate * dparam / np.sqrt(mem + 1e-8)  # adagrad update\n",
    "                \n",
    "    def reset_hidden(self):\n",
    "        \"\"\"\n",
    "        Reset the hidden layer\n",
    "        \"\"\"\n",
    "        self.hs[-1] = np.zeros((self.hidden_sz, 1))\n",
    "        \n",
    "    def plot_losses(self):\n",
    "        \"\"\"\n",
    "        Plot the cross entropy loss against the number of sequences\n",
    "        \"\"\"\n",
    "        if hasattr(self, 'losses'):\n",
    "            plt.plot(self.losses)\n",
    "            plt.xlabel('Number of sequences')\n",
    "            plt.ylabel('Cross entropy loss')\n",
    "            plt.show()\n",
    "        else:\n",
    "            print('Error: No losses recorded, train the model!')\n",
    "    \n",
    "    def train(self, data, optimizer, lr, epochs, progress=True):\n",
    "        \"\"\"\n",
    "        Train the model by chopping the data in sequences followed by performing\n",
    "        the forward pass, backward pass and update the gradients.\n",
    "        \"\"\"\n",
    "        self.losses = []\n",
    "        smooth_loss = -np.log(1.0/vocab_size)*seq_length # loss at iteration 0\n",
    "        \n",
    "        # Loop over the amount of epochs\n",
    "        for epoch in range(epochs):\n",
    "            n = 0\n",
    "            \n",
    "            # Reset hidden state\n",
    "            self.reset_hidden()\n",
    "            \n",
    "            data_len = len(data)\n",
    "            \n",
    "            # Loop over the amount of sequences\n",
    "            sequences_amount = int(data_len // self.seq_length)\n",
    "            for j in range(sequences_amount):\n",
    "                \n",
    "                start_pos = self.seq_length * j\n",
    "                \n",
    "                # Embed the inputs and targets\n",
    "                xs = [char_to_idx[ch] for ch in data[start_pos:start_pos+self.seq_length]]\n",
    "                targets = [char_to_idx[ch] for ch in data[start_pos+1:start_pos+self.seq_length+1]]\n",
    "                \n",
    "                # Forward pass\n",
    "                self.forward(xs, targets)\n",
    "                \n",
    "                # Backward\n",
    "                self.backward(xs, targets)\n",
    "                \n",
    "                # Update weight matrices\n",
    "                self.update_gradients(optimizer, lr)\n",
    "                \n",
    "                smooth_loss = smooth_loss * 0.999 + self.loss * 0.001\n",
    "        \n",
    "                if progress and n % 1000 == 0:\n",
    "                    print(f'Epoch {epoch + 1}: {n} / {sequences_amount}: {smooth_loss}')\n",
    "                 \n",
    "                n += 1\n",
    "                self.losses.append(smooth_loss)\n",
    "    \n",
    "    def predict(self, start, n):\n",
    "        \"\"\"\n",
    "        Predict a sequence of text based on a starting string.\n",
    "        \"\"\"\n",
    "        seed_idx = char_to_idx[start[-1]]\n",
    "        x = np.zeros((self.vocab_sz, 1))\n",
    "        x[seed_idx] = 1\n",
    "        \n",
    "        txt = [ch for ch in start]\n",
    "        \n",
    "        idxes = []\n",
    "        \n",
    "        h = self.hs[-1]\n",
    "        \n",
    "        for i in range(n):\n",
    "            \n",
    "            # Calculate the hidden\n",
    "            h = np.tanh(np.dot(self.Wxh, x) + np.dot(self.Whh, h) + self.bh)\n",
    "            # Calculate y\n",
    "            y = np.dot(self.Why, h) + self.by\n",
    "\n",
    "            sm_p = np.exp(y) / np.sum(np.exp(y)) # Softmax probabilty\n",
    "            # Determine character based on weighted probability (is using the softmax probability)\n",
    "            idx = np.random.choice(range(self.vocab_sz), p=sm_p.ravel())\n",
    "            idxes.append(idx)\n",
    "            \n",
    "            # Save X for next iteration\n",
    "            x = np.zeros((self.vocab_sz, 1))\n",
    "            x[idx] = 1\n",
    "            \n",
    "        prediction = [idx_to_char[idx] for idx in idxes]\n",
    "        \n",
    "        txt += prediction\n",
    "        \n",
    "        return txt"
   ]
  },
  {
   "cell_type": "code",
   "execution_count": 51,
   "metadata": {},
   "outputs": [],
   "source": [
    "model = RNN(seq_length, hidden_size, vocab_size)"
   ]
  },
  {
   "cell_type": "code",
   "execution_count": 52,
   "metadata": {},
   "outputs": [
    {
     "name": "stdout",
     "output_type": "stream",
     "text": [
      "Epoch 1: 0 / 8094: 112.21590551173051\n",
      "Epoch 1: 1000 / 8094: 85.4800822212044\n",
      "Epoch 1: 2000 / 8094: 69.15924091057279\n",
      "Epoch 1: 3000 / 8094: 61.321604034208214\n",
      "Epoch 1: 4000 / 8094: 58.351825446648135\n",
      "Epoch 1: 5000 / 8094: 57.137323535328015\n",
      "Epoch 1: 6000 / 8094: 55.441738315764404\n",
      "Epoch 1: 7000 / 8094: 54.09266979721139\n",
      "Epoch 1: 8000 / 8094: 53.53038804333329\n"
     ]
    }
   ],
   "source": [
    "model.train(data, 'Adagrad', learning_rate, 1)"
   ]
  },
  {
   "cell_type": "code",
   "execution_count": 53,
   "metadata": {},
   "outputs": [
    {
     "data": {
      "image/png": "[encoded data removed]",
      "text/plain": [
       "<Figure size 432x288 with 1 Axes>"
      ]
     },
     "metadata": {
      "needs_background": "light"
     },
     "output_type": "display_data"
    }
   ],
   "source": [
    "model.plot_losses()"
   ]
  },
  {
   "cell_type": "code",
   "execution_count": 54,
   "metadata": {},
   "outputs": [
    {
     "name": "stdout",
     "output_type": "stream",
     "text": [
      "Gefeliciteerd  g\n",
      "\n",
      "  I mar j de d ban e  en N \" e e at wan i  I\n",
      "\n",
      "\n",
      "\n",
      "Om  Nie ee t ro at  H Zt d t. Gch n e   H aat  u \"V\n",
      " e aag ,\n",
      " e \" \n",
      "\n",
      "\n",
      ". \n",
      " Za se? aar c Taas Paan  m hge.\"\n",
      "\n",
      " Zoe an t   Hi t  \n",
      "\n",
      "\n",
      " aal Vi H \" J  W n e\n"
     ]
    }
   ],
   "source": [
    "prediction = model.predict('Gefeliciteerd', 200)\n",
    "print(''.join(prediction))"
   ]
  },
  {
   "cell_type": "code",
   "execution_count": null,
   "metadata": {},
   "outputs": [],
   "source": []
  },
  {
   "cell_type": "markdown",
   "metadata": {},
   "source": [
    "References:\n",
    "* Fundamentals of Recurrent Neural Network (RNN) and Long Short-Term Memory (LSTM) Network \tElsevier \"Physica D: Nonlinear Phenomena\" journal, Volume 404, March 2020: Special Issue on Machine Learning and Dynamical Systems (DOI: \t10.1016/j.physd.2019.132306)\n",
    "* https://www.kdnuggets.com/2020/07/rnn-deep-learning-sequential-data.html\n",
    "* https://gist.github.com/karpathy/d4dee566867f8291f086"
   ]
  },
  {
   "cell_type": "code",
   "execution_count": null,
   "metadata": {},
   "outputs": [],
   "source": []
  }
 ],
 "metadata": {
  "kernelspec": {
   "display_name": "Python 3",
   "language": "python",
   "name": "python3"
  },
  "language_info": {
   "codemirror_mode": {
    "name": "ipython",
    "version": 3
   },
   "file_extension": ".py",
   "mimetype": "text/x-python",
   "name": "python",
   "nbconvert_exporter": "python",
   "pygments_lexer": "ipython3",
   "version": "3.6.9"
  }
 },
 "nbformat": 4,
 "nbformat_minor": 2
}
