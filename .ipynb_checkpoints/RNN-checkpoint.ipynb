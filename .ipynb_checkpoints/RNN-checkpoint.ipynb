{
 "cells": [
  {
   "cell_type": "markdown",
   "metadata": {},
   "source": [
    "# RNN in Numpy\n",
    "\n",
    "Recurrent Neural Networks (RNN) are a class of Artificial Neural Networks that is extremely well equiped to process a sequence of inputs. Therefore, RNNs are usefull in time series. \n",
    "\n",
    "In this work, I created a RNN from scratch using Numpy. This RNN is based on Andrej Karpathy's char-rnn and will be the basis for a LSTM network. This network will be used to classify protein locations based on the amino acid sequence."
   ]
  },
  {
   "cell_type": "code",
   "execution_count": 1,
   "metadata": {},
   "outputs": [],
   "source": [
    "# First import numpy and matplotlib\n",
    "import numpy as np\n",
    "import matplotlib.pyplot as plt\n",
    "from module import Module"
   ]
  },
  {
   "cell_type": "code",
   "execution_count": 2,
   "metadata": {},
   "outputs": [],
   "source": [
    "# Random seed\n",
    "np.random.seed(420)"
   ]
  },
  {
   "cell_type": "code",
   "execution_count": 3,
   "metadata": {},
   "outputs": [],
   "source": [
    "# Open the training data and save some important variables. If you want to train on your own text, just change the .txt file in the data variable.\n",
    "#data = open('shakespeare.txt', 'r').read()\n",
    "data = open('nescio.txt', 'r').read()\n",
    "chars = list(set(data))\n",
    "data_size = len(data)\n",
    "vocab_size = len(chars)"
   ]
  },
  {
   "cell_type": "code",
   "execution_count": 4,
   "metadata": {},
   "outputs": [
    {
     "name": "stdout",
     "output_type": "stream",
     "text": [
      "Data set is length 201884\n",
      "Vocab set is length 88\n"
     ]
    }
   ],
   "source": [
    "print(f'Data set is length {data_size}')\n",
    "print(f'Vocab set is length {vocab_size}')"
   ]
  },
  {
   "cell_type": "code",
   "execution_count": 5,
   "metadata": {},
   "outputs": [],
   "source": [
    "# Simple character embedding\n",
    "char_to_idx = {char:i for i, char in enumerate(chars)}\n",
    "idx_to_char = {i:char for i, char in enumerate(chars)}"
   ]
  },
  {
   "cell_type": "code",
   "execution_count": 6,
   "metadata": {},
   "outputs": [],
   "source": [
    "# hyperparameters\n",
    "hidden_size = 100\n",
    "seq_length = 25\n",
    "learning_rate = 1e-1\n",
    "epochs = 10"
   ]
  },
  {
   "cell_type": "code",
   "execution_count": 7,
   "metadata": {},
   "outputs": [],
   "source": [
    "class RNN(Module):\n",
    "    r\"\"\" Simple recurrent neural network (RNN) class for an input sequence.\n",
    "    \n",
    "        This RNN initializes weight and gradients. And contains the forward\n",
    "        and backward pass. The network is optimized using Adagrad.\n",
    "        The train method is used to train the network.\n",
    "        \n",
    "        Parameters\n",
    "        ----------\n",
    "        seq_len : Number of layers connected to each others. \n",
    "        hidden_sz : The number of features in the hidden state h.\n",
    "        vocab_sz : The number of possible inputs and outputs.\n",
    "        \n",
    "        \n",
    "        Inputs (train)\n",
    "        --------------\n",
    "        data : Data used to train the network.\n",
    "        optimizer : The optimizer that is used to train the network.\n",
    "        lr : The learning rate used to train the network.\n",
    "        epochs : The number of epochs to train the network.\n",
    "        progress : If True, shows the progress of training the network.\n",
    "        \n",
    "        Inputs (predict)\n",
    "        ----------------\n",
    "        start : Start of a sentence that the network uses as initial sequence.\n",
    "        n : Length of the prediction.\n",
    "        \n",
    "        \n",
    "        Output (train)\n",
    "        --------------\n",
    "        smooth_loss : The loss of the current trained network.\n",
    "        Wxh, Whh, Why : Updated weights of the network due to training.\n",
    "        bh, by : Updated biases due to training.\n",
    "        \n",
    "        Output (predict)\n",
    "        ----------------\n",
    "        txt : A string that is predicted by the RNN.\n",
    "    \n",
    "    \"\"\"\n",
    "    \n",
    "    def __init__(self, seq_len, hidden_sz, vocab_sz):\n",
    "        self.weight_params = ['Wxh', 'Whh', 'Why', 'Bh', 'By']\n",
    "        self.hidden_params = ['hs']\n",
    "        \n",
    "        super().__init__(seq_len, hidden_sz, vocab_sz)\n",
    "        \n",
    "    def forward(self, xs, targets):\n",
    "        \"\"\"\n",
    "        Forward pass of the RNN\n",
    "        \"\"\"\n",
    "        \n",
    "        y_preds = {}\n",
    "\n",
    "        self.loss = 0\n",
    "\n",
    "        for i in range(len(xs)):\n",
    "            x = xs[i]\n",
    "            x_vec = np.zeros((self.vocab_sz, 1)) # vectorize the input\n",
    "            x_vec[x] = 1\n",
    "\n",
    "            # Calculate the new hidden, which is based on the input and the previous hidden layer\n",
    "            self.hidden['hs'][i] = np.tanh(np.dot(self.params['Wxh']['weight'], x_vec)\n",
    "                                + np.dot(self.params['Whh']['weight'], self.hidden['hs'][i - 1]) \n",
    "                                + self.params['Bh']['bias'])\n",
    "            # Predict y\n",
    "            y_preds[i] = np.dot(self.params['Why']['weight'], self.hidden['hs'][i]) + \\\n",
    "            self.params['By']['bias'] \n",
    "\n",
    "            self.sm_ps[i] = np.exp(y_preds[i]) / np.sum(np.exp(y_preds[i])) # Softmax probabilty\n",
    "            self.loss += -np.log(self.sm_ps[i][targets[i], 0]) #Negative loss likelyhood\n",
    "\n",
    "        self.hidden['hs'][-1] = self.hidden['hs'][len(xs) - 1]\n",
    "        \n",
    "    def backward(self, xs, targets):\n",
    "        \"\"\"\n",
    "        Backward pass of the RNN\n",
    "        \"\"\"\n",
    "        self.init_grads()\n",
    "    \n",
    "        # Initialize empty next hidden layer for the first backprop\n",
    "        dhnext = np.zeros_like(self.hidden['hs'][0])\n",
    "\n",
    "        for i in reversed(range(len(xs))):\n",
    "            # X to vector\n",
    "            x = xs[i]    \n",
    "            x_vec = np.zeros((vocab_size, 1))\n",
    "            x_vec[x] = 1\n",
    "\n",
    "            dy = np.copy(self.sm_ps[i])\n",
    "            dy[targets[i]] -= 1 # backprop into y. see http://cs231n.github.io/neural-networks-case-study/#grad if confused here\n",
    "\n",
    "            self.params['By']['grad'] += dy   \n",
    "            self.params['Why']['grad'] += np.dot(dy, self.hidden['hs'][i].T)\n",
    "            dh = np.dot(self.params['Why']['weight'].T, dy) + dhnext\n",
    "            dhraw = (1 - self.hidden['hs'][i] * self.hidden['hs'][i]) * dh  \n",
    "            self.params['Wxh']['grad'] += np.dot(dhraw, x_vec.T)\n",
    "            self.params['Whh']['grad'] += np.dot(dhraw, self.hidden['hs'][i-1].T)\n",
    "            self.params['Bh']['grad'] += dhraw\n",
    "            dhnext = np.dot(self.params['Whh']['weight'].T, dhraw)\n",
    "\n",
    "        # Clip to prevent exploding gradients\n",
    "        for dparam in self.params.keys():\n",
    "            np.clip(self.params[dparam]['grad'], -5, 5, out=self.params[dparam]['grad'])\n",
    "    \n",
    "    def predict(self, start, n):\n",
    "        \"\"\"\n",
    "        Predict a sequence of text based on a starting string.\n",
    "        \"\"\"\n",
    "        seed_idx = char_to_idx[start[-1]]\n",
    "        x = np.zeros((self.vocab_sz, 1))\n",
    "        x[seed_idx] = 1\n",
    "        \n",
    "        txt = [ch for ch in start]\n",
    "        \n",
    "        idxes = []\n",
    "        \n",
    "        h = self.hidden['hs'][-1]\n",
    "        \n",
    "        for i in range(n):\n",
    "            \n",
    "            # Calculate the hidden\n",
    "            h = np.tanh(np.dot(self.params['Wxh']['weight'], x) \\\n",
    "                        + np.dot(self.params['Whh']['weight'], h) \\\n",
    "                        + self.params['Bh']['bias'])\n",
    "            # Calculate y\n",
    "            y = np.dot(self.params['Why']['weight'], h) \\\n",
    "                + self.params['By']['bias']\n",
    "\n",
    "            sm_p = np.exp(y) / np.sum(np.exp(y)) # Softmax probabilty\n",
    "            # Determine character based on weighted probability (is using the softmax probability)\n",
    "            idx = np.random.choice(range(self.vocab_sz), p=sm_p.ravel())\n",
    "            idxes.append(idx)\n",
    "            \n",
    "            # Save X for next iteration\n",
    "            x = np.zeros((self.vocab_sz, 1))\n",
    "            x[idx] = 1\n",
    "            \n",
    "        prediction = [idx_to_char[idx] for idx in idxes]\n",
    "        \n",
    "        txt += prediction\n",
    "        \n",
    "        return txt"
   ]
  },
  {
   "cell_type": "code",
   "execution_count": 8,
   "metadata": {},
   "outputs": [],
   "source": [
    "model = RNN(seq_length, hidden_size, vocab_size)"
   ]
  },
  {
   "cell_type": "code",
   "execution_count": 9,
   "metadata": {},
   "outputs": [
    {
     "name": "stdout",
     "output_type": "stream",
     "text": [
      "Epoch 1: 0 / 8075: 111.93342366785433\n",
      "Epoch 1: 1000 / 8075: 86.47882974288451\n",
      "Epoch 1: 2000 / 8075: 70.36689002180466\n",
      "Epoch 1: 3000 / 8075: 62.50336903719722\n",
      "Epoch 1: 4000 / 8075: 59.452823330962644\n",
      "Epoch 1: 5000 / 8075: 58.30050695450537\n",
      "Epoch 1: 6000 / 8075: 56.591273721641514\n",
      "Epoch 1: 7000 / 8075: 55.048671025306085\n",
      "Epoch 1: 8000 / 8075: 54.617419396468165\n",
      "Epoch 2: 0 / 8075: 54.61366923142616\n",
      "Epoch 2: 1000 / 8075: 54.93752162963117\n",
      "Epoch 2: 2000 / 8075: 54.063101088008096\n",
      "Epoch 2: 3000 / 8075: 53.11729514067892\n",
      "Epoch 2: 4000 / 8075: 53.231788609237334\n",
      "Epoch 2: 5000 / 8075: 53.5888945610989\n",
      "Epoch 2: 6000 / 8075: 52.95400164258614\n",
      "Epoch 2: 7000 / 8075: 52.08979429148489\n",
      "Epoch 2: 8000 / 8075: 52.07476766685179\n"
     ]
    }
   ],
   "source": [
    "model.train(data, 'Adagrad', learning_rate, 2)"
   ]
  },
  {
   "cell_type": "code",
   "execution_count": 10,
   "metadata": {},
   "outputs": [
    {
     "data": {
      "image/png": "[encoded data removed]",
      "text/plain": [
       "<Figure size 432x288 with 1 Axes>"
      ]
     },
     "metadata": {
      "needs_background": "light"
     },
     "output_type": "display_data"
    }
   ],
   "source": [
    "model.plot_losses()"
   ]
  },
  {
   "cell_type": "code",
   "execution_count": 11,
   "metadata": {},
   "outputs": [
    {
     "name": "stdout",
     "output_type": "stream",
     "text": [
      "Gefeliciteerd, stomd\n",
      "moecd hand\n",
      "ij lij waar een van je hade 'n \n"
     ]
    }
   ],
   "source": [
    "prediction = model.predict('Gefeliciteerd', 50)\n",
    "print(''.join(prediction))"
   ]
  },
  {
   "cell_type": "markdown",
   "metadata": {},
   "source": [
    "References:\n",
    "* Fundamentals of Recurrent Neural Network (RNN) and Long Short-Term Memory (LSTM) Network \tElsevier \"Physica D: Nonlinear Phenomena\" journal, Volume 404, March 2020: Special Issue on Machine Learning and Dynamical Systems (DOI: \t10.1016/j.physd.2019.132306)\n",
    "* https://www.kdnuggets.com/2020/07/rnn-deep-learning-sequential-data.html\n",
    "* https://gist.github.com/karpathy/d4dee566867f8291f086"
   ]
  }
 ],
 "metadata": {
  "kernelspec": {
   "display_name": "Python 3",
   "language": "python",
   "name": "python3"
  },
  "language_info": {
   "codemirror_mode": {
    "name": "ipython",
    "version": 3
   },
   "file_extension": ".py",
   "mimetype": "text/x-python",
   "name": "python",
   "nbconvert_exporter": "python",
   "pygments_lexer": "ipython3",
   "version": "3.6.9"
  }
 },
 "nbformat": 4,
 "nbformat_minor": 2
}
